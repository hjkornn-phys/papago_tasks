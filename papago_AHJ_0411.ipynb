{
  "nbformat": 4,
  "nbformat_minor": 0,
  "metadata": {
    "colab": {
      "name": "papago_AHJ_0411.ipynb",
      "provenance": [],
      "collapsed_sections": [
        "432K4N9CLo_B",
        "vRZL17F-vDz7",
        "NFVL5OZQOy0o",
        "RC7QYNSqnfsv",
        "7zmXY97w4VAw",
        "vuKIb9jgE6mF",
        "a3jFuTfSFcLw",
        "S620xixScxyr",
        "kt9dRsQSCCBb",
        "GLuRlZVFKDT_"
      ]
    },
    "kernelspec": {
      "name": "python3",
      "display_name": "Python 3"
    },
    "language_info": {
      "name": "python"
    },
    "accelerator": "GPU"
  },
  "cells": [
    {
      "cell_type": "markdown",
      "source": [
        "# 딥러닝 테스트\n",
        "\n",
        "## seqence to sequence 예측\n",
        "N개 정도로 작은 데이터셋이므로 pretrained model의 도움을 받을 수 없습니다. 또한 어떤 corpus에서 추출된 문장인지와, source와 target 간의 관계를 모르기 때문에 데이터를 관찰해야 합니다."
      ],
      "metadata": {
        "id": "fQHPyvwZIO6_"
      }
    },
    {
      "cell_type": "markdown",
      "source": [
        "# EDA\n",
        "target과 source에 동일한 embedding을 활용할 수 있을지 판단하기 위해 데이터를 관찰합니다. 두 가지를 중점적으로 살펴봤습니다.\n",
        "\n",
        "* token_id가 겹치는지: id가 겹친다면 같은 token을 의미하는지 따져야 합니다.\n",
        "* 추가적으로 tokenize할 필요성이 있는지: 반복되는 subsequence가 많다면 추가적인 tokenization이 모델의 성능을 향상시킵니다.\n",
        " "
      ],
      "metadata": {
        "id": "432K4N9CLo_B"
      }
    },
    {
      "cell_type": "code",
      "execution_count": 1,
      "metadata": {
        "id": "KX6bUgW8Oh3G",
        "colab": {
          "base_uri": "https://localhost:8080/",
          "height": 424
        },
        "outputId": "2e7a0ec5-d996-4af0-9751-b8e21283497d"
      },
      "outputs": [
        {
          "output_type": "execute_result",
          "data": {
            "text/plain": [
              "                                          tokens_source\n",
              "0     601 52 584 342 416 271 68 311 584 342 68 33 20...\n",
              "1     140 227 437 95 437 68 200 95 437 68 157 584 68...\n",
              "2                             200 52 52 584 342 157 140\n",
              "3     78 311 68 52 584 78 33 342 140 437 95 68 105 3...\n",
              "4                      29 227 200 140 68 140 105 78 437\n",
              "...                                                 ...\n",
              "7255  140 227 105 35 68 200 95 437 200 68 105 35 68 ...\n",
              "7256                              202 68 105 95 584 157\n",
              "7257  271 584 68 311 584 342 68 227 200 156 437 68 2...\n",
              "7258                       52 584 78 33 416 437 140 437\n",
              "7259        35 140 584 33 68 619 105 52 619 105 157 402\n",
              "\n",
              "[7260 rows x 1 columns]"
            ],
            "text/html": [
              "\n",
              "  <div id=\"df-b070cf2a-3140-4e73-9a99-a0730255f70c\">\n",
              "    <div class=\"colab-df-container\">\n",
              "      <div>\n",
              "<style scoped>\n",
              "    .dataframe tbody tr th:only-of-type {\n",
              "        vertical-align: middle;\n",
              "    }\n",
              "\n",
              "    .dataframe tbody tr th {\n",
              "        vertical-align: top;\n",
              "    }\n",
              "\n",
              "    .dataframe thead th {\n",
              "        text-align: right;\n",
              "    }\n",
              "</style>\n",
              "<table border=\"1\" class=\"dataframe\">\n",
              "  <thead>\n",
              "    <tr style=\"text-align: right;\">\n",
              "      <th></th>\n",
              "      <th>tokens_source</th>\n",
              "    </tr>\n",
              "  </thead>\n",
              "  <tbody>\n",
              "    <tr>\n",
              "      <th>0</th>\n",
              "      <td>601 52 584 342 416 271 68 311 584 342 68 33 20...</td>\n",
              "    </tr>\n",
              "    <tr>\n",
              "      <th>1</th>\n",
              "      <td>140 227 437 95 437 68 200 95 437 68 157 584 68...</td>\n",
              "    </tr>\n",
              "    <tr>\n",
              "      <th>2</th>\n",
              "      <td>200 52 52 584 342 157 140</td>\n",
              "    </tr>\n",
              "    <tr>\n",
              "      <th>3</th>\n",
              "      <td>78 311 68 52 584 78 33 342 140 437 95 68 105 3...</td>\n",
              "    </tr>\n",
              "    <tr>\n",
              "      <th>4</th>\n",
              "      <td>29 227 200 140 68 140 105 78 437</td>\n",
              "    </tr>\n",
              "    <tr>\n",
              "      <th>...</th>\n",
              "      <td>...</td>\n",
              "    </tr>\n",
              "    <tr>\n",
              "      <th>7255</th>\n",
              "      <td>140 227 105 35 68 200 95 437 200 68 105 35 68 ...</td>\n",
              "    </tr>\n",
              "    <tr>\n",
              "      <th>7256</th>\n",
              "      <td>202 68 105 95 584 157</td>\n",
              "    </tr>\n",
              "    <tr>\n",
              "      <th>7257</th>\n",
              "      <td>271 584 68 311 584 342 68 227 200 156 437 68 2...</td>\n",
              "    </tr>\n",
              "    <tr>\n",
              "      <th>7258</th>\n",
              "      <td>52 584 78 33 416 437 140 437</td>\n",
              "    </tr>\n",
              "    <tr>\n",
              "      <th>7259</th>\n",
              "      <td>35 140 584 33 68 619 105 52 619 105 157 402</td>\n",
              "    </tr>\n",
              "  </tbody>\n",
              "</table>\n",
              "<p>7260 rows × 1 columns</p>\n",
              "</div>\n",
              "      <button class=\"colab-df-convert\" onclick=\"convertToInteractive('df-b070cf2a-3140-4e73-9a99-a0730255f70c')\"\n",
              "              title=\"Convert this dataframe to an interactive table.\"\n",
              "              style=\"display:none;\">\n",
              "        \n",
              "  <svg xmlns=\"http://www.w3.org/2000/svg\" height=\"24px\"viewBox=\"0 0 24 24\"\n",
              "       width=\"24px\">\n",
              "    <path d=\"M0 0h24v24H0V0z\" fill=\"none\"/>\n",
              "    <path d=\"M18.56 5.44l.94 2.06.94-2.06 2.06-.94-2.06-.94-.94-2.06-.94 2.06-2.06.94zm-11 1L8.5 8.5l.94-2.06 2.06-.94-2.06-.94L8.5 2.5l-.94 2.06-2.06.94zm10 10l.94 2.06.94-2.06 2.06-.94-2.06-.94-.94-2.06-.94 2.06-2.06.94z\"/><path d=\"M17.41 7.96l-1.37-1.37c-.4-.4-.92-.59-1.43-.59-.52 0-1.04.2-1.43.59L10.3 9.45l-7.72 7.72c-.78.78-.78 2.05 0 2.83L4 21.41c.39.39.9.59 1.41.59.51 0 1.02-.2 1.41-.59l7.78-7.78 2.81-2.81c.8-.78.8-2.07 0-2.86zM5.41 20L4 18.59l7.72-7.72 1.47 1.35L5.41 20z\"/>\n",
              "  </svg>\n",
              "      </button>\n",
              "      \n",
              "  <style>\n",
              "    .colab-df-container {\n",
              "      display:flex;\n",
              "      flex-wrap:wrap;\n",
              "      gap: 12px;\n",
              "    }\n",
              "\n",
              "    .colab-df-convert {\n",
              "      background-color: #E8F0FE;\n",
              "      border: none;\n",
              "      border-radius: 50%;\n",
              "      cursor: pointer;\n",
              "      display: none;\n",
              "      fill: #1967D2;\n",
              "      height: 32px;\n",
              "      padding: 0 0 0 0;\n",
              "      width: 32px;\n",
              "    }\n",
              "\n",
              "    .colab-df-convert:hover {\n",
              "      background-color: #E2EBFA;\n",
              "      box-shadow: 0px 1px 2px rgba(60, 64, 67, 0.3), 0px 1px 3px 1px rgba(60, 64, 67, 0.15);\n",
              "      fill: #174EA6;\n",
              "    }\n",
              "\n",
              "    [theme=dark] .colab-df-convert {\n",
              "      background-color: #3B4455;\n",
              "      fill: #D2E3FC;\n",
              "    }\n",
              "\n",
              "    [theme=dark] .colab-df-convert:hover {\n",
              "      background-color: #434B5C;\n",
              "      box-shadow: 0px 1px 3px 1px rgba(0, 0, 0, 0.15);\n",
              "      filter: drop-shadow(0px 1px 2px rgba(0, 0, 0, 0.3));\n",
              "      fill: #FFFFFF;\n",
              "    }\n",
              "  </style>\n",
              "\n",
              "      <script>\n",
              "        const buttonEl =\n",
              "          document.querySelector('#df-b070cf2a-3140-4e73-9a99-a0730255f70c button.colab-df-convert');\n",
              "        buttonEl.style.display =\n",
              "          google.colab.kernel.accessAllowed ? 'block' : 'none';\n",
              "\n",
              "        async function convertToInteractive(key) {\n",
              "          const element = document.querySelector('#df-b070cf2a-3140-4e73-9a99-a0730255f70c');\n",
              "          const dataTable =\n",
              "            await google.colab.kernel.invokeFunction('convertToInteractive',\n",
              "                                                     [key], {});\n",
              "          if (!dataTable) return;\n",
              "\n",
              "          const docLinkHtml = 'Like what you see? Visit the ' +\n",
              "            '<a target=\"_blank\" href=https://colab.research.google.com/notebooks/data_table.ipynb>data table notebook</a>'\n",
              "            + ' to learn more about interactive tables.';\n",
              "          element.innerHTML = '';\n",
              "          dataTable['output_type'] = 'display_data';\n",
              "          await google.colab.output.renderOutput(dataTable, element);\n",
              "          const docLink = document.createElement('div');\n",
              "          docLink.innerHTML = docLinkHtml;\n",
              "          element.appendChild(docLink);\n",
              "        }\n",
              "      </script>\n",
              "    </div>\n",
              "  </div>\n",
              "  "
            ]
          },
          "metadata": {},
          "execution_count": 1
        }
      ],
      "source": [
        "import pandas as pd\n",
        "PATH = \"/content/drive/MyDrive/2022취업/Naver-papago\"\n",
        "source = pd.read_csv(PATH + \"/train_source.txt\", sep=\"\\t\", names=[\"tokens_source\"])\n",
        "source"
      ]
    },
    {
      "cell_type": "code",
      "source": [
        "target = pd.read_csv(PATH + \"/train_target.txt\", sep=\"\\t\", names=[\"tokens_target\"])\n",
        "target"
      ],
      "metadata": {
        "colab": {
          "base_uri": "https://localhost:8080/",
          "height": 424
        },
        "id": "R8R02mKgJ5jK",
        "outputId": "cf56c7f5-5876-470c-b789-7b3ad4050a32"
      },
      "execution_count": 2,
      "outputs": [
        {
          "output_type": "execute_result",
          "data": {
            "text/plain": [
              "                                          tokens_target\n",
              "0     593 163 68 76 648 199 68 269 68 59 290 171 211...\n",
              "1     70 189 68 607 68 197 86 68 287 85 68 359 70 15...\n",
              "2                                       189 491 487 359\n",
              "3            43 158 68 431 187 299 68 158 108 68 89 487\n",
              "4                                        283 68 136 479\n",
              "...                                                 ...\n",
              "7255  19 85 68 343 189 211 189 68 158 108 68 321 240...\n",
              "7256                               59 67 68 607 158 390\n",
              "7257        370 68 5 68 81 68 201 258 68 640 542 118 85\n",
              "7258                                     431 64 211 359\n",
              "7259                                  85 379 68 363 178\n",
              "\n",
              "[7260 rows x 1 columns]"
            ],
            "text/html": [
              "\n",
              "  <div id=\"df-db8f3707-1742-4d0a-8fe2-02edc3f1cceb\">\n",
              "    <div class=\"colab-df-container\">\n",
              "      <div>\n",
              "<style scoped>\n",
              "    .dataframe tbody tr th:only-of-type {\n",
              "        vertical-align: middle;\n",
              "    }\n",
              "\n",
              "    .dataframe tbody tr th {\n",
              "        vertical-align: top;\n",
              "    }\n",
              "\n",
              "    .dataframe thead th {\n",
              "        text-align: right;\n",
              "    }\n",
              "</style>\n",
              "<table border=\"1\" class=\"dataframe\">\n",
              "  <thead>\n",
              "    <tr style=\"text-align: right;\">\n",
              "      <th></th>\n",
              "      <th>tokens_target</th>\n",
              "    </tr>\n",
              "  </thead>\n",
              "  <tbody>\n",
              "    <tr>\n",
              "      <th>0</th>\n",
              "      <td>593 163 68 76 648 199 68 269 68 59 290 171 211...</td>\n",
              "    </tr>\n",
              "    <tr>\n",
              "      <th>1</th>\n",
              "      <td>70 189 68 607 68 197 86 68 287 85 68 359 70 15...</td>\n",
              "    </tr>\n",
              "    <tr>\n",
              "      <th>2</th>\n",
              "      <td>189 491 487 359</td>\n",
              "    </tr>\n",
              "    <tr>\n",
              "      <th>3</th>\n",
              "      <td>43 158 68 431 187 299 68 158 108 68 89 487</td>\n",
              "    </tr>\n",
              "    <tr>\n",
              "      <th>4</th>\n",
              "      <td>283 68 136 479</td>\n",
              "    </tr>\n",
              "    <tr>\n",
              "      <th>...</th>\n",
              "      <td>...</td>\n",
              "    </tr>\n",
              "    <tr>\n",
              "      <th>7255</th>\n",
              "      <td>19 85 68 343 189 211 189 68 158 108 68 321 240...</td>\n",
              "    </tr>\n",
              "    <tr>\n",
              "      <th>7256</th>\n",
              "      <td>59 67 68 607 158 390</td>\n",
              "    </tr>\n",
              "    <tr>\n",
              "      <th>7257</th>\n",
              "      <td>370 68 5 68 81 68 201 258 68 640 542 118 85</td>\n",
              "    </tr>\n",
              "    <tr>\n",
              "      <th>7258</th>\n",
              "      <td>431 64 211 359</td>\n",
              "    </tr>\n",
              "    <tr>\n",
              "      <th>7259</th>\n",
              "      <td>85 379 68 363 178</td>\n",
              "    </tr>\n",
              "  </tbody>\n",
              "</table>\n",
              "<p>7260 rows × 1 columns</p>\n",
              "</div>\n",
              "      <button class=\"colab-df-convert\" onclick=\"convertToInteractive('df-db8f3707-1742-4d0a-8fe2-02edc3f1cceb')\"\n",
              "              title=\"Convert this dataframe to an interactive table.\"\n",
              "              style=\"display:none;\">\n",
              "        \n",
              "  <svg xmlns=\"http://www.w3.org/2000/svg\" height=\"24px\"viewBox=\"0 0 24 24\"\n",
              "       width=\"24px\">\n",
              "    <path d=\"M0 0h24v24H0V0z\" fill=\"none\"/>\n",
              "    <path d=\"M18.56 5.44l.94 2.06.94-2.06 2.06-.94-2.06-.94-.94-2.06-.94 2.06-2.06.94zm-11 1L8.5 8.5l.94-2.06 2.06-.94-2.06-.94L8.5 2.5l-.94 2.06-2.06.94zm10 10l.94 2.06.94-2.06 2.06-.94-2.06-.94-.94-2.06-.94 2.06-2.06.94z\"/><path d=\"M17.41 7.96l-1.37-1.37c-.4-.4-.92-.59-1.43-.59-.52 0-1.04.2-1.43.59L10.3 9.45l-7.72 7.72c-.78.78-.78 2.05 0 2.83L4 21.41c.39.39.9.59 1.41.59.51 0 1.02-.2 1.41-.59l7.78-7.78 2.81-2.81c.8-.78.8-2.07 0-2.86zM5.41 20L4 18.59l7.72-7.72 1.47 1.35L5.41 20z\"/>\n",
              "  </svg>\n",
              "      </button>\n",
              "      \n",
              "  <style>\n",
              "    .colab-df-container {\n",
              "      display:flex;\n",
              "      flex-wrap:wrap;\n",
              "      gap: 12px;\n",
              "    }\n",
              "\n",
              "    .colab-df-convert {\n",
              "      background-color: #E8F0FE;\n",
              "      border: none;\n",
              "      border-radius: 50%;\n",
              "      cursor: pointer;\n",
              "      display: none;\n",
              "      fill: #1967D2;\n",
              "      height: 32px;\n",
              "      padding: 0 0 0 0;\n",
              "      width: 32px;\n",
              "    }\n",
              "\n",
              "    .colab-df-convert:hover {\n",
              "      background-color: #E2EBFA;\n",
              "      box-shadow: 0px 1px 2px rgba(60, 64, 67, 0.3), 0px 1px 3px 1px rgba(60, 64, 67, 0.15);\n",
              "      fill: #174EA6;\n",
              "    }\n",
              "\n",
              "    [theme=dark] .colab-df-convert {\n",
              "      background-color: #3B4455;\n",
              "      fill: #D2E3FC;\n",
              "    }\n",
              "\n",
              "    [theme=dark] .colab-df-convert:hover {\n",
              "      background-color: #434B5C;\n",
              "      box-shadow: 0px 1px 3px 1px rgba(0, 0, 0, 0.15);\n",
              "      filter: drop-shadow(0px 1px 2px rgba(0, 0, 0, 0.3));\n",
              "      fill: #FFFFFF;\n",
              "    }\n",
              "  </style>\n",
              "\n",
              "      <script>\n",
              "        const buttonEl =\n",
              "          document.querySelector('#df-db8f3707-1742-4d0a-8fe2-02edc3f1cceb button.colab-df-convert');\n",
              "        buttonEl.style.display =\n",
              "          google.colab.kernel.accessAllowed ? 'block' : 'none';\n",
              "\n",
              "        async function convertToInteractive(key) {\n",
              "          const element = document.querySelector('#df-db8f3707-1742-4d0a-8fe2-02edc3f1cceb');\n",
              "          const dataTable =\n",
              "            await google.colab.kernel.invokeFunction('convertToInteractive',\n",
              "                                                     [key], {});\n",
              "          if (!dataTable) return;\n",
              "\n",
              "          const docLinkHtml = 'Like what you see? Visit the ' +\n",
              "            '<a target=\"_blank\" href=https://colab.research.google.com/notebooks/data_table.ipynb>data table notebook</a>'\n",
              "            + ' to learn more about interactive tables.';\n",
              "          element.innerHTML = '';\n",
              "          dataTable['output_type'] = 'display_data';\n",
              "          await google.colab.output.renderOutput(dataTable, element);\n",
              "          const docLink = document.createElement('div');\n",
              "          docLink.innerHTML = docLinkHtml;\n",
              "          element.appendChild(docLink);\n",
              "        }\n",
              "      </script>\n",
              "    </div>\n",
              "  </div>\n",
              "  "
            ]
          },
          "metadata": {},
          "execution_count": 2
        }
      ]
    },
    {
      "cell_type": "code",
      "source": [
        "def to_tkn_lst(x):\n",
        "    res = x.split()\n",
        "    res = [int(char) for char in res]\n",
        "    if not isinstance(res, list):\n",
        "        return [res]\n",
        "    return res"
      ],
      "metadata": {
        "id": "nGD7s2PpP3ZD"
      },
      "execution_count": 3,
      "outputs": []
    },
    {
      "cell_type": "code",
      "source": [
        "src = source['tokens_source'].apply(to_tkn_lst)  # token을 원소로 갖는 리스트로 변환합니다.\n",
        "tgt = target['tokens_target'].apply(to_tkn_lst)"
      ],
      "metadata": {
        "id": "b7jhSOYkLWUf"
      },
      "execution_count": 4,
      "outputs": []
    },
    {
      "cell_type": "code",
      "source": [
        "combined = pd.merge(src, tgt, left_index=True, right_index=True)\n",
        "combined.sort_values(by='tokens_source', inplace=True)"
      ],
      "metadata": {
        "id": "nILB2DleMZwH"
      },
      "execution_count": 5,
      "outputs": []
    },
    {
      "cell_type": "code",
      "source": [
        "combined"
      ],
      "metadata": {
        "colab": {
          "base_uri": "https://localhost:8080/",
          "height": 424
        },
        "id": "MC3nH7arNxnc",
        "outputId": "12143df7-62a8-4e5a-8421-d4df5b1d57a3"
      },
      "execution_count": 6,
      "outputs": [
        {
          "output_type": "execute_result",
          "data": {
            "text/plain": [
              "                                          tokens_source  \\\n",
              "4514                         [23, 105, 33, 33, 437, 95]   \n",
              "2577                     [29, 95, 200, 33, 68, 342, 33]   \n",
              "6900                            [29, 95, 584, 157, 402]   \n",
              "5015                            [29, 95, 584, 157, 402]   \n",
              "3800                            [29, 95, 584, 157, 402]   \n",
              "...                                                 ...   \n",
              "3085  [619, 584, 95, 437, 200, 157, 68, 304, 584, 58...   \n",
              "3233  [619, 584, 95, 437, 200, 157, 68, 402, 342, 10...   \n",
              "4848  [619, 584, 95, 437, 200, 157, 68, 437, 78, 263...   \n",
              "801                       [619, 584, 95, 437, 200, 327]   \n",
              "2974                      [619, 584, 95, 437, 200, 327]   \n",
              "\n",
              "                          tokens_target  \n",
              "4514                         [199, 290]  \n",
              "2577                     [391, 68, 640]  \n",
              "6900                              [124]  \n",
              "5015                              [124]  \n",
              "3800                              [124]  \n",
              "...                                 ...  \n",
              "3085       [36, 211, 390, 68, 182, 149]  \n",
              "3233  [36, 211, 315, 68, 408, 158, 108]  \n",
              "4848  [36, 211, 315, 68, 628, 247, 334]  \n",
              "801                      [36, 211, 607]  \n",
              "2974                     [36, 211, 607]  \n",
              "\n",
              "[7260 rows x 2 columns]"
            ],
            "text/html": [
              "\n",
              "  <div id=\"df-47f95bf9-b88d-4659-bfcb-2a194b78a330\">\n",
              "    <div class=\"colab-df-container\">\n",
              "      <div>\n",
              "<style scoped>\n",
              "    .dataframe tbody tr th:only-of-type {\n",
              "        vertical-align: middle;\n",
              "    }\n",
              "\n",
              "    .dataframe tbody tr th {\n",
              "        vertical-align: top;\n",
              "    }\n",
              "\n",
              "    .dataframe thead th {\n",
              "        text-align: right;\n",
              "    }\n",
              "</style>\n",
              "<table border=\"1\" class=\"dataframe\">\n",
              "  <thead>\n",
              "    <tr style=\"text-align: right;\">\n",
              "      <th></th>\n",
              "      <th>tokens_source</th>\n",
              "      <th>tokens_target</th>\n",
              "    </tr>\n",
              "  </thead>\n",
              "  <tbody>\n",
              "    <tr>\n",
              "      <th>4514</th>\n",
              "      <td>[23, 105, 33, 33, 437, 95]</td>\n",
              "      <td>[199, 290]</td>\n",
              "    </tr>\n",
              "    <tr>\n",
              "      <th>2577</th>\n",
              "      <td>[29, 95, 200, 33, 68, 342, 33]</td>\n",
              "      <td>[391, 68, 640]</td>\n",
              "    </tr>\n",
              "    <tr>\n",
              "      <th>6900</th>\n",
              "      <td>[29, 95, 584, 157, 402]</td>\n",
              "      <td>[124]</td>\n",
              "    </tr>\n",
              "    <tr>\n",
              "      <th>5015</th>\n",
              "      <td>[29, 95, 584, 157, 402]</td>\n",
              "      <td>[124]</td>\n",
              "    </tr>\n",
              "    <tr>\n",
              "      <th>3800</th>\n",
              "      <td>[29, 95, 584, 157, 402]</td>\n",
              "      <td>[124]</td>\n",
              "    </tr>\n",
              "    <tr>\n",
              "      <th>...</th>\n",
              "      <td>...</td>\n",
              "      <td>...</td>\n",
              "    </tr>\n",
              "    <tr>\n",
              "      <th>3085</th>\n",
              "      <td>[619, 584, 95, 437, 200, 157, 68, 304, 584, 58...</td>\n",
              "      <td>[36, 211, 390, 68, 182, 149]</td>\n",
              "    </tr>\n",
              "    <tr>\n",
              "      <th>3233</th>\n",
              "      <td>[619, 584, 95, 437, 200, 157, 68, 402, 342, 10...</td>\n",
              "      <td>[36, 211, 315, 68, 408, 158, 108]</td>\n",
              "    </tr>\n",
              "    <tr>\n",
              "      <th>4848</th>\n",
              "      <td>[619, 584, 95, 437, 200, 157, 68, 437, 78, 263...</td>\n",
              "      <td>[36, 211, 315, 68, 628, 247, 334]</td>\n",
              "    </tr>\n",
              "    <tr>\n",
              "      <th>801</th>\n",
              "      <td>[619, 584, 95, 437, 200, 327]</td>\n",
              "      <td>[36, 211, 607]</td>\n",
              "    </tr>\n",
              "    <tr>\n",
              "      <th>2974</th>\n",
              "      <td>[619, 584, 95, 437, 200, 327]</td>\n",
              "      <td>[36, 211, 607]</td>\n",
              "    </tr>\n",
              "  </tbody>\n",
              "</table>\n",
              "<p>7260 rows × 2 columns</p>\n",
              "</div>\n",
              "      <button class=\"colab-df-convert\" onclick=\"convertToInteractive('df-47f95bf9-b88d-4659-bfcb-2a194b78a330')\"\n",
              "              title=\"Convert this dataframe to an interactive table.\"\n",
              "              style=\"display:none;\">\n",
              "        \n",
              "  <svg xmlns=\"http://www.w3.org/2000/svg\" height=\"24px\"viewBox=\"0 0 24 24\"\n",
              "       width=\"24px\">\n",
              "    <path d=\"M0 0h24v24H0V0z\" fill=\"none\"/>\n",
              "    <path d=\"M18.56 5.44l.94 2.06.94-2.06 2.06-.94-2.06-.94-.94-2.06-.94 2.06-2.06.94zm-11 1L8.5 8.5l.94-2.06 2.06-.94-2.06-.94L8.5 2.5l-.94 2.06-2.06.94zm10 10l.94 2.06.94-2.06 2.06-.94-2.06-.94-.94-2.06-.94 2.06-2.06.94z\"/><path d=\"M17.41 7.96l-1.37-1.37c-.4-.4-.92-.59-1.43-.59-.52 0-1.04.2-1.43.59L10.3 9.45l-7.72 7.72c-.78.78-.78 2.05 0 2.83L4 21.41c.39.39.9.59 1.41.59.51 0 1.02-.2 1.41-.59l7.78-7.78 2.81-2.81c.8-.78.8-2.07 0-2.86zM5.41 20L4 18.59l7.72-7.72 1.47 1.35L5.41 20z\"/>\n",
              "  </svg>\n",
              "      </button>\n",
              "      \n",
              "  <style>\n",
              "    .colab-df-container {\n",
              "      display:flex;\n",
              "      flex-wrap:wrap;\n",
              "      gap: 12px;\n",
              "    }\n",
              "\n",
              "    .colab-df-convert {\n",
              "      background-color: #E8F0FE;\n",
              "      border: none;\n",
              "      border-radius: 50%;\n",
              "      cursor: pointer;\n",
              "      display: none;\n",
              "      fill: #1967D2;\n",
              "      height: 32px;\n",
              "      padding: 0 0 0 0;\n",
              "      width: 32px;\n",
              "    }\n",
              "\n",
              "    .colab-df-convert:hover {\n",
              "      background-color: #E2EBFA;\n",
              "      box-shadow: 0px 1px 2px rgba(60, 64, 67, 0.3), 0px 1px 3px 1px rgba(60, 64, 67, 0.15);\n",
              "      fill: #174EA6;\n",
              "    }\n",
              "\n",
              "    [theme=dark] .colab-df-convert {\n",
              "      background-color: #3B4455;\n",
              "      fill: #D2E3FC;\n",
              "    }\n",
              "\n",
              "    [theme=dark] .colab-df-convert:hover {\n",
              "      background-color: #434B5C;\n",
              "      box-shadow: 0px 1px 3px 1px rgba(0, 0, 0, 0.15);\n",
              "      filter: drop-shadow(0px 1px 2px rgba(0, 0, 0, 0.3));\n",
              "      fill: #FFFFFF;\n",
              "    }\n",
              "  </style>\n",
              "\n",
              "      <script>\n",
              "        const buttonEl =\n",
              "          document.querySelector('#df-47f95bf9-b88d-4659-bfcb-2a194b78a330 button.colab-df-convert');\n",
              "        buttonEl.style.display =\n",
              "          google.colab.kernel.accessAllowed ? 'block' : 'none';\n",
              "\n",
              "        async function convertToInteractive(key) {\n",
              "          const element = document.querySelector('#df-47f95bf9-b88d-4659-bfcb-2a194b78a330');\n",
              "          const dataTable =\n",
              "            await google.colab.kernel.invokeFunction('convertToInteractive',\n",
              "                                                     [key], {});\n",
              "          if (!dataTable) return;\n",
              "\n",
              "          const docLinkHtml = 'Like what you see? Visit the ' +\n",
              "            '<a target=\"_blank\" href=https://colab.research.google.com/notebooks/data_table.ipynb>data table notebook</a>'\n",
              "            + ' to learn more about interactive tables.';\n",
              "          element.innerHTML = '';\n",
              "          dataTable['output_type'] = 'display_data';\n",
              "          await google.colab.output.renderOutput(dataTable, element);\n",
              "          const docLink = document.createElement('div');\n",
              "          docLink.innerHTML = docLinkHtml;\n",
              "          element.appendChild(docLink);\n",
              "        }\n",
              "      </script>\n",
              "    </div>\n",
              "  </div>\n",
              "  "
            ]
          },
          "metadata": {},
          "execution_count": 6
        }
      ]
    },
    {
      "cell_type": "code",
      "source": [
        "import matplotlib.pyplot as plt\n",
        "import numpy as np\n",
        "\n",
        "\n",
        "src_len = [len(s) for s in combined['tokens_source']]\n",
        "tgt_len = [len(s) for s in combined['tokens_target']]\n",
        "\n",
        "print('src의 최소 길이 : {}'.format(np.min(src_len)))\n",
        "print('src의 최대 길이 : {}'.format(np.max(src_len)))\n",
        "print('src의 평균 길이 : {}'.format(np.mean(src_len)))\n",
        "print('tgt의 최소 길이 : {}'.format(np.min(tgt_len)))\n",
        "print('tgt의 최대 길이 : {}'.format(np.max(tgt_len)))\n",
        "print('tgt의 평균 길이 : {}'.format(np.mean(tgt_len)))\n",
        "\n",
        "plt.subplot(1,2,1)\n",
        "plt.boxplot(src_len)\n",
        "plt.title('source')\n",
        "plt.subplot(1,2,2)\n",
        "plt.boxplot(tgt_len)\n",
        "plt.title('target')\n",
        "plt.tight_layout()\n",
        "plt.show()\n",
        "\n",
        "plt.title('source')\n",
        "plt.hist(src_len, bins = 30, range=(1, 61))\n",
        "plt.xlabel('length of samples')\n",
        "plt.ylabel('number of samples')\n",
        "plt.show()\n",
        "\n",
        "plt.title('target')\n",
        "plt.hist(tgt_len, bins = 20, range=(1, 41))\n",
        "plt.xlabel('length of samples')\n",
        "plt.ylabel('number of samples')\n",
        "plt.show()\n",
        "\n",
        "plt.title('ratio')\n",
        "plt.hist([x/y for x,y in zip(src_len, tgt_len)], bins = 15, range=(1,3))\n",
        "plt.xlabel('length of samples')\n",
        "plt.ylabel('number of samples')\n",
        "plt.show()"
      ],
      "metadata": {
        "colab": {
          "base_uri": "https://localhost:8080/",
          "height": 1000
        },
        "id": "LfOlTS_ZPjZI",
        "outputId": "14e2878c-636e-4fd0-ba30-ef8e3b143948"
      },
      "execution_count": 7,
      "outputs": [
        {
          "output_type": "stream",
          "name": "stdout",
          "text": [
            "src의 최소 길이 : 2\n",
            "src의 최대 길이 : 81\n",
            "src의 평균 길이 : 18.985399449035814\n",
            "tgt의 최소 길이 : 1\n",
            "tgt의 최대 길이 : 54\n",
            "tgt의 평균 길이 : 10.051928374655647\n"
          ]
        },
        {
          "output_type": "display_data",
          "data": {
            "text/plain": [
              "<Figure size 432x288 with 2 Axes>"
            ],
            "image/png": "[encoded data removed]"
          },
          "metadata": {
            "needs_background": "light"
          }
        },
        {
          "output_type": "display_data",
          "data": {
            "text/plain": [
              "<Figure size 432x288 with 1 Axes>"
            ],
            "image/png": "[encoded data removed]"
          },
          "metadata": {
            "needs_background": "light"
          }
        },
        {
          "output_type": "display_data",
          "data": {
            "text/plain": [
              "<Figure size 432x288 with 1 Axes>"
            ],
            "image/png": "[encoded data removed]"
          },
          "metadata": {
            "needs_background": "light"
          }
        },
        {
          "output_type": "display_data",
          "data": {
            "text/plain": [
              "<Figure size 432x288 with 1 Axes>"
            ],
            "image/png": "[encoded data removed]"
          },
          "metadata": {
            "needs_background": "light"
          }
        }
      ]
    },
    {
      "cell_type": "code",
      "source": [
        "from collections import Counter\n",
        "\n",
        "src_head = [(str(s[0]) + \", \"  + str(s[1])) if len(s)>1 else (str(s[0]) + \",\" +'None') for s in combined['tokens_source']]\n",
        "tgt_head = [(str(s[0]) + \", \"  + str(s[1])) if len(s)>1 else (str(s[0]) + \",\" +'None') for s in combined['tokens_target']]\n",
        "\n",
        "src_count = Counter(src_head).most_common(20)\n",
        "tgt_count = Counter(tgt_head).most_common(20)\n",
        "\n",
        "\n",
        "plt.title('source head')\n",
        "plt.bar([x[0] for x in src_count], [x[1] for x in src_count])\n",
        "plt.xticks(rotation=45)\n",
        "plt.xlabel('heads')\n",
        "plt.ylabel('number of samples')\n",
        "plt.show()\n",
        "\n",
        "plt.title('target head')\n",
        "plt.bar([x[0] for x in tgt_count], [x[1] for x in tgt_count])\n",
        "plt.xticks(rotation=45)\n",
        "plt.xlabel('heads')\n",
        "plt.ylabel('number of samples')\n",
        "plt.show()"
      ],
      "metadata": {
        "colab": {
          "base_uri": "https://localhost:8080/",
          "height": 631
        },
        "id": "wftOvJtHZvl8",
        "outputId": "406096bc-4ac1-4e62-ac92-175325b500c9"
      },
      "execution_count": 8,
      "outputs": [
        {
          "output_type": "display_data",
          "data": {
            "text/plain": [
              "<Figure size 432x288 with 1 Axes>"
            ],
            "image/png": "[encoded data removed]"
          },
          "metadata": {
            "needs_background": "light"
          }
        },
        {
          "output_type": "display_data",
          "data": {
            "text/plain": [
              "<Figure size 432x288 with 1 Axes>"
            ],
            "image/png": "[encoded data removed]"
          },
          "metadata": {
            "needs_background": "light"
          }
        }
      ]
    },
    {
      "cell_type": "markdown",
      "source": [
        "# EDA 결과 - 겹치지 않는 vocabulary\n",
        "source와  target의 관계는 다음 중 하나라고 생각합니다.\n",
        "1. target은 source의 translation 결과이다. (pair corpus)\n",
        "2. source는 질문이고, target은 대답이다. (QA)\n",
        "3. source와 target은 언어가 아니다\n",
        "\n",
        "source의 vocab과 target의 vocab은 거의 겹치지 않는다는 사실을 발견했습니다.\n",
        "유일하게 겹치는 token은 '68'로, '68'의 source에서의 등장 위치가 target에서의 등장 위치의 약 두배임을 확인했습니다. 이 때, 한 쪽에서 '68'이 등장하면 다른 쪽에도 '68'이 등장할 확률이 99% 이상이고(5227개 기준), 한 쪽에서 '68'이 등장하지만 다른 쪽에서는 등장하지 않는 경우는 34개, 11개이므로 source와 target에서 같은 token으로 쓰였다고 봐야 합니다.\n",
        "\n",
        "결론적으로, source와 target에 대해 하나의 embedding matrix를 사용하더라도 문제가 발생하지 않습니다. target은 source의 translation 결과일 가능성이 높습니다. \n",
        "\n",
        "이 때 source의 vocab_size가 단 53개라는 점에서, source는 굉장히 제한된 상황의 자연어이거나, code 등의 인공어일 확률이 높다고 생각합니다. 이런 경우 pretrained model의 이점을 누리기 어려우므로, \n",
        "\n",
        "1. DL의 경우, 크기가 작은 transformer 모델을 사용\n",
        "2. ML의 경우, MCMC를 활용하여 transition을 유추\n",
        "3. COCO 등의 자연어 데이터 증강 툴을 이용하여 DA 수행\n",
        "\n",
        "등의 방법을 생각할 수 있습니다.\n",
        "\n",
        "어떤 경우든 데이터 포인트 간 중복되는 sub-sequence가 많아 sentencepiece로 재 토큰화하겠습니다."
      ],
      "metadata": {
        "id": "iRPKmps4VOVX"
      }
    },
    {
      "cell_type": "markdown",
      "source": [
        "# EDA 결과 - 재 토큰화\n",
        "\n",
        "## Convert to string and tokenize with SentencePiece\n",
        "\n",
        "Sentencepiece tokenizer는 내부적으로 Variational Inference를 활용하여 subword tokenization의 우선순위를 얻습니다. \n",
        "\n",
        "**Sentecepiece 관련 작성한 글**\n",
        "\n",
        "[Sentencepiece 알고리즘 설명](https://https://velog.io/@gibonki77/SentencePiece)\n",
        "\n",
        "[Variational Inference 튜토리얼](https://velog.io/@gibonki77/series/VariationalInference)\n",
        "\n",
        "[EM 알고리즘을 통한 최적화 방법](https://velog.io/@gibonki77/VI-2)\n",
        "\n",
        "중복되는 subsequence를 하나의 토큰으로 취급한다면 model이 transition을 더 잘 이해한다고 생각합니다. \n",
        "\n",
        "Senetencepiece는 문장을 입력으로 받도록 하는 구현체가 존재하고, 현재 입력을 바로 문자열로 넣는다면 하나의 숫자를 단어처럼 취급합니다. 이 경우 의미없는 tokenization이 됩니다.\n",
        "\n",
        "> ex) '103' -> '_1'. '03'\n",
        "\n",
        "이러한 문제를 해결하기 위해, 각 token_id를 서로 다른 \"한 음절 한글 글자\"로 변경했습니다.\n",
        "\n",
        "**특히, 양쪽에서 같은 역할을 한다고 판단한 '68'의 경우, 특수 토큰으로 추가해 model이 최대한 활용할 수 있도록 하였습니다.**\n",
        "\n",
        "> ex) '0' -> '가', '1' ->'각'\n",
        "\n",
        "> ex) '68' -> '오'\n",
        "\n",
        "\n",
        "한글 글자로 변환한 train_source와 train_target에 sentencepiece를 각각 적용해 subsequence token을 얻은 뒤, 다시 정수로 변환했습니다. \n",
        "![image.png](data:image/png;base64,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)\n",
        "\n",
        "## Revert token_id to integer\n",
        "정수 토큰으로 변환하는 과정에서 생각할 점이 여럿 있습니다. 특수 토큰(`BOS`, `EOS`, `'68'`)을 공통으로 사용해야 하고, token_id가  겹치면 안 됩니다. 이 문제는 기준 이상의 id에 source_vocab_size를 추가하는 방식으로 해결했습니다.\n",
        "\n",
        "![image.png](data:image/png;base64,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)\n",
        "\n"
      ],
      "metadata": {
        "id": "vRZL17F-vDz7"
      }
    },
    {
      "cell_type": "code",
      "source": [
        "vocab_src = set()\n",
        "vocab_tgt = set()"
      ],
      "metadata": {
        "id": "XJfv8Sw5TFzT"
      },
      "execution_count": 9,
      "outputs": []
    },
    {
      "cell_type": "code",
      "source": [
        "combined['tokens_source'].apply(lambda x: vocab_src.update(x))\n",
        "combined['tokens_target'].apply(lambda x: vocab_tgt.update(x))"
      ],
      "metadata": {
        "colab": {
          "base_uri": "https://localhost:8080/"
        },
        "id": "DyE2CT34v6NG",
        "outputId": "e7a0e1e8-b2bd-45f2-87f9-8b3de2f7db70"
      },
      "execution_count": 10,
      "outputs": [
        {
          "output_type": "execute_result",
          "data": {
            "text/plain": [
              "4514    None\n",
              "2577    None\n",
              "6900    None\n",
              "5015    None\n",
              "3800    None\n",
              "        ... \n",
              "3085    None\n",
              "3233    None\n",
              "4848    None\n",
              "801     None\n",
              "2974    None\n",
              "Name: tokens_target, Length: 7260, dtype: object"
            ]
          },
          "metadata": {},
          "execution_count": 10
        }
      ]
    },
    {
      "cell_type": "code",
      "source": [
        "print(f\"source vocab size: {len(vocab_src)}\")\n",
        "print(f\"target vocab size: {len(vocab_tgt)}\")\n",
        "\n",
        "\n",
        "print(f\"joint vocab size: {len(vocab_src.intersection(vocab_tgt))}\")\n",
        "\n",
        "print(f\"max token_id: {max(max(vocab_src), max(vocab_tgt))}\")\n",
        "vocab_src.intersection(vocab_tgt)"
      ],
      "metadata": {
        "colab": {
          "base_uri": "https://localhost:8080/"
        },
        "id": "NttpliX-weiY",
        "outputId": "869b0e0a-30a3-4455-d15b-f14887d31d90"
      },
      "execution_count": 11,
      "outputs": [
        {
          "output_type": "stream",
          "name": "stdout",
          "text": [
            "source vocab size: 53\n",
            "target vocab size: 595\n",
            "joint vocab size: 1\n",
            "max token_id: 658\n"
          ]
        },
        {
          "output_type": "execute_result",
          "data": {
            "text/plain": [
              "{68}"
            ]
          },
          "metadata": {},
          "execution_count": 11
        }
      ]
    },
    {
      "cell_type": "code",
      "source": [
        "vocab_tgt"
      ],
      "metadata": {
        "id": "5fO79JJN_s0R"
      },
      "execution_count": null,
      "outputs": []
    },
    {
      "cell_type": "code",
      "source": [
        "def custom_chr(x):\n",
        "    if not isinstance(x, int):\n",
        "        x = int(x) \n",
        "    if x == 68:\n",
        "        return '오'  # 특수 토큰\n",
        "    x = x + 0xAC00  # 한글로 변경\n",
        "    assert len(chr(x)) == 1 and chr(x)!='_'\n",
        "    return chr(x)"
      ],
      "metadata": {
        "id": "d81OWwhSwHsE"
      },
      "execution_count": 14,
      "outputs": []
    },
    {
      "cell_type": "code",
      "source": [
        "chr_tgt = set(map(custom_chr, vocab_tgt))\n",
        "chr_tgt"
      ],
      "metadata": {
        "id": "w8EKXqTpviMc",
        "colab": {
          "base_uri": "https://localhost:8080/"
        },
        "outputId": "ae64b48a-ef00-486b-c181-f7e8a8d730d5"
      },
      "execution_count": 15,
      "outputs": [
        {
          "output_type": "execute_result",
          "data": {
            "text/plain": [
              "{'가',\n",
              " '각',\n",
              " '갃',\n",
              " '간',\n",
              " '갅',\n",
              " '갆',\n",
              " '갇',\n",
              " '갈',\n",
              " '갉',\n",
              " '갊',\n",
              " '갋',\n",
              " '갌',\n",
              " '갍',\n",
              " '갎',\n",
              " '갏',\n",
              " '감',\n",
              " '갑',\n",
              " '값',\n",
              " '갓',\n",
              " '갔',\n",
              " '갖',\n",
              " '갘',\n",
              " '같',\n",
              " '갚',\n",
              " '갛',\n",
              " '개',\n",
              " '갞',\n",
              " '갟',\n",
              " '갠',\n",
              " '갢',\n",
              " '갤',\n",
              " '갥',\n",
              " '갦',\n",
              " '갧',\n",
              " '갩',\n",
              " '갪',\n",
              " '갫',\n",
              " '갬',\n",
              " '갭',\n",
              " '갮',\n",
              " '갯',\n",
              " '갰',\n",
              " '갱',\n",
              " '갲',\n",
              " '갳',\n",
              " '갵',\n",
              " '갶',\n",
              " '갷',\n",
              " '갸',\n",
              " '갺',\n",
              " '갻',\n",
              " '갼',\n",
              " '갽',\n",
              " '갾',\n",
              " '갿',\n",
              " '걀',\n",
              " '걁',\n",
              " '걂',\n",
              " '걃',\n",
              " '걅',\n",
              " '걆',\n",
              " '걇',\n",
              " '걈',\n",
              " '걊',\n",
              " '걋',\n",
              " '걌',\n",
              " '걍',\n",
              " '걏',\n",
              " '걐',\n",
              " '걑',\n",
              " '걒',\n",
              " '걔',\n",
              " '걕',\n",
              " '걖',\n",
              " '걗',\n",
              " '걘',\n",
              " '걙',\n",
              " '걚',\n",
              " '걛',\n",
              " '걝',\n",
              " '걞',\n",
              " '걠',\n",
              " '걡',\n",
              " '걢',\n",
              " '걣',\n",
              " '걤',\n",
              " '걥',\n",
              " '걦',\n",
              " '걨',\n",
              " '걪',\n",
              " '걫',\n",
              " '걬',\n",
              " '걮',\n",
              " '걯',\n",
              " '거',\n",
              " '걲',\n",
              " '걳',\n",
              " '건',\n",
              " '걵',\n",
              " '걶',\n",
              " '걷',\n",
              " '걸',\n",
              " '걹',\n",
              " '걺',\n",
              " '걻',\n",
              " '걼',\n",
              " '걽',\n",
              " '걾',\n",
              " '걿',\n",
              " '겁',\n",
              " '것',\n",
              " '겄',\n",
              " '겅',\n",
              " '겆',\n",
              " '겇',\n",
              " '겈',\n",
              " '겉',\n",
              " '겊',\n",
              " '겋',\n",
              " '겎',\n",
              " '겏',\n",
              " '겐',\n",
              " '겑',\n",
              " '겒',\n",
              " '겓',\n",
              " '겔',\n",
              " '겕',\n",
              " '겖',\n",
              " '겗',\n",
              " '겘',\n",
              " '겙',\n",
              " '겚',\n",
              " '겛',\n",
              " '겞',\n",
              " '겟',\n",
              " '겡',\n",
              " '겢',\n",
              " '겣',\n",
              " '겤',\n",
              " '겥',\n",
              " '겦',\n",
              " '겧',\n",
              " '겨',\n",
              " '격',\n",
              " '겪',\n",
              " '겫',\n",
              " '견',\n",
              " '겭',\n",
              " '겮',\n",
              " '겯',\n",
              " '결',\n",
              " '겱',\n",
              " '겲',\n",
              " '겳',\n",
              " '겴',\n",
              " '겵',\n",
              " '겶',\n",
              " '겷',\n",
              " '겸',\n",
              " '겹',\n",
              " '겺',\n",
              " '겻',\n",
              " '겼',\n",
              " '경',\n",
              " '겾',\n",
              " '겿',\n",
              " '곀',\n",
              " '곁',\n",
              " '곂',\n",
              " '곃',\n",
              " '계',\n",
              " '곅',\n",
              " '곆',\n",
              " '곇',\n",
              " '곉',\n",
              " '곋',\n",
              " '곌',\n",
              " '곍',\n",
              " '곎',\n",
              " '곏',\n",
              " '곐',\n",
              " '곑',\n",
              " '곒',\n",
              " '곓',\n",
              " '곔',\n",
              " '곕',\n",
              " '곖',\n",
              " '곗',\n",
              " '곘',\n",
              " '곙',\n",
              " '곚',\n",
              " '곛',\n",
              " '곜',\n",
              " '곝',\n",
              " '곞',\n",
              " '곟',\n",
              " '고',\n",
              " '곡',\n",
              " '곢',\n",
              " '곦',\n",
              " '곧',\n",
              " '골',\n",
              " '곩',\n",
              " '곪',\n",
              " '곫',\n",
              " '곬',\n",
              " '곭',\n",
              " '곮',\n",
              " '곯',\n",
              " '곰',\n",
              " '곱',\n",
              " '곲',\n",
              " '곳',\n",
              " '곴',\n",
              " '공',\n",
              " '곶',\n",
              " '곷',\n",
              " '곸',\n",
              " '곹',\n",
              " '곺',\n",
              " '곻',\n",
              " '과',\n",
              " '곽',\n",
              " '곾',\n",
              " '곿',\n",
              " '관',\n",
              " '괁',\n",
              " '괂',\n",
              " '괃',\n",
              " '괄',\n",
              " '괅',\n",
              " '괈',\n",
              " '괉',\n",
              " '괊',\n",
              " '괋',\n",
              " '괍',\n",
              " '괎',\n",
              " '괐',\n",
              " '광',\n",
              " '괒',\n",
              " '괓',\n",
              " '괔',\n",
              " '괕',\n",
              " '괖',\n",
              " '괗',\n",
              " '괘',\n",
              " '괙',\n",
              " '괚',\n",
              " '괛',\n",
              " '괜',\n",
              " '괝',\n",
              " '괞',\n",
              " '괟',\n",
              " '괠',\n",
              " '괢',\n",
              " '괣',\n",
              " '괤',\n",
              " '괥',\n",
              " '괦',\n",
              " '괧',\n",
              " '괨',\n",
              " '괩',\n",
              " '괪',\n",
              " '괫',\n",
              " '괬',\n",
              " '괭',\n",
              " '괮',\n",
              " '괯',\n",
              " '괱',\n",
              " '괲',\n",
              " '괳',\n",
              " '괵',\n",
              " '괶',\n",
              " '괸',\n",
              " '괹',\n",
              " '괺',\n",
              " '괻',\n",
              " '괼',\n",
              " '괽',\n",
              " '괾',\n",
              " '괿',\n",
              " '굁',\n",
              " '굂',\n",
              " '굃',\n",
              " '굄',\n",
              " '굆',\n",
              " '굈',\n",
              " '굉',\n",
              " '굊',\n",
              " '굋',\n",
              " '굍',\n",
              " '굎',\n",
              " '굏',\n",
              " '교',\n",
              " '굑',\n",
              " '굒',\n",
              " '굓',\n",
              " '굔',\n",
              " '굕',\n",
              " '굗',\n",
              " '굘',\n",
              " '굙',\n",
              " '굚',\n",
              " '굛',\n",
              " '굜',\n",
              " '굝',\n",
              " '굞',\n",
              " '굟',\n",
              " '굠',\n",
              " '굡',\n",
              " '굢',\n",
              " '굣',\n",
              " '굤',\n",
              " '굥',\n",
              " '굦',\n",
              " '굧',\n",
              " '굨',\n",
              " '굩',\n",
              " '굪',\n",
              " '굫',\n",
              " '구',\n",
              " '국',\n",
              " '굮',\n",
              " '굯',\n",
              " '군',\n",
              " '굲',\n",
              " '굳',\n",
              " '굴',\n",
              " '굵',\n",
              " '굶',\n",
              " '굷',\n",
              " '굸',\n",
              " '굹',\n",
              " '굺',\n",
              " '굻',\n",
              " '굼',\n",
              " '굽',\n",
              " '굿',\n",
              " '궀',\n",
              " '궁',\n",
              " '궂',\n",
              " '궃',\n",
              " '궄',\n",
              " '궅',\n",
              " '궆',\n",
              " '궇',\n",
              " '궈',\n",
              " '궉',\n",
              " '궊',\n",
              " '궋',\n",
              " '권',\n",
              " '궍',\n",
              " '궎',\n",
              " '궏',\n",
              " '궐',\n",
              " '궑',\n",
              " '궓',\n",
              " '궔',\n",
              " '궕',\n",
              " '궖',\n",
              " '궗',\n",
              " '궘',\n",
              " '궙',\n",
              " '궚',\n",
              " '궛',\n",
              " '궜',\n",
              " '궝',\n",
              " '궞',\n",
              " '궟',\n",
              " '궡',\n",
              " '궣',\n",
              " '궤',\n",
              " '궥',\n",
              " '궧',\n",
              " '궨',\n",
              " '궩',\n",
              " '궪',\n",
              " '궫',\n",
              " '궭',\n",
              " '궮',\n",
              " '궯',\n",
              " '궰',\n",
              " '궱',\n",
              " '궲',\n",
              " '궳',\n",
              " '궴',\n",
              " '궶',\n",
              " '궷',\n",
              " '궸',\n",
              " '궹',\n",
              " '궺',\n",
              " '궻',\n",
              " '궼',\n",
              " '궽',\n",
              " '궾',\n",
              " '궿',\n",
              " '귀',\n",
              " '귁',\n",
              " '귂',\n",
              " '귃',\n",
              " '귄',\n",
              " '귆',\n",
              " '귉',\n",
              " '귊',\n",
              " '귋',\n",
              " '귌',\n",
              " '귍',\n",
              " '귎',\n",
              " '귏',\n",
              " '귐',\n",
              " '귑',\n",
              " '귒',\n",
              " '귓',\n",
              " '귔',\n",
              " '귕',\n",
              " '귖',\n",
              " '귗',\n",
              " '귘',\n",
              " '귙',\n",
              " '귚',\n",
              " '귛',\n",
              " '규',\n",
              " '귞',\n",
              " '귟',\n",
              " '균',\n",
              " '귡',\n",
              " '귢',\n",
              " '귣',\n",
              " '귤',\n",
              " '귥',\n",
              " '귦',\n",
              " '귧',\n",
              " '귨',\n",
              " '귩',\n",
              " '귪',\n",
              " '귫',\n",
              " '귬',\n",
              " '귭',\n",
              " '귮',\n",
              " '귯',\n",
              " '귰',\n",
              " '귳',\n",
              " '귴',\n",
              " '귵',\n",
              " '귷',\n",
              " '그',\n",
              " '극',\n",
              " '귺',\n",
              " '귻',\n",
              " '근',\n",
              " '귽',\n",
              " '귾',\n",
              " '귿',\n",
              " '글',\n",
              " '긂',\n",
              " '긃',\n",
              " '긄',\n",
              " '긅',\n",
              " '긆',\n",
              " '긇',\n",
              " '금',\n",
              " '급',\n",
              " '긊',\n",
              " '긋',\n",
              " '긌',\n",
              " '긍',\n",
              " '긎',\n",
              " '긏',\n",
              " '긐',\n",
              " '긑',\n",
              " '긒',\n",
              " '긓',\n",
              " '긔',\n",
              " '긕',\n",
              " '긖',\n",
              " '긗',\n",
              " '긘',\n",
              " '긙',\n",
              " '긚',\n",
              " '긛',\n",
              " '긜',\n",
              " '긝',\n",
              " '긞',\n",
              " '긟',\n",
              " '긠',\n",
              " '긡',\n",
              " '긢',\n",
              " '긣',\n",
              " '긤',\n",
              " '긥',\n",
              " '긦',\n",
              " '긧',\n",
              " '긨',\n",
              " '긩',\n",
              " '긪',\n",
              " '긫',\n",
              " '긬',\n",
              " '긮',\n",
              " '긯',\n",
              " '기',\n",
              " '긱',\n",
              " '긲',\n",
              " '긳',\n",
              " '긴',\n",
              " '긵',\n",
              " '긶',\n",
              " '긷',\n",
              " '길',\n",
              " '긹',\n",
              " '긺',\n",
              " '긻',\n",
              " '긼',\n",
              " '긽',\n",
              " '긾',\n",
              " '김',\n",
              " '깁',\n",
              " '깂',\n",
              " '깃',\n",
              " '깄',\n",
              " '깅',\n",
              " '깆',\n",
              " '깇',\n",
              " '깉',\n",
              " '깊',\n",
              " '깋',\n",
              " '까',\n",
              " '깍',\n",
              " '깎',\n",
              " '깏',\n",
              " '깐',\n",
              " '깑',\n",
              " '깒',\n",
              " '깓',\n",
              " '깔',\n",
              " '깕',\n",
              " '깖',\n",
              " '깗',\n",
              " '깘',\n",
              " '깚',\n",
              " '깛',\n",
              " '깜',\n",
              " '깝',\n",
              " '깞',\n",
              " '깟',\n",
              " '깠',\n",
              " '깡',\n",
              " '깢',\n",
              " '깣',\n",
              " '깤',\n",
              " '깥',\n",
              " '깦',\n",
              " '깧',\n",
              " '깨',\n",
              " '깩',\n",
              " '깪',\n",
              " '깬',\n",
              " '깭',\n",
              " '깮',\n",
              " '깯',\n",
              " '깰',\n",
              " '깱',\n",
              " '깲',\n",
              " '깳',\n",
              " '깴',\n",
              " '깵',\n",
              " '깶',\n",
              " '깷',\n",
              " '깸',\n",
              " '깹',\n",
              " '깺',\n",
              " '깻',\n",
              " '깼',\n",
              " '깽',\n",
              " '깾',\n",
              " '깿',\n",
              " '꺀',\n",
              " '꺁',\n",
              " '꺂',\n",
              " '꺃',\n",
              " '꺄',\n",
              " '꺅',\n",
              " '꺆',\n",
              " '꺇',\n",
              " '꺈',\n",
              " '꺉',\n",
              " '꺊',\n",
              " '꺋',\n",
              " '꺌',\n",
              " '꺍',\n",
              " '꺎',\n",
              " '꺏',\n",
              " '꺐',\n",
              " '꺑',\n",
              " '꺒',\n",
              " '오'}"
            ]
          },
          "metadata": {},
          "execution_count": 15
        }
      ]
    },
    {
      "cell_type": "code",
      "source": [
        "chr_src = set(map(custom_chr, vocab_src))\n",
        "chr_src"
      ],
      "metadata": {
        "id": "7Zj2C1zKwe6V",
        "colab": {
          "base_uri": "https://localhost:8080/"
        },
        "outputId": "99239c10-66ed-496f-fba3-db778d1742fb"
      },
      "execution_count": 16,
      "outputs": [
        {
          "output_type": "execute_result",
          "data": {
            "text/plain": [
              "{'강',\n",
              " '갗',\n",
              " '객',\n",
              " '갡',\n",
              " '갣',\n",
              " '갨',\n",
              " '갴',\n",
              " '갹',\n",
              " '걉',\n",
              " '걎',\n",
              " '걓',\n",
              " '걜',\n",
              " '걟',\n",
              " '걧',\n",
              " '걩',\n",
              " '걭',\n",
              " '걱',\n",
              " '검',\n",
              " '겂',\n",
              " '게',\n",
              " '겜',\n",
              " '겝',\n",
              " '곈',\n",
              " '곊',\n",
              " '곣',\n",
              " '곤',\n",
              " '곥',\n",
              " '괇',\n",
              " '괌',\n",
              " '괏',\n",
              " '괡',\n",
              " '괰',\n",
              " '괷',\n",
              " '굀',\n",
              " '굇',\n",
              " '굖',\n",
              " '굱',\n",
              " '굾',\n",
              " '궒',\n",
              " '궠',\n",
              " '궵',\n",
              " '귅',\n",
              " '귇',\n",
              " '귈',\n",
              " '귱',\n",
              " '귲',\n",
              " '긁',\n",
              " '긭',\n",
              " '긿',\n",
              " '깈',\n",
              " '깙',\n",
              " '깫',\n",
              " '오'}"
            ]
          },
          "metadata": {},
          "execution_count": 16
        }
      ]
    },
    {
      "cell_type": "code",
      "source": [
        "chr_combined = pd.DataFrame()\n",
        "chr_combined['chr_source'] = combined['tokens_source'].apply(lambda x: ''.join([custom_chr(i) for i in x]))\n",
        "chr_combined['chr_target'] = combined['tokens_target'].apply(lambda x: ''.join([custom_chr(i) for i in x]))"
      ],
      "metadata": {
        "id": "u1UOI0O5NVLH"
      },
      "execution_count": 17,
      "outputs": []
    },
    {
      "cell_type": "code",
      "source": [
        "chr_combined"
      ],
      "metadata": {
        "colab": {
          "base_uri": "https://localhost:8080/",
          "height": 424
        },
        "id": "k_MytDy_TARj",
        "outputId": "5145c897-73bb-4cb6-e160-ba9fd8711d56"
      },
      "execution_count": 18,
      "outputs": [
        {
          "output_type": "execute_result",
          "data": {
            "text/plain": [
              "          chr_source chr_target\n",
              "4514          갗걩갡갡궵걟         곇괢\n",
              "2577         객걟곈갡오굖갡        궇오꺀\n",
              "6900           객걟깈겝궒          걼\n",
              "5015           객걟깈겝궒          걼\n",
              "3800           객걟깈겝궒          걼\n",
              "...              ...        ...\n",
              "3085     깫깈걟궵곈겝오괰깈깈괏     갤곓궆오겶겕\n",
              "3233   깫깈걟궵곈겝오궒굖걩괏궵갣    갤곓괻오궘겞걬\n",
              "4848  깫깈걟궵곈겝오궵걎괇곈갣갣괷    갤곓괻오깴곷굎\n",
              "801           깫깈걟궵곈굇        갤곓깟\n",
              "2974          깫깈걟궵곈굇        갤곓깟\n",
              "\n",
              "[7260 rows x 2 columns]"
            ],
            "text/html": [
              "\n",
              "  <div id=\"df-13e2170f-24af-496e-8de7-4bb851eb2b32\">\n",
              "    <div class=\"colab-df-container\">\n",
              "      <div>\n",
              "<style scoped>\n",
              "    .dataframe tbody tr th:only-of-type {\n",
              "        vertical-align: middle;\n",
              "    }\n",
              "\n",
              "    .dataframe tbody tr th {\n",
              "        vertical-align: top;\n",
              "    }\n",
              "\n",
              "    .dataframe thead th {\n",
              "        text-align: right;\n",
              "    }\n",
              "</style>\n",
              "<table border=\"1\" class=\"dataframe\">\n",
              "  <thead>\n",
              "    <tr style=\"text-align: right;\">\n",
              "      <th></th>\n",
              "      <th>chr_source</th>\n",
              "      <th>chr_target</th>\n",
              "    </tr>\n",
              "  </thead>\n",
              "  <tbody>\n",
              "    <tr>\n",
              "      <th>4514</th>\n",
              "      <td>갗걩갡갡궵걟</td>\n",
              "      <td>곇괢</td>\n",
              "    </tr>\n",
              "    <tr>\n",
              "      <th>2577</th>\n",
              "      <td>객걟곈갡오굖갡</td>\n",
              "      <td>궇오꺀</td>\n",
              "    </tr>\n",
              "    <tr>\n",
              "      <th>6900</th>\n",
              "      <td>객걟깈겝궒</td>\n",
              "      <td>걼</td>\n",
              "    </tr>\n",
              "    <tr>\n",
              "      <th>5015</th>\n",
              "      <td>객걟깈겝궒</td>\n",
              "      <td>걼</td>\n",
              "    </tr>\n",
              "    <tr>\n",
              "      <th>3800</th>\n",
              "      <td>객걟깈겝궒</td>\n",
              "      <td>걼</td>\n",
              "    </tr>\n",
              "    <tr>\n",
              "      <th>...</th>\n",
              "      <td>...</td>\n",
              "      <td>...</td>\n",
              "    </tr>\n",
              "    <tr>\n",
              "      <th>3085</th>\n",
              "      <td>깫깈걟궵곈겝오괰깈깈괏</td>\n",
              "      <td>갤곓궆오겶겕</td>\n",
              "    </tr>\n",
              "    <tr>\n",
              "      <th>3233</th>\n",
              "      <td>깫깈걟궵곈겝오궒굖걩괏궵갣</td>\n",
              "      <td>갤곓괻오궘겞걬</td>\n",
              "    </tr>\n",
              "    <tr>\n",
              "      <th>4848</th>\n",
              "      <td>깫깈걟궵곈겝오궵걎괇곈갣갣괷</td>\n",
              "      <td>갤곓괻오깴곷굎</td>\n",
              "    </tr>\n",
              "    <tr>\n",
              "      <th>801</th>\n",
              "      <td>깫깈걟궵곈굇</td>\n",
              "      <td>갤곓깟</td>\n",
              "    </tr>\n",
              "    <tr>\n",
              "      <th>2974</th>\n",
              "      <td>깫깈걟궵곈굇</td>\n",
              "      <td>갤곓깟</td>\n",
              "    </tr>\n",
              "  </tbody>\n",
              "</table>\n",
              "<p>7260 rows × 2 columns</p>\n",
              "</div>\n",
              "      <button class=\"colab-df-convert\" onclick=\"convertToInteractive('df-13e2170f-24af-496e-8de7-4bb851eb2b32')\"\n",
              "              title=\"Convert this dataframe to an interactive table.\"\n",
              "              style=\"display:none;\">\n",
              "        \n",
              "  <svg xmlns=\"http://www.w3.org/2000/svg\" height=\"24px\"viewBox=\"0 0 24 24\"\n",
              "       width=\"24px\">\n",
              "    <path d=\"M0 0h24v24H0V0z\" fill=\"none\"/>\n",
              "    <path d=\"M18.56 5.44l.94 2.06.94-2.06 2.06-.94-2.06-.94-.94-2.06-.94 2.06-2.06.94zm-11 1L8.5 8.5l.94-2.06 2.06-.94-2.06-.94L8.5 2.5l-.94 2.06-2.06.94zm10 10l.94 2.06.94-2.06 2.06-.94-2.06-.94-.94-2.06-.94 2.06-2.06.94z\"/><path d=\"M17.41 7.96l-1.37-1.37c-.4-.4-.92-.59-1.43-.59-.52 0-1.04.2-1.43.59L10.3 9.45l-7.72 7.72c-.78.78-.78 2.05 0 2.83L4 21.41c.39.39.9.59 1.41.59.51 0 1.02-.2 1.41-.59l7.78-7.78 2.81-2.81c.8-.78.8-2.07 0-2.86zM5.41 20L4 18.59l7.72-7.72 1.47 1.35L5.41 20z\"/>\n",
              "  </svg>\n",
              "      </button>\n",
              "      \n",
              "  <style>\n",
              "    .colab-df-container {\n",
              "      display:flex;\n",
              "      flex-wrap:wrap;\n",
              "      gap: 12px;\n",
              "    }\n",
              "\n",
              "    .colab-df-convert {\n",
              "      background-color: #E8F0FE;\n",
              "      border: none;\n",
              "      border-radius: 50%;\n",
              "      cursor: pointer;\n",
              "      display: none;\n",
              "      fill: #1967D2;\n",
              "      height: 32px;\n",
              "      padding: 0 0 0 0;\n",
              "      width: 32px;\n",
              "    }\n",
              "\n",
              "    .colab-df-convert:hover {\n",
              "      background-color: #E2EBFA;\n",
              "      box-shadow: 0px 1px 2px rgba(60, 64, 67, 0.3), 0px 1px 3px 1px rgba(60, 64, 67, 0.15);\n",
              "      fill: #174EA6;\n",
              "    }\n",
              "\n",
              "    [theme=dark] .colab-df-convert {\n",
              "      background-color: #3B4455;\n",
              "      fill: #D2E3FC;\n",
              "    }\n",
              "\n",
              "    [theme=dark] .colab-df-convert:hover {\n",
              "      background-color: #434B5C;\n",
              "      box-shadow: 0px 1px 3px 1px rgba(0, 0, 0, 0.15);\n",
              "      filter: drop-shadow(0px 1px 2px rgba(0, 0, 0, 0.3));\n",
              "      fill: #FFFFFF;\n",
              "    }\n",
              "  </style>\n",
              "\n",
              "      <script>\n",
              "        const buttonEl =\n",
              "          document.querySelector('#df-13e2170f-24af-496e-8de7-4bb851eb2b32 button.colab-df-convert');\n",
              "        buttonEl.style.display =\n",
              "          google.colab.kernel.accessAllowed ? 'block' : 'none';\n",
              "\n",
              "        async function convertToInteractive(key) {\n",
              "          const element = document.querySelector('#df-13e2170f-24af-496e-8de7-4bb851eb2b32');\n",
              "          const dataTable =\n",
              "            await google.colab.kernel.invokeFunction('convertToInteractive',\n",
              "                                                     [key], {});\n",
              "          if (!dataTable) return;\n",
              "\n",
              "          const docLinkHtml = 'Like what you see? Visit the ' +\n",
              "            '<a target=\"_blank\" href=https://colab.research.google.com/notebooks/data_table.ipynb>data table notebook</a>'\n",
              "            + ' to learn more about interactive tables.';\n",
              "          element.innerHTML = '';\n",
              "          dataTable['output_type'] = 'display_data';\n",
              "          await google.colab.output.renderOutput(dataTable, element);\n",
              "          const docLink = document.createElement('div');\n",
              "          docLink.innerHTML = docLinkHtml;\n",
              "          element.appendChild(docLink);\n",
              "        }\n",
              "      </script>\n",
              "    </div>\n",
              "  </div>\n",
              "  "
            ]
          },
          "metadata": {},
          "execution_count": 18
        }
      ]
    },
    {
      "cell_type": "markdown",
      "source": [
        "## SPM model\n",
        "\n",
        "sentencepiece를 사용하기 위해 txt 파일로 저장합니다."
      ],
      "metadata": {
        "id": "NFVL5OZQOy0o"
      }
    },
    {
      "cell_type": "code",
      "source": [
        "with open(PATH+'/spm_txt/chr_src.txt','w') as w:\n",
        "    w.write('\\n'.join(chr_combined['chr_source']))\n",
        "with open(PATH+'/spm_txt/chr_tgt.txt','w') as w:\n",
        "    w.write('\\n'.join(chr_combined['chr_target']))"
      ],
      "metadata": {
        "id": "DafnMZaQTR7k"
      },
      "execution_count": 19,
      "outputs": []
    },
    {
      "cell_type": "code",
      "source": [
        "!pip install sentencepiece"
      ],
      "metadata": {
        "colab": {
          "base_uri": "https://localhost:8080/"
        },
        "id": "jAa6t8R0wh2J",
        "outputId": "862c1c99-680d-4982-d73d-19deaf1ecfbd"
      },
      "execution_count": 20,
      "outputs": [
        {
          "output_type": "stream",
          "name": "stdout",
          "text": [
            "Requirement already satisfied: sentencepiece in /usr/local/lib/python3.7/dist-packages (0.1.96)\n"
          ]
        }
      ]
    },
    {
      "cell_type": "code",
      "source": [
        "import sentencepiece as spm"
      ],
      "metadata": {
        "id": "khk7ahNw-gqY"
      },
      "execution_count": 21,
      "outputs": []
    },
    {
      "cell_type": "code",
      "source": [
        "def spm_train(txt_path, prefix, size):\n",
        "\n",
        "    templates= '--input={} \\\n",
        "    --pad_id={} \\\n",
        "    --bos_id={} \\\n",
        "    --eos_id={} \\\n",
        "    --unk_id={} \\\n",
        "    --model_prefix={} \\\n",
        "    --vocab_size={} \\\n",
        "    --character_coverage={} \\\n",
        "    --model_type={} \\\n",
        "    --user_defined_symbols={} \\\n",
        "    --split_by_whitespace=false'\n",
        "\n",
        "\n",
        "    train_input_file = PATH + '/spm_txt'+ f'/{txt_path}'\n",
        "    pad_id = 0  # <pad>\n",
        "    vocab_size = size  # vocab size\n",
        "    prefix =  PATH + '/spm_models' +  f'/{prefix}'\n",
        "    bos_id = 1 # <start> token\n",
        "    eos_id = 2 # <end> token\n",
        "    unk_id = 3 # <unknown> token\n",
        "    character_coverage = 1.0 # 보통 1\n",
        "    model_type = 'unigram' # Choose from unigram (default), bpe, char, or word\n",
        "    user_words ='오'\n",
        "\n",
        "\n",
        "    cmd = templates.format(train_input_file,\n",
        "                    pad_id,\n",
        "                    bos_id,\n",
        "                    eos_id,\n",
        "                    unk_id,\n",
        "                    prefix,\n",
        "                    vocab_size,\n",
        "                    character_coverage,\n",
        "                    model_type,\n",
        "                    user_words\n",
        "                    )\n",
        "    \n",
        "    spm.SentencePieceTrainer.Train(cmd)"
      ],
      "metadata": {
        "id": "rLtMq6c1-l2N"
      },
      "execution_count": 22,
      "outputs": []
    },
    {
      "cell_type": "code",
      "source": [
        "spm_train('chr_src.txt', 're_tokenize_src', 225)  # 225"
      ],
      "metadata": {
        "id": "EUGcoJi0ANai"
      },
      "execution_count": 23,
      "outputs": []
    },
    {
      "cell_type": "code",
      "source": [
        "TGT_VOCAB = 1100\n",
        "spm_train('chr_tgt.txt', 're_tokenize_tgt',1100)  # 1100"
      ],
      "metadata": {
        "id": "f24xTtgQjs9g"
      },
      "execution_count": 24,
      "outputs": []
    },
    {
      "cell_type": "markdown",
      "source": [
        "## sp_src"
      ],
      "metadata": {
        "id": "E8HZYb5jkwhk"
      }
    },
    {
      "cell_type": "code",
      "source": [
        "pd.read_csv(PATH + '/spm_models/re_tokenize_src.vocab', names=['token', 'loss'], delimiter = '\\t')"
      ],
      "metadata": {
        "colab": {
          "base_uri": "https://localhost:8080/",
          "height": 424
        },
        "id": "VSbHnWOvDKVD",
        "outputId": "97c1167d-a79a-4d15-af22-dd4088333dbf"
      },
      "execution_count": 25,
      "outputs": [
        {
          "output_type": "execute_result",
          "data": {
            "text/plain": [
              "     token     loss\n",
              "0    <pad>   0.0000\n",
              "1      <s>   0.0000\n",
              "2     </s>   0.0000\n",
              "3    <unk>   0.0000\n",
              "4        오   0.0000\n",
              "..     ...      ...\n",
              "220      굱 -11.9833\n",
              "221      걓 -11.9834\n",
              "222      곥 -11.9834\n",
              "223      굾 -11.9834\n",
              "224      긿 -11.9834\n",
              "\n",
              "[225 rows x 2 columns]"
            ],
            "text/html": [
              "\n",
              "  <div id=\"df-af8097c9-dedc-44c6-aeec-b5127fd3532b\">\n",
              "    <div class=\"colab-df-container\">\n",
              "      <div>\n",
              "<style scoped>\n",
              "    .dataframe tbody tr th:only-of-type {\n",
              "        vertical-align: middle;\n",
              "    }\n",
              "\n",
              "    .dataframe tbody tr th {\n",
              "        vertical-align: top;\n",
              "    }\n",
              "\n",
              "    .dataframe thead th {\n",
              "        text-align: right;\n",
              "    }\n",
              "</style>\n",
              "<table border=\"1\" class=\"dataframe\">\n",
              "  <thead>\n",
              "    <tr style=\"text-align: right;\">\n",
              "      <th></th>\n",
              "      <th>token</th>\n",
              "      <th>loss</th>\n",
              "    </tr>\n",
              "  </thead>\n",
              "  <tbody>\n",
              "    <tr>\n",
              "      <th>0</th>\n",
              "      <td>&lt;pad&gt;</td>\n",
              "      <td>0.0000</td>\n",
              "    </tr>\n",
              "    <tr>\n",
              "      <th>1</th>\n",
              "      <td>&lt;s&gt;</td>\n",
              "      <td>0.0000</td>\n",
              "    </tr>\n",
              "    <tr>\n",
              "      <th>2</th>\n",
              "      <td>&lt;/s&gt;</td>\n",
              "      <td>0.0000</td>\n",
              "    </tr>\n",
              "    <tr>\n",
              "      <th>3</th>\n",
              "      <td>&lt;unk&gt;</td>\n",
              "      <td>0.0000</td>\n",
              "    </tr>\n",
              "    <tr>\n",
              "      <th>4</th>\n",
              "      <td>오</td>\n",
              "      <td>0.0000</td>\n",
              "    </tr>\n",
              "    <tr>\n",
              "      <th>...</th>\n",
              "      <td>...</td>\n",
              "      <td>...</td>\n",
              "    </tr>\n",
              "    <tr>\n",
              "      <th>220</th>\n",
              "      <td>굱</td>\n",
              "      <td>-11.9833</td>\n",
              "    </tr>\n",
              "    <tr>\n",
              "      <th>221</th>\n",
              "      <td>걓</td>\n",
              "      <td>-11.9834</td>\n",
              "    </tr>\n",
              "    <tr>\n",
              "      <th>222</th>\n",
              "      <td>곥</td>\n",
              "      <td>-11.9834</td>\n",
              "    </tr>\n",
              "    <tr>\n",
              "      <th>223</th>\n",
              "      <td>굾</td>\n",
              "      <td>-11.9834</td>\n",
              "    </tr>\n",
              "    <tr>\n",
              "      <th>224</th>\n",
              "      <td>긿</td>\n",
              "      <td>-11.9834</td>\n",
              "    </tr>\n",
              "  </tbody>\n",
              "</table>\n",
              "<p>225 rows × 2 columns</p>\n",
              "</div>\n",
              "      <button class=\"colab-df-convert\" onclick=\"convertToInteractive('df-af8097c9-dedc-44c6-aeec-b5127fd3532b')\"\n",
              "              title=\"Convert this dataframe to an interactive table.\"\n",
              "              style=\"display:none;\">\n",
              "        \n",
              "  <svg xmlns=\"http://www.w3.org/2000/svg\" height=\"24px\"viewBox=\"0 0 24 24\"\n",
              "       width=\"24px\">\n",
              "    <path d=\"M0 0h24v24H0V0z\" fill=\"none\"/>\n",
              "    <path d=\"M18.56 5.44l.94 2.06.94-2.06 2.06-.94-2.06-.94-.94-2.06-.94 2.06-2.06.94zm-11 1L8.5 8.5l.94-2.06 2.06-.94-2.06-.94L8.5 2.5l-.94 2.06-2.06.94zm10 10l.94 2.06.94-2.06 2.06-.94-2.06-.94-.94-2.06-.94 2.06-2.06.94z\"/><path d=\"M17.41 7.96l-1.37-1.37c-.4-.4-.92-.59-1.43-.59-.52 0-1.04.2-1.43.59L10.3 9.45l-7.72 7.72c-.78.78-.78 2.05 0 2.83L4 21.41c.39.39.9.59 1.41.59.51 0 1.02-.2 1.41-.59l7.78-7.78 2.81-2.81c.8-.78.8-2.07 0-2.86zM5.41 20L4 18.59l7.72-7.72 1.47 1.35L5.41 20z\"/>\n",
              "  </svg>\n",
              "      </button>\n",
              "      \n",
              "  <style>\n",
              "    .colab-df-container {\n",
              "      display:flex;\n",
              "      flex-wrap:wrap;\n",
              "      gap: 12px;\n",
              "    }\n",
              "\n",
              "    .colab-df-convert {\n",
              "      background-color: #E8F0FE;\n",
              "      border: none;\n",
              "      border-radius: 50%;\n",
              "      cursor: pointer;\n",
              "      display: none;\n",
              "      fill: #1967D2;\n",
              "      height: 32px;\n",
              "      padding: 0 0 0 0;\n",
              "      width: 32px;\n",
              "    }\n",
              "\n",
              "    .colab-df-convert:hover {\n",
              "      background-color: #E2EBFA;\n",
              "      box-shadow: 0px 1px 2px rgba(60, 64, 67, 0.3), 0px 1px 3px 1px rgba(60, 64, 67, 0.15);\n",
              "      fill: #174EA6;\n",
              "    }\n",
              "\n",
              "    [theme=dark] .colab-df-convert {\n",
              "      background-color: #3B4455;\n",
              "      fill: #D2E3FC;\n",
              "    }\n",
              "\n",
              "    [theme=dark] .colab-df-convert:hover {\n",
              "      background-color: #434B5C;\n",
              "      box-shadow: 0px 1px 3px 1px rgba(0, 0, 0, 0.15);\n",
              "      filter: drop-shadow(0px 1px 2px rgba(0, 0, 0, 0.3));\n",
              "      fill: #FFFFFF;\n",
              "    }\n",
              "  </style>\n",
              "\n",
              "      <script>\n",
              "        const buttonEl =\n",
              "          document.querySelector('#df-af8097c9-dedc-44c6-aeec-b5127fd3532b button.colab-df-convert');\n",
              "        buttonEl.style.display =\n",
              "          google.colab.kernel.accessAllowed ? 'block' : 'none';\n",
              "\n",
              "        async function convertToInteractive(key) {\n",
              "          const element = document.querySelector('#df-af8097c9-dedc-44c6-aeec-b5127fd3532b');\n",
              "          const dataTable =\n",
              "            await google.colab.kernel.invokeFunction('convertToInteractive',\n",
              "                                                     [key], {});\n",
              "          if (!dataTable) return;\n",
              "\n",
              "          const docLinkHtml = 'Like what you see? Visit the ' +\n",
              "            '<a target=\"_blank\" href=https://colab.research.google.com/notebooks/data_table.ipynb>data table notebook</a>'\n",
              "            + ' to learn more about interactive tables.';\n",
              "          element.innerHTML = '';\n",
              "          dataTable['output_type'] = 'display_data';\n",
              "          await google.colab.output.renderOutput(dataTable, element);\n",
              "          const docLink = document.createElement('div');\n",
              "          docLink.innerHTML = docLinkHtml;\n",
              "          element.appendChild(docLink);\n",
              "        }\n",
              "      </script>\n",
              "    </div>\n",
              "  </div>\n",
              "  "
            ]
          },
          "metadata": {},
          "execution_count": 25
        }
      ]
    },
    {
      "cell_type": "code",
      "source": [
        "sp_src = spm.SentencePieceProcessor()\n",
        "vocab_file = PATH + '/spm_models/re_tokenize_src.model'\n",
        "sp_src.load(vocab_file)"
      ],
      "metadata": {
        "colab": {
          "base_uri": "https://localhost:8080/"
        },
        "id": "pUMJrPS9XLR5",
        "outputId": "1942a005-ae32-4f75-f7d4-4a69e37d69ce"
      },
      "execution_count": 26,
      "outputs": [
        {
          "output_type": "execute_result",
          "data": {
            "text/plain": [
              "True"
            ]
          },
          "metadata": {},
          "execution_count": 26
        }
      ]
    },
    {
      "cell_type": "code",
      "source": [
        "sp_src.encode_as_ids(\"깫깈걟궵곈겝오궵걎괇곈갣갣괷\") # 뒤에서 3번째 (-3)"
      ],
      "metadata": {
        "colab": {
          "base_uri": "https://localhost:8080/"
        },
        "id": "DXGjNzelXwUu",
        "outputId": "5ace9591-5ebb-4e3f-8b8d-e6006a80568a"
      },
      "execution_count": 27,
      "outputs": [
        {
          "output_type": "execute_result",
          "data": {
            "text/plain": [
              "[6, 35, 53, 5, 44, 4, 5, 12, 21, 72, 7, 27]"
            ]
          },
          "metadata": {},
          "execution_count": 27
        }
      ]
    },
    {
      "cell_type": "markdown",
      "source": [
        "## sp_tgt"
      ],
      "metadata": {
        "id": "uC60djOIk14L"
      }
    },
    {
      "cell_type": "code",
      "source": [
        "pd.read_csv(PATH + '/spm_models/re_tokenize_tgt.vocab', names=['token', 'loss'], delimiter = '\\t')"
      ],
      "metadata": {
        "colab": {
          "base_uri": "https://localhost:8080/",
          "height": 424
        },
        "id": "cuykdA-nk30w",
        "outputId": "8ae05a91-a985-45b7-be1c-a19eddcafce1"
      },
      "execution_count": 28,
      "outputs": [
        {
          "output_type": "execute_result",
          "data": {
            "text/plain": [
              "      token     loss\n",
              "0     <pad>   0.0000\n",
              "1       <s>   0.0000\n",
              "2      </s>   0.0000\n",
              "3     <unk>   0.0000\n",
              "4         오   0.0000\n",
              "...     ...      ...\n",
              "1095      궲 -11.5687\n",
              "1096      금 -11.5687\n",
              "1097      깨 -11.5687\n",
              "1098      궶 -11.5687\n",
              "1099      꺐 -11.5687\n",
              "\n",
              "[1100 rows x 2 columns]"
            ],
            "text/html": [
              "\n",
              "  <div id=\"df-749602ff-8a89-4d03-bd9e-cf9ea327ba1f\">\n",
              "    <div class=\"colab-df-container\">\n",
              "      <div>\n",
              "<style scoped>\n",
              "    .dataframe tbody tr th:only-of-type {\n",
              "        vertical-align: middle;\n",
              "    }\n",
              "\n",
              "    .dataframe tbody tr th {\n",
              "        vertical-align: top;\n",
              "    }\n",
              "\n",
              "    .dataframe thead th {\n",
              "        text-align: right;\n",
              "    }\n",
              "</style>\n",
              "<table border=\"1\" class=\"dataframe\">\n",
              "  <thead>\n",
              "    <tr style=\"text-align: right;\">\n",
              "      <th></th>\n",
              "      <th>token</th>\n",
              "      <th>loss</th>\n",
              "    </tr>\n",
              "  </thead>\n",
              "  <tbody>\n",
              "    <tr>\n",
              "      <th>0</th>\n",
              "      <td>&lt;pad&gt;</td>\n",
              "      <td>0.0000</td>\n",
              "    </tr>\n",
              "    <tr>\n",
              "      <th>1</th>\n",
              "      <td>&lt;s&gt;</td>\n",
              "      <td>0.0000</td>\n",
              "    </tr>\n",
              "    <tr>\n",
              "      <th>2</th>\n",
              "      <td>&lt;/s&gt;</td>\n",
              "      <td>0.0000</td>\n",
              "    </tr>\n",
              "    <tr>\n",
              "      <th>3</th>\n",
              "      <td>&lt;unk&gt;</td>\n",
              "      <td>0.0000</td>\n",
              "    </tr>\n",
              "    <tr>\n",
              "      <th>4</th>\n",
              "      <td>오</td>\n",
              "      <td>0.0000</td>\n",
              "    </tr>\n",
              "    <tr>\n",
              "      <th>...</th>\n",
              "      <td>...</td>\n",
              "      <td>...</td>\n",
              "    </tr>\n",
              "    <tr>\n",
              "      <th>1095</th>\n",
              "      <td>궲</td>\n",
              "      <td>-11.5687</td>\n",
              "    </tr>\n",
              "    <tr>\n",
              "      <th>1096</th>\n",
              "      <td>금</td>\n",
              "      <td>-11.5687</td>\n",
              "    </tr>\n",
              "    <tr>\n",
              "      <th>1097</th>\n",
              "      <td>깨</td>\n",
              "      <td>-11.5687</td>\n",
              "    </tr>\n",
              "    <tr>\n",
              "      <th>1098</th>\n",
              "      <td>궶</td>\n",
              "      <td>-11.5687</td>\n",
              "    </tr>\n",
              "    <tr>\n",
              "      <th>1099</th>\n",
              "      <td>꺐</td>\n",
              "      <td>-11.5687</td>\n",
              "    </tr>\n",
              "  </tbody>\n",
              "</table>\n",
              "<p>1100 rows × 2 columns</p>\n",
              "</div>\n",
              "      <button class=\"colab-df-convert\" onclick=\"convertToInteractive('df-749602ff-8a89-4d03-bd9e-cf9ea327ba1f')\"\n",
              "              title=\"Convert this dataframe to an interactive table.\"\n",
              "              style=\"display:none;\">\n",
              "        \n",
              "  <svg xmlns=\"http://www.w3.org/2000/svg\" height=\"24px\"viewBox=\"0 0 24 24\"\n",
              "       width=\"24px\">\n",
              "    <path d=\"M0 0h24v24H0V0z\" fill=\"none\"/>\n",
              "    <path d=\"M18.56 5.44l.94 2.06.94-2.06 2.06-.94-2.06-.94-.94-2.06-.94 2.06-2.06.94zm-11 1L8.5 8.5l.94-2.06 2.06-.94-2.06-.94L8.5 2.5l-.94 2.06-2.06.94zm10 10l.94 2.06.94-2.06 2.06-.94-2.06-.94-.94-2.06-.94 2.06-2.06.94z\"/><path d=\"M17.41 7.96l-1.37-1.37c-.4-.4-.92-.59-1.43-.59-.52 0-1.04.2-1.43.59L10.3 9.45l-7.72 7.72c-.78.78-.78 2.05 0 2.83L4 21.41c.39.39.9.59 1.41.59.51 0 1.02-.2 1.41-.59l7.78-7.78 2.81-2.81c.8-.78.8-2.07 0-2.86zM5.41 20L4 18.59l7.72-7.72 1.47 1.35L5.41 20z\"/>\n",
              "  </svg>\n",
              "      </button>\n",
              "      \n",
              "  <style>\n",
              "    .colab-df-container {\n",
              "      display:flex;\n",
              "      flex-wrap:wrap;\n",
              "      gap: 12px;\n",
              "    }\n",
              "\n",
              "    .colab-df-convert {\n",
              "      background-color: #E8F0FE;\n",
              "      border: none;\n",
              "      border-radius: 50%;\n",
              "      cursor: pointer;\n",
              "      display: none;\n",
              "      fill: #1967D2;\n",
              "      height: 32px;\n",
              "      padding: 0 0 0 0;\n",
              "      width: 32px;\n",
              "    }\n",
              "\n",
              "    .colab-df-convert:hover {\n",
              "      background-color: #E2EBFA;\n",
              "      box-shadow: 0px 1px 2px rgba(60, 64, 67, 0.3), 0px 1px 3px 1px rgba(60, 64, 67, 0.15);\n",
              "      fill: #174EA6;\n",
              "    }\n",
              "\n",
              "    [theme=dark] .colab-df-convert {\n",
              "      background-color: #3B4455;\n",
              "      fill: #D2E3FC;\n",
              "    }\n",
              "\n",
              "    [theme=dark] .colab-df-convert:hover {\n",
              "      background-color: #434B5C;\n",
              "      box-shadow: 0px 1px 3px 1px rgba(0, 0, 0, 0.15);\n",
              "      filter: drop-shadow(0px 1px 2px rgba(0, 0, 0, 0.3));\n",
              "      fill: #FFFFFF;\n",
              "    }\n",
              "  </style>\n",
              "\n",
              "      <script>\n",
              "        const buttonEl =\n",
              "          document.querySelector('#df-749602ff-8a89-4d03-bd9e-cf9ea327ba1f button.colab-df-convert');\n",
              "        buttonEl.style.display =\n",
              "          google.colab.kernel.accessAllowed ? 'block' : 'none';\n",
              "\n",
              "        async function convertToInteractive(key) {\n",
              "          const element = document.querySelector('#df-749602ff-8a89-4d03-bd9e-cf9ea327ba1f');\n",
              "          const dataTable =\n",
              "            await google.colab.kernel.invokeFunction('convertToInteractive',\n",
              "                                                     [key], {});\n",
              "          if (!dataTable) return;\n",
              "\n",
              "          const docLinkHtml = 'Like what you see? Visit the ' +\n",
              "            '<a target=\"_blank\" href=https://colab.research.google.com/notebooks/data_table.ipynb>data table notebook</a>'\n",
              "            + ' to learn more about interactive tables.';\n",
              "          element.innerHTML = '';\n",
              "          dataTable['output_type'] = 'display_data';\n",
              "          await google.colab.output.renderOutput(dataTable, element);\n",
              "          const docLink = document.createElement('div');\n",
              "          docLink.innerHTML = docLinkHtml;\n",
              "          element.appendChild(docLink);\n",
              "        }\n",
              "      </script>\n",
              "    </div>\n",
              "  </div>\n",
              "  "
            ]
          },
          "metadata": {},
          "execution_count": 28
        }
      ]
    },
    {
      "cell_type": "code",
      "source": [
        "sp_tgt = spm.SentencePieceProcessor()\n",
        "vocab_file = PATH + '/spm_models/re_tokenize_tgt.model'\n",
        "sp_tgt.load(vocab_file)"
      ],
      "metadata": {
        "colab": {
          "base_uri": "https://localhost:8080/"
        },
        "id": "KKvsJ-8RlAym",
        "outputId": "b32d8092-d9de-472a-a4c6-d11430a78354"
      },
      "execution_count": 166,
      "outputs": [
        {
          "output_type": "execute_result",
          "data": {
            "text/plain": [
              "True"
            ]
          },
          "metadata": {},
          "execution_count": 166
        }
      ]
    },
    {
      "cell_type": "code",
      "source": [
        "sp_tgt.encode_as_ids(\"갤곓괻오깴곷굎\") # 뒤에서 3번째 (-3)"
      ],
      "metadata": {
        "colab": {
          "base_uri": "https://localhost:8080/"
        },
        "id": "0zT2XfSjlBL2",
        "outputId": "904a8ccc-7329-4688-d1a5-f8e02a144a0e"
      },
      "execution_count": 167,
      "outputs": [
        {
          "output_type": "execute_result",
          "data": {
            "text/plain": [
              "[5, 402, 230, 4, 468, 112, 144]"
            ]
          },
          "metadata": {},
          "execution_count": 167
        }
      ]
    },
    {
      "cell_type": "markdown",
      "source": [
        "## convert between 2 tokenization\n",
        "\n",
        "0부터 4는 공통으로 사용하고, 1100까지는 target_vocab, 그 이후는 source_vocab으로 이루어져 있습니다."
      ],
      "metadata": {
        "id": "XveTjeyRliRO"
      }
    },
    {
      "cell_type": "code",
      "source": [
        "def re_tokenize(in_str, sp_model, tgt_vocab_size=0):\n",
        "    in_str.replace('▁',' ')\n",
        "    sp_id = sp_model.encode_as_ids(in_str)\n",
        "    res_tokens = [tok+tgt_vocab_size if tok>4 else tok for tok in sp_id]\n",
        "    return res_tokens"
      ],
      "metadata": {
        "id": "nkqBvhdOEChm"
      },
      "execution_count": 31,
      "outputs": []
    },
    {
      "cell_type": "code",
      "source": [
        "def revert_tokenize(in_lst, sp_model, tgt_vocab_size=0):\n",
        "    in_lst = [int(x-tgt_vocab_size) if x>4 else int(x) for x in in_lst]\n",
        "    temp_str = ''.join(sp_model.id_to_piece(in_lst))\n",
        "    temp_str = temp_str.replace('▁', '').replace(' ', '')\n",
        "    # print(temp_str)\n",
        "    org_tokens = [ord(x)-0xAC00 if x!='오' else 68 for x in temp_str]\n",
        "    return org_tokens"
      ],
      "metadata": {
        "id": "I2y6emO_dz_Z"
      },
      "execution_count": 177,
      "outputs": []
    },
    {
      "cell_type": "code",
      "source": [
        "re_tok_sample_src = re_tokenize(\"깫깈걟궵곈겝오궵걎괇곈갣갣괷\", sp_src, TGT_VOCAB)\n",
        "print(sp_src.encode_as_ids(\"깫깈걟궵곈겝오궵걎괇곈갣갣괷\"))\n",
        "print(re_tokenize(\"깫깈걟궵곈겝오궵걎괇곈갣갣괷\", sp_src, TGT_VOCAB))"
      ],
      "metadata": {
        "colab": {
          "base_uri": "https://localhost:8080/"
        },
        "id": "e76DIw8qEEou",
        "outputId": "7591006d-6865-44e1-e71f-891643dd69c0"
      },
      "execution_count": 33,
      "outputs": [
        {
          "output_type": "stream",
          "name": "stdout",
          "text": [
            "[6, 35, 53, 5, 44, 4, 5, 12, 21, 72, 7, 27]\n",
            "[1106, 1135, 1153, 1105, 1144, 4, 1105, 1112, 1121, 1172, 1107, 1127]\n"
          ]
        }
      ]
    },
    {
      "cell_type": "code",
      "source": [
        "print(revert_tokenize(re_tok_sample_src, sp_src, TGT_VOCAB))\n",
        "print(combined.iloc[-3,0])"
      ],
      "metadata": {
        "colab": {
          "base_uri": "https://localhost:8080/"
        },
        "id": "ljTaFbVLfqRt",
        "outputId": "655a1e23-797a-486d-9ee0-11ede3a5a39d"
      },
      "execution_count": 34,
      "outputs": [
        {
          "output_type": "stream",
          "name": "stdout",
          "text": [
            "[619, 584, 95, 437, 200, 157, 68, 437, 78, 263, 200, 35, 35, 311]\n",
            "[619, 584, 95, 437, 200, 157, 68, 437, 78, 263, 200, 35, 35, 311]\n"
          ]
        }
      ]
    },
    {
      "cell_type": "code",
      "source": [
        "re_tok_sample_tgt = re_tokenize(\"갤곓괻오깴곷굎\", sp_tgt)\n",
        "print(sp_tgt.encode_as_ids(\"갤곓괻오깴곷굎\"))\n",
        "print(re_tokenize(\"갤곓괻오깴곷굎\", sp_tgt))"
      ],
      "metadata": {
        "colab": {
          "base_uri": "https://localhost:8080/"
        },
        "id": "iMJvhT6djc6I",
        "outputId": "50051631-8fb9-45a3-e497-6f2583a4e6bc"
      },
      "execution_count": 168,
      "outputs": [
        {
          "output_type": "stream",
          "name": "stdout",
          "text": [
            "[5, 402, 230, 4, 468, 112, 144]\n",
            "[5, 402, 230, 4, 468, 112, 144]\n"
          ]
        }
      ]
    },
    {
      "cell_type": "code",
      "source": [
        "print(revert_tokenize(re_tok_sample_tgt, sp_tgt))\n",
        "print(combined.iloc[-3, 1])"
      ],
      "metadata": {
        "colab": {
          "base_uri": "https://localhost:8080/"
        },
        "id": "Ka5SZ9eTlztC",
        "outputId": "1e0d4e4a-c0bf-4085-fc5d-984e99ae9dca"
      },
      "execution_count": 169,
      "outputs": [
        {
          "output_type": "stream",
          "name": "stdout",
          "text": [
            "[36, 211, 315, 68, 628, 247, 334]\n",
            "[36, 211, 315, 68, 628, 247, 334]\n"
          ]
        }
      ]
    },
    {
      "cell_type": "markdown",
      "source": [
        "## re_tok DataFrame"
      ],
      "metadata": {
        "id": "RC7QYNSqnfsv"
      }
    },
    {
      "cell_type": "code",
      "source": [
        "re_tok_combined = pd.DataFrame()\n",
        "re_tok_combined['re_tok_source'] = chr_combined['chr_source'].apply(re_tokenize, args=(sp_src,TGT_VOCAB))\n",
        "re_tok_combined['re_tok_target'] = chr_combined['chr_target'].apply(re_tokenize, args=(sp_tgt,))"
      ],
      "metadata": {
        "id": "teuZeHMNnejq"
      },
      "execution_count": 37,
      "outputs": []
    },
    {
      "cell_type": "code",
      "source": [
        "re_tok_combined"
      ],
      "metadata": {
        "colab": {
          "base_uri": "https://localhost:8080/",
          "height": 424
        },
        "id": "6E2Oa691otNk",
        "outputId": "f32e44f5-7651-4944-b80f-49642e7f14db"
      },
      "execution_count": 38,
      "outputs": [
        {
          "output_type": "execute_result",
          "data": {
            "text/plain": [
              "                                          re_tok_source  \\\n",
              "4514         [1106, 1249, 1114, 1116, 1116, 1105, 1110]   \n",
              "2577                  [1170, 1110, 1108, 1116, 4, 1184]   \n",
              "6900                                       [1106, 1292]   \n",
              "5015                                       [1106, 1292]   \n",
              "3800                                       [1106, 1292]   \n",
              "...                                                 ...   \n",
              "3085            [1106, 1135, 1153, 1105, 1144, 4, 1301]   \n",
              "3233  [1106, 1135, 1153, 1105, 1144, 4, 1134, 1122, ...   \n",
              "4848  [1106, 1135, 1153, 1105, 1144, 4, 1105, 1112, ...   \n",
              "801                [1106, 1135, 1153, 1105, 1108, 1109]   \n",
              "2974               [1106, 1135, 1153, 1105, 1108, 1109]   \n",
              "\n",
              "                        re_tok_target  \n",
              "4514                      [5, 74, 98]  \n",
              "2577                  [5, 538, 4, 27]  \n",
              "6900                          [5, 51]  \n",
              "5015                          [5, 51]  \n",
              "3800                          [5, 51]  \n",
              "...                               ...  \n",
              "3085                 [5, 426, 4, 221]  \n",
              "3233        [5, 402, 230, 4, 403, 13]  \n",
              "4848  [5, 402, 230, 4, 468, 112, 144]  \n",
              "801                          [5, 367]  \n",
              "2974                         [5, 367]  \n",
              "\n",
              "[7260 rows x 2 columns]"
            ],
            "text/html": [
              "\n",
              "  <div id=\"df-c7529165-4cf0-4ed4-8a2d-9391f61673fb\">\n",
              "    <div class=\"colab-df-container\">\n",
              "      <div>\n",
              "<style scoped>\n",
              "    .dataframe tbody tr th:only-of-type {\n",
              "        vertical-align: middle;\n",
              "    }\n",
              "\n",
              "    .dataframe tbody tr th {\n",
              "        vertical-align: top;\n",
              "    }\n",
              "\n",
              "    .dataframe thead th {\n",
              "        text-align: right;\n",
              "    }\n",
              "</style>\n",
              "<table border=\"1\" class=\"dataframe\">\n",
              "  <thead>\n",
              "    <tr style=\"text-align: right;\">\n",
              "      <th></th>\n",
              "      <th>re_tok_source</th>\n",
              "      <th>re_tok_target</th>\n",
              "    </tr>\n",
              "  </thead>\n",
              "  <tbody>\n",
              "    <tr>\n",
              "      <th>4514</th>\n",
              "      <td>[1106, 1249, 1114, 1116, 1116, 1105, 1110]</td>\n",
              "      <td>[5, 74, 98]</td>\n",
              "    </tr>\n",
              "    <tr>\n",
              "      <th>2577</th>\n",
              "      <td>[1170, 1110, 1108, 1116, 4, 1184]</td>\n",
              "      <td>[5, 538, 4, 27]</td>\n",
              "    </tr>\n",
              "    <tr>\n",
              "      <th>6900</th>\n",
              "      <td>[1106, 1292]</td>\n",
              "      <td>[5, 51]</td>\n",
              "    </tr>\n",
              "    <tr>\n",
              "      <th>5015</th>\n",
              "      <td>[1106, 1292]</td>\n",
              "      <td>[5, 51]</td>\n",
              "    </tr>\n",
              "    <tr>\n",
              "      <th>3800</th>\n",
              "      <td>[1106, 1292]</td>\n",
              "      <td>[5, 51]</td>\n",
              "    </tr>\n",
              "    <tr>\n",
              "      <th>...</th>\n",
              "      <td>...</td>\n",
              "      <td>...</td>\n",
              "    </tr>\n",
              "    <tr>\n",
              "      <th>3085</th>\n",
              "      <td>[1106, 1135, 1153, 1105, 1144, 4, 1301]</td>\n",
              "      <td>[5, 426, 4, 221]</td>\n",
              "    </tr>\n",
              "    <tr>\n",
              "      <th>3233</th>\n",
              "      <td>[1106, 1135, 1153, 1105, 1144, 4, 1134, 1122, ...</td>\n",
              "      <td>[5, 402, 230, 4, 403, 13]</td>\n",
              "    </tr>\n",
              "    <tr>\n",
              "      <th>4848</th>\n",
              "      <td>[1106, 1135, 1153, 1105, 1144, 4, 1105, 1112, ...</td>\n",
              "      <td>[5, 402, 230, 4, 468, 112, 144]</td>\n",
              "    </tr>\n",
              "    <tr>\n",
              "      <th>801</th>\n",
              "      <td>[1106, 1135, 1153, 1105, 1108, 1109]</td>\n",
              "      <td>[5, 367]</td>\n",
              "    </tr>\n",
              "    <tr>\n",
              "      <th>2974</th>\n",
              "      <td>[1106, 1135, 1153, 1105, 1108, 1109]</td>\n",
              "      <td>[5, 367]</td>\n",
              "    </tr>\n",
              "  </tbody>\n",
              "</table>\n",
              "<p>7260 rows × 2 columns</p>\n",
              "</div>\n",
              "      <button class=\"colab-df-convert\" onclick=\"convertToInteractive('df-c7529165-4cf0-4ed4-8a2d-9391f61673fb')\"\n",
              "              title=\"Convert this dataframe to an interactive table.\"\n",
              "              style=\"display:none;\">\n",
              "        \n",
              "  <svg xmlns=\"http://www.w3.org/2000/svg\" height=\"24px\"viewBox=\"0 0 24 24\"\n",
              "       width=\"24px\">\n",
              "    <path d=\"M0 0h24v24H0V0z\" fill=\"none\"/>\n",
              "    <path d=\"M18.56 5.44l.94 2.06.94-2.06 2.06-.94-2.06-.94-.94-2.06-.94 2.06-2.06.94zm-11 1L8.5 8.5l.94-2.06 2.06-.94-2.06-.94L8.5 2.5l-.94 2.06-2.06.94zm10 10l.94 2.06.94-2.06 2.06-.94-2.06-.94-.94-2.06-.94 2.06-2.06.94z\"/><path d=\"M17.41 7.96l-1.37-1.37c-.4-.4-.92-.59-1.43-.59-.52 0-1.04.2-1.43.59L10.3 9.45l-7.72 7.72c-.78.78-.78 2.05 0 2.83L4 21.41c.39.39.9.59 1.41.59.51 0 1.02-.2 1.41-.59l7.78-7.78 2.81-2.81c.8-.78.8-2.07 0-2.86zM5.41 20L4 18.59l7.72-7.72 1.47 1.35L5.41 20z\"/>\n",
              "  </svg>\n",
              "      </button>\n",
              "      \n",
              "  <style>\n",
              "    .colab-df-container {\n",
              "      display:flex;\n",
              "      flex-wrap:wrap;\n",
              "      gap: 12px;\n",
              "    }\n",
              "\n",
              "    .colab-df-convert {\n",
              "      background-color: #E8F0FE;\n",
              "      border: none;\n",
              "      border-radius: 50%;\n",
              "      cursor: pointer;\n",
              "      display: none;\n",
              "      fill: #1967D2;\n",
              "      height: 32px;\n",
              "      padding: 0 0 0 0;\n",
              "      width: 32px;\n",
              "    }\n",
              "\n",
              "    .colab-df-convert:hover {\n",
              "      background-color: #E2EBFA;\n",
              "      box-shadow: 0px 1px 2px rgba(60, 64, 67, 0.3), 0px 1px 3px 1px rgba(60, 64, 67, 0.15);\n",
              "      fill: #174EA6;\n",
              "    }\n",
              "\n",
              "    [theme=dark] .colab-df-convert {\n",
              "      background-color: #3B4455;\n",
              "      fill: #D2E3FC;\n",
              "    }\n",
              "\n",
              "    [theme=dark] .colab-df-convert:hover {\n",
              "      background-color: #434B5C;\n",
              "      box-shadow: 0px 1px 3px 1px rgba(0, 0, 0, 0.15);\n",
              "      filter: drop-shadow(0px 1px 2px rgba(0, 0, 0, 0.3));\n",
              "      fill: #FFFFFF;\n",
              "    }\n",
              "  </style>\n",
              "\n",
              "      <script>\n",
              "        const buttonEl =\n",
              "          document.querySelector('#df-c7529165-4cf0-4ed4-8a2d-9391f61673fb button.colab-df-convert');\n",
              "        buttonEl.style.display =\n",
              "          google.colab.kernel.accessAllowed ? 'block' : 'none';\n",
              "\n",
              "        async function convertToInteractive(key) {\n",
              "          const element = document.querySelector('#df-c7529165-4cf0-4ed4-8a2d-9391f61673fb');\n",
              "          const dataTable =\n",
              "            await google.colab.kernel.invokeFunction('convertToInteractive',\n",
              "                                                     [key], {});\n",
              "          if (!dataTable) return;\n",
              "\n",
              "          const docLinkHtml = 'Like what you see? Visit the ' +\n",
              "            '<a target=\"_blank\" href=https://colab.research.google.com/notebooks/data_table.ipynb>data table notebook</a>'\n",
              "            + ' to learn more about interactive tables.';\n",
              "          element.innerHTML = '';\n",
              "          dataTable['output_type'] = 'display_data';\n",
              "          await google.colab.output.renderOutput(dataTable, element);\n",
              "          const docLink = document.createElement('div');\n",
              "          docLink.innerHTML = docLinkHtml;\n",
              "          element.appendChild(docLink);\n",
              "        }\n",
              "      </script>\n",
              "    </div>\n",
              "  </div>\n",
              "  "
            ]
          },
          "metadata": {},
          "execution_count": 38
        }
      ]
    },
    {
      "cell_type": "code",
      "source": [
        "import matplotlib.pyplot as plt\n",
        "import numpy as np\n",
        "\n",
        "\n",
        "src_len = [len(s) for s in re_tok_combined['re_tok_source']]\n",
        "tgt_len = [len(s) for s in re_tok_combined['re_tok_target']]\n",
        "\n",
        "print('src의 최소 길이 : {}'.format(np.min(src_len)))\n",
        "print('src의 최대 길이 : {}'.format(np.max(src_len)))\n",
        "print('src의 평균 길이 : {}'.format(np.mean(src_len)))\n",
        "print('tgt의 최소 길이 : {}'.format(np.min(tgt_len)))\n",
        "print('tgt의 최대 길이 : {}'.format(np.max(tgt_len)))\n",
        "print('tgt의 평균 길이 : {}'.format(np.mean(tgt_len)))\n",
        "\n",
        "plt.subplot(1,2,1)\n",
        "plt.boxplot(src_len)\n",
        "plt.title('source')\n",
        "plt.subplot(1,2,2)\n",
        "plt.boxplot(tgt_len)\n",
        "plt.title('target')\n",
        "plt.tight_layout()\n",
        "plt.show()\n",
        "\n",
        "plt.title('source')\n",
        "plt.hist(src_len, bins = 30, range=(1, 61))\n",
        "plt.xlabel('length of samples')\n",
        "plt.ylabel('number of samples')\n",
        "plt.show()\n",
        "\n",
        "plt.title('target')\n",
        "plt.hist(tgt_len, bins = 20, range=(1, 41))\n",
        "plt.xlabel('length of samples')\n",
        "plt.ylabel('number of samples')\n",
        "plt.show()\n",
        "\n",
        "plt.title('ratio')\n",
        "plt.hist([x/y for x,y in zip(src_len, tgt_len)], bins = 15, range=(1,3))\n",
        "plt.xlabel('length of samples')\n",
        "plt.ylabel('number of samples')\n",
        "plt.show()"
      ],
      "metadata": {
        "colab": {
          "base_uri": "https://localhost:8080/",
          "height": 1000
        },
        "id": "H4eDW0TAuykK",
        "outputId": "2e742336-2d8a-4ef2-9316-046a240a9a18"
      },
      "execution_count": 39,
      "outputs": [
        {
          "output_type": "stream",
          "name": "stdout",
          "text": [
            "src의 최소 길이 : 1\n",
            "src의 최대 길이 : 57\n",
            "src의 평균 길이 : 12.557851239669422\n",
            "tgt의 최소 길이 : 1\n",
            "tgt의 최대 길이 : 42\n",
            "tgt의 평균 길이 : 8.360192837465565\n"
          ]
        },
        {
          "output_type": "display_data",
          "data": {
            "text/plain": [
              "<Figure size 432x288 with 2 Axes>"
            ],
            "image/png": "[encoded data removed]"
          },
          "metadata": {
            "needs_background": "light"
          }
        },
        {
          "output_type": "display_data",
          "data": {
            "text/plain": [
              "<Figure size 432x288 with 1 Axes>"
            ],
            "image/png": "[encoded data removed]"
          },
          "metadata": {
            "needs_background": "light"
          }
        },
        {
          "output_type": "display_data",
          "data": {
            "text/plain": [
              "<Figure size 432x288 with 1 Axes>"
            ],
            "image/png": "[encoded data removed]"
          },
          "metadata": {
            "needs_background": "light"
          }
        },
        {
          "output_type": "display_data",
          "data": {
            "text/plain": [
              "<Figure size 432x288 with 1 Axes>"
            ],
            "image/png": "[encoded data removed]"
          },
          "metadata": {
            "needs_background": "light"
          }
        }
      ]
    },
    {
      "cell_type": "code",
      "source": [
        "def bandpass_len(min_len, max_len, len_list):\n",
        "    cnt = 0\n",
        "    for s in len_list:\n",
        "        if(s <= max_len) and (s >= min_len):\n",
        "            cnt = cnt + 1\n",
        "    print(f'전체 샘플 중 길이가 {min_len} 이상,{max_len} 이하인 샘플의 비율:{cnt / len(len_list)}')"
      ],
      "metadata": {
        "id": "ZsPuhRQN6nH_"
      },
      "execution_count": 40,
      "outputs": []
    },
    {
      "cell_type": "code",
      "source": [
        "bandpass_len(1, 40, src_len)\n",
        "bandpass_len(1, 30, tgt_len)"
      ],
      "metadata": {
        "colab": {
          "base_uri": "https://localhost:8080/"
        },
        "id": "zuckT7oh7IKn",
        "outputId": "a650c5fa-1690-456e-d13e-fb29e9a85b52"
      },
      "execution_count": 41,
      "outputs": [
        {
          "output_type": "stream",
          "name": "stdout",
          "text": [
            "전체 샘플 중 길이가 1 이상,40 이하인 샘플의 비율:0.9939393939393939\n",
            "전체 샘플 중 길이가 1 이상,30 이하인 샘플의 비율:0.9977961432506887\n"
          ]
        }
      ]
    },
    {
      "cell_type": "code",
      "source": [
        "SRC_MAX_LEN = 40\n",
        "TGT_MAX_LEN = 30"
      ],
      "metadata": {
        "id": "cj4uZA7X76ta"
      },
      "execution_count": 42,
      "outputs": []
    },
    {
      "cell_type": "code",
      "source": [
        "new_vocab_src = set()\n",
        "new_vocab_tgt = set()\n",
        "re_tok_combined['re_tok_source'].apply(lambda x: new_vocab_src.update(x))\n",
        "re_tok_combined['re_tok_target'].apply(lambda x: new_vocab_tgt.update(x))\n",
        "\n",
        "print(\"actual num_classes: \", len(new_vocab_tgt))\n",
        "print(\"total_vocab_size: \", len(new_vocab_src.union(new_vocab_tgt)))\n",
        "NUM_CLASSES = len(new_vocab_tgt)\n",
        "TOTAL_VOCAB = len(new_vocab_src.union(new_vocab_tgt))"
      ],
      "metadata": {
        "colab": {
          "base_uri": "https://localhost:8080/"
        },
        "id": "A8vyR4hVb-W5",
        "outputId": "ff9be6cf-2a22-4e89-edfe-1f89b8320add"
      },
      "execution_count": 43,
      "outputs": [
        {
          "output_type": "stream",
          "name": "stdout",
          "text": [
            "actual num_classes:  1092\n",
            "total_vocab_size:  1311\n"
          ]
        }
      ]
    },
    {
      "cell_type": "markdown",
      "source": [
        "Tokenization을 완료했으니 modeling을 시작합니다."
      ],
      "metadata": {
        "id": "rGr94kySjRkm"
      }
    },
    {
      "cell_type": "markdown",
      "source": [
        "# Modeling(transformer)\n",
        "\n",
        "sequence to sequence 모델 중, 직접 구현한 경험이 있고, 익숙한 트랜스포머를 사용합니다. 데이터가 적기 때문에 적은 수의 layer를 사용했습니다.\n",
        "\n",
        "[Postional Encoding이 그렇게 생긴 이유](https://velog.io/@gibonki77/DLmathPE)\n",
        "\n"
      ],
      "metadata": {
        "id": "7zmXY97w4VAw"
      }
    },
    {
      "cell_type": "markdown",
      "source": [
        "## Create dataset"
      ],
      "metadata": {
        "id": "vuKIb9jgE6mF"
      }
    },
    {
      "cell_type": "code",
      "source": [
        "import tensorflow as tf\n",
        "from tqdm import tqdm\n",
        "from sklearn.model_selection import train_test_split"
      ],
      "metadata": {
        "id": "xwp-s8Pef5KG"
      },
      "execution_count": 44,
      "outputs": []
    },
    {
      "cell_type": "code",
      "source": [
        "x_data = [s+[2] for s in re_tok_combined.re_tok_source] # add EOS\n",
        "y_data = [[1]+s+[2] for s in re_tok_combined.re_tok_target]  # add BOS, EOS\n",
        "assert len(x_data) == len(y_data)\n",
        "print(len(x_data))"
      ],
      "metadata": {
        "colab": {
          "base_uri": "https://localhost:8080/"
        },
        "id": "MwJL49UF5yET",
        "outputId": "8a82e665-e301-4e40-e037-287fdd715d30"
      },
      "execution_count": 45,
      "outputs": [
        {
          "output_type": "stream",
          "name": "stdout",
          "text": [
            "7260\n"
          ]
        }
      ]
    },
    {
      "cell_type": "code",
      "source": [
        "train_inputs = tf.keras.preprocessing.sequence.pad_sequences(\n",
        "    x_data, \n",
        "    maxlen=SRC_MAX_LEN+1, \n",
        "    padding='post', \n",
        "    value=0)\n",
        "\n",
        "print(train_inputs.shape)\n",
        "train_inputs"
      ],
      "metadata": {
        "colab": {
          "base_uri": "https://localhost:8080/"
        },
        "id": "41uNUjl54y45",
        "outputId": "7fdd455e-6f94-40f0-b6d9-5c88594f0238"
      },
      "execution_count": 46,
      "outputs": [
        {
          "output_type": "stream",
          "name": "stdout",
          "text": [
            "(7260, 41)\n"
          ]
        },
        {
          "output_type": "execute_result",
          "data": {
            "text/plain": [
              "array([[1106, 1249, 1114, ...,    0,    0,    0],\n",
              "       [1170, 1110, 1108, ...,    0,    0,    0],\n",
              "       [1106, 1292,    2, ...,    0,    0,    0],\n",
              "       ...,\n",
              "       [1106, 1135, 1153, ...,    0,    0,    0],\n",
              "       [1106, 1135, 1153, ...,    0,    0,    0],\n",
              "       [1106, 1135, 1153, ...,    0,    0,    0]], dtype=int32)"
            ]
          },
          "metadata": {},
          "execution_count": 46
        }
      ]
    },
    {
      "cell_type": "code",
      "source": [
        "labels = tf.keras.preprocessing.sequence.pad_sequences(\n",
        "    y_data, \n",
        "    maxlen=TGT_MAX_LEN+2, \n",
        "    padding='post', \n",
        "    value=0)\n",
        "\n",
        "print(labels.shape)\n",
        "labels"
      ],
      "metadata": {
        "colab": {
          "base_uri": "https://localhost:8080/"
        },
        "id": "6jKZKDAy8KY4",
        "outputId": "ca0d26a1-aa07-4c00-8713-03e8e118f02b"
      },
      "execution_count": 47,
      "outputs": [
        {
          "output_type": "stream",
          "name": "stdout",
          "text": [
            "(7260, 32)\n"
          ]
        },
        {
          "output_type": "execute_result",
          "data": {
            "text/plain": [
              "array([[  1,   5,  74, ...,   0,   0,   0],\n",
              "       [  1,   5, 538, ...,   0,   0,   0],\n",
              "       [  1,   5,  51, ...,   0,   0,   0],\n",
              "       ...,\n",
              "       [  1,   5, 402, ...,   0,   0,   0],\n",
              "       [  1,   5, 367, ...,   0,   0,   0],\n",
              "       [  1,   5, 367, ...,   0,   0,   0]], dtype=int32)"
            ]
          },
          "metadata": {},
          "execution_count": 47
        }
      ]
    },
    {
      "cell_type": "code",
      "source": [
        "RDM_SEED = 42"
      ],
      "metadata": {
        "id": "E2yNSlec9lP-"
      },
      "execution_count": 48,
      "outputs": []
    },
    {
      "cell_type": "code",
      "source": [
        "x_train, x_test, y_train, y_test = train_test_split(train_inputs, labels, test_size=0.2, random_state=RDM_SEED)\n",
        "\n",
        "print(len(x_train))\n",
        "print(len(y_train))\n",
        "print(len(x_test))\n",
        "print(len(y_test))"
      ],
      "metadata": {
        "colab": {
          "base_uri": "https://localhost:8080/"
        },
        "id": "UuFkhecM8lti",
        "outputId": "df684a4e-15c7-4017-dcab-d6be3cff7ce4"
      },
      "execution_count": 49,
      "outputs": [
        {
          "output_type": "stream",
          "name": "stdout",
          "text": [
            "5808\n",
            "5808\n",
            "1452\n",
            "1452\n"
          ]
        }
      ]
    },
    {
      "cell_type": "code",
      "source": [
        "import tensorflow_datasets as tfds\n",
        "\n",
        "BATCH_SIZE = 32\n",
        "BUFFER_SIZE = 15000\n",
        "\n",
        "def create_dataset(inputs, labels, is_shuffle=False):\n",
        "    dataset = tf.data.Dataset.from_tensor_slices((\n",
        "        {\n",
        "            'inputs': inputs,\n",
        "            'dec_inputs': labels[:, :-1]\n",
        "        },\n",
        "        {\n",
        "            'outputs': labels[:, 1:]\n",
        "        },\n",
        "    ))\n",
        "\n",
        "    dataset = dataset.cache()\n",
        "    if is_shuffle:\n",
        "        dataset = dataset.shuffle(BUFFER_SIZE)\n",
        "    dataset = dataset.batch(BATCH_SIZE)\n",
        "    dataset = dataset.prefetch(tf.data.experimental.AUTOTUNE)\n",
        "    return dataset"
      ],
      "metadata": {
        "id": "9peQxXc29sAG"
      },
      "execution_count": 50,
      "outputs": []
    },
    {
      "cell_type": "code",
      "source": [
        "train_dataset = create_dataset(x_train, y_train, is_shuffle=True)\n",
        "len(train_dataset)"
      ],
      "metadata": {
        "colab": {
          "base_uri": "https://localhost:8080/"
        },
        "id": "19L_U1bQEsIl",
        "outputId": "604abe05-1401-475e-be68-734860fea27e"
      },
      "execution_count": 51,
      "outputs": [
        {
          "output_type": "execute_result",
          "data": {
            "text/plain": [
              "182"
            ]
          },
          "metadata": {},
          "execution_count": 51
        }
      ]
    },
    {
      "cell_type": "code",
      "source": [
        "test_dataset = create_dataset(x_test, y_test)\n",
        "len(test_dataset)"
      ],
      "metadata": {
        "colab": {
          "base_uri": "https://localhost:8080/"
        },
        "id": "gs_dd8ipE0Lv",
        "outputId": "bbcff8ee-dca7-44ec-f173-7f9ec3abccdf"
      },
      "execution_count": 52,
      "outputs": [
        {
          "output_type": "execute_result",
          "data": {
            "text/plain": [
              "46"
            ]
          },
          "metadata": {},
          "execution_count": 52
        }
      ]
    },
    {
      "cell_type": "markdown",
      "source": [
        "## Transformer"
      ],
      "metadata": {
        "id": "a3jFuTfSFcLw"
      }
    },
    {
      "cell_type": "code",
      "source": [
        "# 포지셔널 인코딩 레이어\n",
        "class PositionalEncoding(tf.keras.layers.Layer):\n",
        "    def __init__(self, position, d_model):\n",
        "        super(PositionalEncoding, self).__init__()\n",
        "        self.pos_encoding = self.positional_encoding(position, d_model)\n",
        "\n",
        "    def get_angles(self, position, i, d_model):\n",
        "        angles = 1 / tf.pow(10000, (2 * (i // 2)) /\n",
        "                            tf.cast(d_model, tf.float32))\n",
        "        return position * angles\n",
        "\n",
        "    def positional_encoding(self, position, d_model):\n",
        "        # 각도 배열 생성\n",
        "        angle_rads = self.get_angles(\n",
        "            position=tf.range(position, dtype=tf.float32)[:, tf.newaxis],\n",
        "            i=tf.range(d_model, dtype=tf.float32)[tf.newaxis, :],\n",
        "            d_model=d_model)\n",
        "\n",
        "        # 배열의 짝수 인덱스에는 sin 함수 적용\n",
        "        sines = tf.math.sin(angle_rads[:, 0::2])\n",
        "        # 배열의 홀수 인덱스에는 cosine 함수 적용\n",
        "        cosines = tf.math.cos(angle_rads[:, 1::2])\n",
        "\n",
        "        # sin과 cosine이 교차되도록 재배열\n",
        "        pos_encoding = tf.stack([sines, cosines], axis=0)\n",
        "        pos_encoding = tf.transpose(pos_encoding, [1, 2, 0])\n",
        "        pos_encoding = tf.reshape(pos_encoding, [position, d_model])\n",
        "\n",
        "        pos_encoding = pos_encoding[tf.newaxis, ...]\n",
        "        return tf.cast(pos_encoding, tf.float32)\n",
        "\n",
        "    def call(self, inputs):\n",
        "        return inputs + self.pos_encoding[:, :tf.shape(inputs)[1], :]"
      ],
      "metadata": {
        "id": "L77aZpTpE3HP"
      },
      "execution_count": 53,
      "outputs": []
    },
    {
      "cell_type": "code",
      "source": [
        "# 스케일드 닷 프로덕트 어텐션 함수\n",
        "def scaled_dot_product_attention(query, key, value, mask):\n",
        "    # 어텐션 가중치는 Q와 K의 닷 프로덕트\n",
        "    matmul_qk = tf.matmul(query, key, transpose_b=True)\n",
        "\n",
        "    # 가중치를 정규화\n",
        "    depth = tf.cast(tf.shape(key)[-1], tf.float32)\n",
        "    logits = matmul_qk / tf.math.sqrt(depth)\n",
        "\n",
        "    # 패딩에 마스크 추가\n",
        "    if mask is not None:\n",
        "        logits += (mask * -1e9)\n",
        "\n",
        "    # softmax적용\n",
        "    attention_weights = tf.nn.softmax(logits, axis=-1)\n",
        "\n",
        "    # 최종 어텐션은 가중치와 V의 닷 프로덕트\n",
        "    output = tf.matmul(attention_weights, value)\n",
        "    return output"
      ],
      "metadata": {
        "id": "T2-V5aUdFuix"
      },
      "execution_count": 54,
      "outputs": []
    },
    {
      "cell_type": "code",
      "source": [
        "class MultiHeadAttention(tf.keras.layers.Layer):\n",
        "    def __init__(self, d_model, num_heads, name=\"multi_head_attention\"):\n",
        "        super(MultiHeadAttention, self).__init__(name=name)\n",
        "        self.num_heads = num_heads\n",
        "        self.d_model = d_model\n",
        "\n",
        "        assert d_model % self.num_heads == 0\n",
        "\n",
        "        self.depth = d_model // self.num_heads\n",
        "\n",
        "        self.query_dense = tf.keras.layers.Dense(units=d_model)\n",
        "        self.key_dense = tf.keras.layers.Dense(units=d_model)\n",
        "        self.value_dense = tf.keras.layers.Dense(units=d_model)\n",
        "\n",
        "        self.dense = tf.keras.layers.Dense(units=d_model)\n",
        "\n",
        "    def split_heads(self, inputs, batch_size):\n",
        "        inputs = tf.reshape(\n",
        "            inputs, shape=(batch_size, -1, self.num_heads, self.depth))\n",
        "        return tf.transpose(inputs, perm=[0, 2, 1, 3])\n",
        "\n",
        "    def call(self, inputs):\n",
        "        query, key, value, mask = inputs['query'], inputs['key'], inputs['value'], inputs['mask']\n",
        "        batch_size = tf.shape(query)[0]\n",
        "\n",
        "        # Q, K, V에 각각 Dense를 적용합니다\n",
        "        query = self.query_dense(query)\n",
        "        key = self.key_dense(key)\n",
        "        value = self.value_dense(value)\n",
        "\n",
        "        # 병렬 연산을 위한 머리를 여러 개 만듭니다\n",
        "        query = self.split_heads(query, batch_size)\n",
        "        key = self.split_heads(key, batch_size)\n",
        "        value = self.split_heads(value, batch_size)\n",
        "\n",
        "        # 스케일드 닷 프로덕트 어텐션 함수\n",
        "        scaled_attention = scaled_dot_product_attention(query, key, value, mask)\n",
        "\n",
        "        scaled_attention = tf.transpose(scaled_attention, perm=[0, 2, 1, 3])\n",
        "\n",
        "        # 어텐션 연산 후에 각 결과를 다시 연결(concatenate)합니다\n",
        "        concat_attention = tf.reshape(scaled_attention, (batch_size, -1, self.d_model))\n",
        "\n",
        "        # 최종 결과에도 Dense를 한 번 더 적용합니다\n",
        "        outputs = self.dense(concat_attention)\n",
        "\n",
        "        return outputs"
      ],
      "metadata": {
        "id": "a4iU3f0tF1oQ"
      },
      "execution_count": 55,
      "outputs": []
    },
    {
      "cell_type": "code",
      "source": [
        "def create_padding_mask(x):\n",
        "    mask = tf.cast(tf.math.equal(x, 0), tf.float32)\n",
        "    # (batch_size, 1, 1, sequence length)\n",
        "    return mask[:, tf.newaxis, tf.newaxis, :]\n",
        "\n",
        "def create_look_ahead_mask(x):\n",
        "    seq_len = tf.shape(x)[1]\n",
        "    look_ahead_mask = 1 - tf.linalg.band_part(tf.ones((seq_len, seq_len)), -1, 0)\n",
        "    padding_mask = create_padding_mask(x)\n",
        "    return tf.maximum(look_ahead_mask, padding_mask)"
      ],
      "metadata": {
        "id": "1qR-LafvF485"
      },
      "execution_count": 56,
      "outputs": []
    },
    {
      "cell_type": "code",
      "source": [
        "# 인코더 하나의 레이어를 함수로 구현.\n",
        "# 이 하나의 레이어 안에는 두 개의 서브 레이어가 존재합니다.\n",
        "def encoder_layer(units, d_model, num_heads, dropout, name=\"encoder_layer\"):\n",
        "    inputs = tf.keras.Input(shape=(None, d_model), name=\"inputs\")\n",
        "\n",
        "    # 패딩 마스크 사용\n",
        "    padding_mask = tf.keras.Input(shape=(1, 1, None), name=\"padding_mask\")\n",
        "\n",
        "    # 첫 번째 서브 레이어 : 멀티 헤드 어텐션 수행 (셀프 어텐션)\n",
        "    attention = MultiHeadAttention(\n",
        "        d_model, num_heads, name=\"attention\")({\n",
        "            'query': inputs,\n",
        "            'key': inputs,\n",
        "            'value': inputs,\n",
        "            'mask': padding_mask\n",
        "        })\n",
        "\n",
        "    # 어텐션의 결과는 Dropout과 Layer Normalization이라는 훈련을 돕는 테크닉을 수행\n",
        "    attention = tf.keras.layers.Dropout(rate=dropout)(attention)\n",
        "    attention = tf.keras.layers.LayerNormalization(epsilon=1e-6)(inputs + attention)\n",
        "\n",
        "    # 두 번째 서브 레이어 : 2개의 완전연결층\n",
        "    outputs = tf.keras.layers.Dense(units=units, activation='relu')(attention)\n",
        "    outputs = tf.keras.layers.Dense(units=d_model)(outputs)\n",
        "\n",
        "    # 완전연결층의 결과는 Dropout과 LayerNormalization이라는 훈련을 돕는 테크닉을 수행\n",
        "    outputs = tf.keras.layers.Dropout(rate=dropout)(outputs)\n",
        "    outputs = tf.keras.layers.LayerNormalization(epsilon=1e-6)(attention + outputs)\n",
        "\n",
        "    return tf.keras.Model(inputs=[inputs, padding_mask], outputs=outputs, name=name)\n",
        "\n",
        "def encoder(vocab_size,\n",
        "            num_layers,\n",
        "            units,\n",
        "            d_model,\n",
        "            num_heads,\n",
        "            dropout,\n",
        "            name=\"encoder\"):\n",
        "    inputs = tf.keras.Input(shape=(None,), name=\"inputs\")\n",
        "\n",
        "    # 패딩 마스크 사용\n",
        "    padding_mask = tf.keras.Input(shape=(1, 1, None), name=\"padding_mask\")\n",
        "\n",
        "    # 임베딩 레이어\n",
        "    embeddings = tf.keras.layers.Embedding(vocab_size, d_model)(inputs)\n",
        "    embeddings *= tf.math.sqrt(tf.cast(d_model, tf.float32))\n",
        "\n",
        "    # 포지셔널 인코딩\n",
        "    embeddings = PositionalEncoding(vocab_size, d_model)(embeddings)\n",
        "\n",
        "    outputs = tf.keras.layers.Dropout(rate=dropout)(embeddings)\n",
        "\n",
        "    # num_layers만큼 쌓아올린 인코더의 층.\n",
        "    for i in range(num_layers):\n",
        "        outputs = encoder_layer(\n",
        "            units=units,\n",
        "            d_model=d_model,\n",
        "            num_heads=num_heads,\n",
        "            dropout=dropout,\n",
        "            name=\"encoder_layer_{}\".format(i),\n",
        "        )([outputs, padding_mask])\n",
        "\n",
        "    return tf.keras.Model(inputs=[inputs, padding_mask], outputs=outputs, name=name)"
      ],
      "metadata": {
        "id": "44gVUbjhF7g8"
      },
      "execution_count": 57,
      "outputs": []
    },
    {
      "cell_type": "code",
      "source": [
        "def decoder_layer(units, d_model, num_heads, dropout, name=\"decoder_layer\"):\n",
        "    inputs = tf.keras.Input(shape=(None, d_model), name=\"inputs\")\n",
        "    enc_outputs = tf.keras.Input(\n",
        "        shape=(None, d_model), name=\"encoder_outputs\")\n",
        "    look_ahead_mask = tf.keras.Input(\n",
        "        shape=(1, None, None), name=\"look_ahead_mask\")\n",
        "    padding_mask = tf.keras.Input(shape=(1, 1, None), name='padding_mask')\n",
        "\n",
        "    # 첫 번째 서브 레이어 : 멀티 헤드 어텐션 수행 (셀프 어텐션)\n",
        "    attention1 = MultiHeadAttention(\n",
        "        d_model, num_heads, name=\"attention_1\")(inputs={\n",
        "            'query': inputs,\n",
        "            'key': inputs,\n",
        "            'value': inputs,\n",
        "            'mask': look_ahead_mask\n",
        "        })\n",
        "\n",
        "    # 멀티 헤드 어텐션의 결과는 LayerNormalization이라는 훈련을 돕는 테크닉을 수행\n",
        "    attention1 = tf.keras.layers.LayerNormalization(\n",
        "        epsilon=1e-6)(attention1 + inputs)\n",
        "\n",
        "    # 두 번째 서브 레이어 : 마스크드 멀티 헤드 어텐션 수행 (인코더-디코더 어텐션)\n",
        "    attention2 = MultiHeadAttention(\n",
        "        d_model, num_heads, name=\"attention_2\")(inputs={\n",
        "            'query': attention1,\n",
        "            'key': enc_outputs,\n",
        "            'value': enc_outputs,\n",
        "            'mask': padding_mask\n",
        "        })\n",
        "\n",
        "    # 마스크드 멀티 헤드 어텐션의 결과는\n",
        "    # Dropout과 LayerNormalization이라는 훈련을 돕는 테크닉을 수행\n",
        "    attention2 = tf.keras.layers.Dropout(rate=dropout)(attention2)\n",
        "    attention2 = tf.keras.layers.LayerNormalization(\n",
        "        epsilon=1e-6)(attention2 + attention1)\n",
        "\n",
        "    # 세 번째 서브 레이어 : 2개의 완전연결층\n",
        "    outputs = tf.keras.layers.Dense(\n",
        "        units=units, activation='relu')(attention2)\n",
        "    outputs = tf.keras.layers.Dense(units=d_model)(outputs)\n",
        "\n",
        "    # 완전연결층의 결과는 Dropout과 LayerNormalization 수행\n",
        "    outputs = tf.keras.layers.Dropout(rate=dropout)(outputs)\n",
        "    outputs = tf.keras.layers.LayerNormalization(\n",
        "        epsilon=1e-6)(outputs + attention2)\n",
        "\n",
        "    return tf.keras.Model(\n",
        "        inputs=[inputs, enc_outputs, look_ahead_mask, padding_mask],\n",
        "        outputs=outputs,\n",
        "        name=name)\n",
        "\n",
        "def decoder(vocab_size,\n",
        "            num_layers,\n",
        "            units,\n",
        "            d_model,\n",
        "            num_heads,\n",
        "            dropout,\n",
        "            name='decoder'):\n",
        "  inputs = tf.keras.Input(shape=(None,), name='inputs')\n",
        "  enc_outputs = tf.keras.Input(shape=(None, d_model), name='encoder_outputs')\n",
        "  look_ahead_mask = tf.keras.Input(\n",
        "      shape=(1, None, None), name='look_ahead_mask')\n",
        "\n",
        "  # 패딩 마스크\n",
        "  padding_mask = tf.keras.Input(shape=(1, 1, None), name='padding_mask')\n",
        "  \n",
        "  # 임베딩 레이어\n",
        "  embeddings = tf.keras.layers.Embedding(vocab_size, d_model)(inputs)\n",
        "  embeddings *= tf.math.sqrt(tf.cast(d_model, tf.float32))\n",
        "\n",
        "  # 포지셔널 인코딩\n",
        "  embeddings = PositionalEncoding(vocab_size, d_model)(embeddings)\n",
        "\n",
        "  # Dropout\n",
        "  outputs = tf.keras.layers.Dropout(rate=dropout)(embeddings)\n",
        "\n",
        "  for i in range(num_layers):\n",
        "    outputs = decoder_layer(\n",
        "        units=units,\n",
        "        d_model=d_model,\n",
        "        num_heads=num_heads,\n",
        "        dropout=dropout,\n",
        "        name='decoder_layer_{}'.format(i),\n",
        "    )(inputs=[outputs, enc_outputs, look_ahead_mask, padding_mask])\n",
        "\n",
        "  return tf.keras.Model(\n",
        "      inputs=[inputs, enc_outputs, look_ahead_mask, padding_mask],\n",
        "      outputs=outputs,\n",
        "      name=name)"
      ],
      "metadata": {
        "id": "yJpiPbjjGHDE"
      },
      "execution_count": 58,
      "outputs": []
    },
    {
      "cell_type": "code",
      "source": [
        "def transformer(vocab_size,\n",
        "                num_layers,\n",
        "                units,\n",
        "                d_model,\n",
        "                num_heads,\n",
        "                dropout,\n",
        "                name=\"transformer\"):\n",
        "    inputs = tf.keras.Input(shape=(None,), name=\"inputs\")\n",
        "    dec_inputs = tf.keras.Input(shape=(None,), name=\"dec_inputs\")\n",
        "\n",
        "    # 인코더에서 패딩을 위한 마스크\n",
        "    enc_padding_mask = tf.keras.layers.Lambda(\n",
        "        create_padding_mask, output_shape=(1, 1, None),\n",
        "        name='enc_padding_mask')(inputs)\n",
        "\n",
        "    # 디코더에서 미래의 토큰을 마스크 하기 위해서 사용합니다.\n",
        "    # 내부적으로 패딩 마스크도 포함되어져 있습니다.\n",
        "    look_ahead_mask = tf.keras.layers.Lambda(\n",
        "        create_look_ahead_mask,\n",
        "        output_shape=(1, None, None),\n",
        "        name='look_ahead_mask')(dec_inputs)\n",
        "\n",
        "    # 두 번째 어텐션 블록에서 인코더의 벡터들을 마스킹\n",
        "    # 디코더에서 패딩을 위한 마스크\n",
        "    dec_padding_mask = tf.keras.layers.Lambda(\n",
        "        create_padding_mask, output_shape=(1, 1, None),\n",
        "        name='dec_padding_mask')(inputs)\n",
        "\n",
        "    # 인코더\n",
        "    enc_outputs = encoder(\n",
        "        vocab_size=vocab_size,\n",
        "        num_layers=num_layers,\n",
        "        units=units,\n",
        "        d_model=d_model,\n",
        "        num_heads=num_heads,\n",
        "        dropout=dropout,\n",
        "    )(inputs=[inputs, enc_padding_mask])\n",
        "\n",
        "    # 디코더\n",
        "    dec_outputs = decoder(\n",
        "        vocab_size=vocab_size,\n",
        "        num_layers=num_layers,\n",
        "        units=units,\n",
        "        d_model=d_model,\n",
        "        num_heads=num_heads,\n",
        "        dropout=dropout,\n",
        "    )(inputs=[dec_inputs, enc_outputs, look_ahead_mask, dec_padding_mask])\n",
        "\n",
        "    # 완전연결층\n",
        "    outputs = tf.keras.layers.Dense(units=TOTAL_VOCAB, name=\"outputs\")(dec_outputs)\n",
        "\n",
        "    return tf.keras.Model(inputs=[inputs, dec_inputs], outputs=outputs, name=name)"
      ],
      "metadata": {
        "id": "GHSOSaZVGTje"
      },
      "execution_count": 59,
      "outputs": []
    },
    {
      "cell_type": "markdown",
      "source": [
        "# Model Configuration & Train"
      ],
      "metadata": {
        "id": "S620xixScxyr"
      }
    },
    {
      "cell_type": "code",
      "source": [
        "NUM_LAYERS = 2 # 인코더와 디코더의 층의 개수\n",
        "D_MODEL = 128 # 인코더와 디코더 내부의 입, 출력의 고정 차원\n",
        "NUM_HEADS = 8 # 멀티 헤드 어텐션에서의 헤드 수 \n",
        "UNITS = 512 # 피드 포워드 신경망의 은닉층의 크기\n",
        "DROPOUT = 0.08 # 드롭아웃의 비율"
      ],
      "metadata": {
        "id": "3-R5dYL-ctwc"
      },
      "execution_count": 60,
      "outputs": []
    },
    {
      "cell_type": "code",
      "source": [
        "tf.keras.backend.clear_session()\n",
        "\n",
        "print(TOTAL_VOCAB)\n",
        "model = transformer(\n",
        "    vocab_size=TOTAL_VOCAB,\n",
        "    num_layers=NUM_LAYERS,\n",
        "    units=UNITS,\n",
        "    d_model=D_MODEL,\n",
        "    num_heads=NUM_HEADS,\n",
        "    dropout=DROPOUT)\n",
        "\n",
        "model.summary()"
      ],
      "metadata": {
        "colab": {
          "base_uri": "https://localhost:8080/"
        },
        "id": "gO7OEnp7c6yA",
        "outputId": "a342b1cc-605b-4cd8-d0ee-5c11a785b44a"
      },
      "execution_count": 61,
      "outputs": [
        {
          "output_type": "stream",
          "name": "stdout",
          "text": [
            "1311\n",
            "Model: \"transformer\"\n",
            "__________________________________________________________________________________________________\n",
            " Layer (type)                   Output Shape         Param #     Connected to                     \n",
            "==================================================================================================\n",
            " inputs (InputLayer)            [(None, None)]       0           []                               \n",
            "                                                                                                  \n",
            " dec_inputs (InputLayer)        [(None, None)]       0           []                               \n",
            "                                                                                                  \n",
            " enc_padding_mask (Lambda)      (None, 1, 1, None)   0           ['inputs[0][0]']                 \n",
            "                                                                                                  \n",
            " encoder (Functional)           (None, None, 128)    564352      ['inputs[0][0]',                 \n",
            "                                                                  'enc_padding_mask[0][0]']       \n",
            "                                                                                                  \n",
            " look_ahead_mask (Lambda)       (None, 1, None, Non  0           ['dec_inputs[0][0]']             \n",
            "                                e)                                                                \n",
            "                                                                                                  \n",
            " dec_padding_mask (Lambda)      (None, 1, 1, None)   0           ['inputs[0][0]']                 \n",
            "                                                                                                  \n",
            " decoder (Functional)           (None, None, 128)    696960      ['dec_inputs[0][0]',             \n",
            "                                                                  'encoder[0][0]',                \n",
            "                                                                  'look_ahead_mask[0][0]',        \n",
            "                                                                  'dec_padding_mask[0][0]']       \n",
            "                                                                                                  \n",
            " outputs (Dense)                (None, None, 1311)   169119      ['decoder[0][0]']                \n",
            "                                                                                                  \n",
            "==================================================================================================\n",
            "Total params: 1,430,431\n",
            "Trainable params: 1,430,431\n",
            "Non-trainable params: 0\n",
            "__________________________________________________________________________________________________\n"
          ]
        }
      ]
    },
    {
      "cell_type": "markdown",
      "source": [
        "## Loss, Optimizer"
      ],
      "metadata": {
        "id": "SPBw_p5AjXYq"
      }
    },
    {
      "cell_type": "code",
      "source": [
        "def loss_function(y_true, y_pred):\n",
        "    y_true = tf.reshape(y_true, shape=(-1, TGT_MAX_LEN+1))\n",
        "\n",
        "    loss = tf.keras.losses.SparseCategoricalCrossentropy(\n",
        "        from_logits=True, reduction='none')(y_true, y_pred)\n",
        "\n",
        "    mask = tf.cast(tf.not_equal(y_true, 0), tf.float32)\n",
        "    loss = tf.multiply(loss, mask)\n",
        "\n",
        "    return tf.reduce_mean(loss)"
      ],
      "metadata": {
        "id": "oTtS2Pc_c7zp"
      },
      "execution_count": 62,
      "outputs": []
    },
    {
      "cell_type": "code",
      "source": [
        "class CustomSchedule(tf.keras.optimizers.schedules.LearningRateSchedule):\n",
        "\n",
        "    def __init__(self, d_model, warmup_steps=4000):\n",
        "        super(CustomSchedule, self).__init__()\n",
        "\n",
        "        self.d_model = d_model\n",
        "        self.d_model = tf.cast(self.d_model, tf.float32)\n",
        "\n",
        "        self.warmup_steps = warmup_steps\n",
        "\n",
        "    def __call__(self, step):\n",
        "        arg1 = tf.math.rsqrt(step)\n",
        "        arg2 = step * (self.warmup_steps**-1.5)\n",
        "\n",
        "        return tf.math.rsqrt(self.d_model) * tf.math.minimum(arg1, arg2)"
      ],
      "metadata": {
        "id": "vs3OZAOQjd30"
      },
      "execution_count": 63,
      "outputs": []
    },
    {
      "cell_type": "code",
      "source": [
        "sample_learning_rate = CustomSchedule(d_model=128)\n",
        "\n",
        "plt.plot(sample_learning_rate(tf.range(200000, dtype=tf.float32)))\n",
        "plt.ylabel(\"Learning Rate\")\n",
        "plt.xlabel(\"Train Step\")"
      ],
      "metadata": {
        "colab": {
          "base_uri": "https://localhost:8080/",
          "height": 297
        },
        "id": "12ph12rCjehg",
        "outputId": "99e47d18-19dd-416b-ec50-c34d7264839e"
      },
      "execution_count": 64,
      "outputs": [
        {
          "output_type": "execute_result",
          "data": {
            "text/plain": [
              "Text(0.5, 0, 'Train Step')"
            ]
          },
          "metadata": {},
          "execution_count": 64
        },
        {
          "output_type": "display_data",
          "data": {
            "text/plain": [
              "<Figure size 432x288 with 1 Axes>"
            ],
            "image/png": "[encoded data removed]"
          },
          "metadata": {
            "needs_background": "light"
          }
        }
      ]
    },
    {
      "cell_type": "code",
      "source": [
        "learning_rate = CustomSchedule(D_MODEL)\n",
        "\n",
        "optimizer = tf.keras.optimizers.Adam(\n",
        "    learning_rate, beta_1=0.9, beta_2=0.98, epsilon=1e-9)\n",
        "\n",
        "\n",
        "def accuracy(y_true, y_pred):\n",
        "    y_true = tf.cast(tf.reshape(y_true, shape=(-1, TGT_MAX_LEN + 1)), tf.int32)\n",
        "    pad_mask = tf.cast(tf.math.less_equal(y_true, 3), tf.int32)\n",
        "\n",
        "    y_pred = tf.math.argmax(y_pred, axis=-1, output_type=tf.int32)\n",
        "    y_pred = tf.math.add(y_pred, pad_mask)\n",
        "    \n",
        "    match = tf.math.reduce_sum(tf.cast(tf.math.equal(y_true, y_pred), tf.int32))\n",
        "    total = tf.math.reduce_sum(tf.cast(tf.math.greater(y_true, 3), tf.int32))\n",
        "\n",
        "    return tf.math.divide(match, total)\n",
        "\n",
        "model.compile(optimizer=optimizer, loss=loss_function, metrics=[accuracy])"
      ],
      "metadata": {
        "id": "HLGV4OgbjhWg"
      },
      "execution_count": 65,
      "outputs": []
    },
    {
      "cell_type": "code",
      "source": [
        "from keras.callbacks import ModelCheckpoint\n",
        "\n",
        "filepath = PATH + '/models/my_best_model.hdf5'\n",
        "checkpoint = ModelCheckpoint(filepath=filepath, \n",
        "                             monitor='val_loss',\n",
        "                             verbose=1, \n",
        "                             save_best_only=True,\n",
        "                             save_weights_only=True,\n",
        "                             mode='min')\n",
        "callbacks = [checkpoint]"
      ],
      "metadata": {
        "id": "aDzvXNsJCTrd"
      },
      "execution_count": 66,
      "outputs": []
    },
    {
      "cell_type": "code",
      "source": [
        "EPOCHS = 30\n",
        "with tf.device(\"/GPU:0\"):\n",
        "    history = model.fit(train_dataset, validation_data=test_dataset, epochs=EPOCHS, verbose=1, callbacks=callbacks)"
      ],
      "metadata": {
        "colab": {
          "base_uri": "https://localhost:8080/"
        },
        "id": "jrqqA_rEjqrR",
        "outputId": "2c9226d1-586a-4eb8-d593-ed279044e07b"
      },
      "execution_count": 67,
      "outputs": [
        {
          "output_type": "stream",
          "name": "stdout",
          "text": [
            "Epoch 1/30\n",
            "182/182 [==============================] - ETA: 0s - loss: 1.8642 - accuracy: 0.2335\n",
            "Epoch 1: val_loss improved from inf to 1.53262, saving model to /content/drive/MyDrive/2022취업/Naver-papago/models/my_best_model.hdf5\n",
            "182/182 [==============================] - 41s 112ms/step - loss: 1.8642 - accuracy: 0.2335 - val_loss: 1.5326 - val_accuracy: 0.3813\n",
            "Epoch 2/30\n",
            "182/182 [==============================] - ETA: 0s - loss: 1.3238 - accuracy: 0.3996\n",
            "Epoch 2: val_loss improved from 1.53262 to 1.10760, saving model to /content/drive/MyDrive/2022취업/Naver-papago/models/my_best_model.hdf5\n",
            "182/182 [==============================] - 18s 98ms/step - loss: 1.3238 - accuracy: 0.3996 - val_loss: 1.1076 - val_accuracy: 0.4009\n",
            "Epoch 3/30\n",
            "181/182 [============================>.] - ETA: 0s - loss: 1.0432 - accuracy: 0.4118\n",
            "Epoch 3: val_loss improved from 1.10760 to 0.97396, saving model to /content/drive/MyDrive/2022취업/Naver-papago/models/my_best_model.hdf5\n",
            "182/182 [==============================] - 13s 70ms/step - loss: 1.0434 - accuracy: 0.4120 - val_loss: 0.9740 - val_accuracy: 0.4266\n",
            "Epoch 4/30\n",
            "181/182 [============================>.] - ETA: 0s - loss: 0.9457 - accuracy: 0.4379\n",
            "Epoch 4: val_loss improved from 0.97396 to 0.88571, saving model to /content/drive/MyDrive/2022취업/Naver-papago/models/my_best_model.hdf5\n",
            "182/182 [==============================] - 13s 71ms/step - loss: 0.9452 - accuracy: 0.4382 - val_loss: 0.8857 - val_accuracy: 0.4729\n",
            "Epoch 5/30\n",
            "181/182 [============================>.] - ETA: 0s - loss: 0.8501 - accuracy: 0.4895\n",
            "Epoch 5: val_loss improved from 0.88571 to 0.78135, saving model to /content/drive/MyDrive/2022취업/Naver-papago/models/my_best_model.hdf5\n",
            "182/182 [==============================] - 13s 69ms/step - loss: 0.8501 - accuracy: 0.4897 - val_loss: 0.7814 - val_accuracy: 0.5359\n",
            "Epoch 6/30\n",
            "181/182 [============================>.] - ETA: 0s - loss: 0.7406 - accuracy: 0.5495\n",
            "Epoch 6: val_loss improved from 0.78135 to 0.65840, saving model to /content/drive/MyDrive/2022취업/Naver-papago/models/my_best_model.hdf5\n",
            "182/182 [==============================] - 13s 70ms/step - loss: 0.7398 - accuracy: 0.5501 - val_loss: 0.6584 - val_accuracy: 0.5974\n",
            "Epoch 7/30\n",
            "181/182 [============================>.] - ETA: 0s - loss: 0.6201 - accuracy: 0.6102\n",
            "Epoch 7: val_loss improved from 0.65840 to 0.55276, saving model to /content/drive/MyDrive/2022취업/Naver-papago/models/my_best_model.hdf5\n",
            "182/182 [==============================] - 13s 70ms/step - loss: 0.6203 - accuracy: 0.6104 - val_loss: 0.5528 - val_accuracy: 0.6526\n",
            "Epoch 8/30\n",
            "181/182 [============================>.] - ETA: 0s - loss: 0.5138 - accuracy: 0.6638\n",
            "Epoch 8: val_loss improved from 0.55276 to 0.46250, saving model to /content/drive/MyDrive/2022취업/Naver-papago/models/my_best_model.hdf5\n",
            "182/182 [==============================] - 13s 71ms/step - loss: 0.5139 - accuracy: 0.6638 - val_loss: 0.4625 - val_accuracy: 0.6988\n",
            "Epoch 9/30\n",
            "181/182 [============================>.] - ETA: 0s - loss: 0.4236 - accuracy: 0.7083\n",
            "Epoch 9: val_loss improved from 0.46250 to 0.40311, saving model to /content/drive/MyDrive/2022취업/Naver-papago/models/my_best_model.hdf5\n",
            "182/182 [==============================] - 14s 75ms/step - loss: 0.4237 - accuracy: 0.7085 - val_loss: 0.4031 - val_accuracy: 0.7365\n",
            "Epoch 10/30\n",
            "181/182 [============================>.] - ETA: 0s - loss: 0.3442 - accuracy: 0.7507\n",
            "Epoch 10: val_loss improved from 0.40311 to 0.33008, saving model to /content/drive/MyDrive/2022취업/Naver-papago/models/my_best_model.hdf5\n",
            "182/182 [==============================] - 13s 70ms/step - loss: 0.3438 - accuracy: 0.7511 - val_loss: 0.3301 - val_accuracy: 0.7670\n",
            "Epoch 11/30\n",
            "181/182 [============================>.] - ETA: 0s - loss: 0.2837 - accuracy: 0.7834\n",
            "Epoch 11: val_loss improved from 0.33008 to 0.29637, saving model to /content/drive/MyDrive/2022취업/Naver-papago/models/my_best_model.hdf5\n",
            "182/182 [==============================] - 13s 69ms/step - loss: 0.2836 - accuracy: 0.7837 - val_loss: 0.2964 - val_accuracy: 0.7826\n",
            "Epoch 12/30\n",
            "181/182 [============================>.] - ETA: 0s - loss: 0.2352 - accuracy: 0.8138\n",
            "Epoch 12: val_loss improved from 0.29637 to 0.27703, saving model to /content/drive/MyDrive/2022취업/Naver-papago/models/my_best_model.hdf5\n",
            "182/182 [==============================] - 13s 70ms/step - loss: 0.2352 - accuracy: 0.8139 - val_loss: 0.2770 - val_accuracy: 0.7981\n",
            "Epoch 13/30\n",
            "181/182 [============================>.] - ETA: 0s - loss: 0.1958 - accuracy: 0.8386\n",
            "Epoch 13: val_loss improved from 0.27703 to 0.23776, saving model to /content/drive/MyDrive/2022취업/Naver-papago/models/my_best_model.hdf5\n",
            "182/182 [==============================] - 13s 70ms/step - loss: 0.1957 - accuracy: 0.8387 - val_loss: 0.2378 - val_accuracy: 0.8220\n",
            "Epoch 14/30\n",
            "182/182 [==============================] - ETA: 0s - loss: 0.1648 - accuracy: 0.8619\n",
            "Epoch 14: val_loss did not improve from 0.23776\n",
            "182/182 [==============================] - 14s 78ms/step - loss: 0.1648 - accuracy: 0.8619 - val_loss: 0.2398 - val_accuracy: 0.8230\n",
            "Epoch 15/30\n",
            "181/182 [============================>.] - ETA: 0s - loss: 0.1436 - accuracy: 0.8762\n",
            "Epoch 15: val_loss improved from 0.23776 to 0.22265, saving model to /content/drive/MyDrive/2022취업/Naver-papago/models/my_best_model.hdf5\n",
            "182/182 [==============================] - 13s 70ms/step - loss: 0.1437 - accuracy: 0.8763 - val_loss: 0.2227 - val_accuracy: 0.8381\n",
            "Epoch 16/30\n",
            "181/182 [============================>.] - ETA: 0s - loss: 0.1236 - accuracy: 0.8888\n",
            "Epoch 16: val_loss improved from 0.22265 to 0.21406, saving model to /content/drive/MyDrive/2022취업/Naver-papago/models/my_best_model.hdf5\n",
            "182/182 [==============================] - 13s 69ms/step - loss: 0.1237 - accuracy: 0.8887 - val_loss: 0.2141 - val_accuracy: 0.8391\n",
            "Epoch 17/30\n",
            "181/182 [============================>.] - ETA: 0s - loss: 0.1114 - accuracy: 0.8991\n",
            "Epoch 17: val_loss improved from 0.21406 to 0.21383, saving model to /content/drive/MyDrive/2022취업/Naver-papago/models/my_best_model.hdf5\n",
            "182/182 [==============================] - 13s 69ms/step - loss: 0.1113 - accuracy: 0.8993 - val_loss: 0.2138 - val_accuracy: 0.8469\n",
            "Epoch 18/30\n",
            "181/182 [============================>.] - ETA: 0s - loss: 0.1013 - accuracy: 0.9071\n",
            "Epoch 18: val_loss did not improve from 0.21383\n",
            "182/182 [==============================] - 12s 65ms/step - loss: 0.1014 - accuracy: 0.9071 - val_loss: 0.2309 - val_accuracy: 0.8273\n",
            "Epoch 19/30\n",
            "181/182 [============================>.] - ETA: 0s - loss: 0.0948 - accuracy: 0.9104\n",
            "Epoch 19: val_loss did not improve from 0.21383\n",
            "182/182 [==============================] - 12s 65ms/step - loss: 0.0948 - accuracy: 0.9106 - val_loss: 0.2179 - val_accuracy: 0.8437\n",
            "Epoch 20/30\n",
            "181/182 [============================>.] - ETA: 0s - loss: 0.0842 - accuracy: 0.9177\n",
            "Epoch 20: val_loss did not improve from 0.21383\n",
            "182/182 [==============================] - 12s 65ms/step - loss: 0.0842 - accuracy: 0.9178 - val_loss: 0.2201 - val_accuracy: 0.8499\n",
            "Epoch 21/30\n",
            "181/182 [============================>.] - ETA: 0s - loss: 0.0829 - accuracy: 0.9194\n",
            "Epoch 21: val_loss did not improve from 0.21383\n",
            "182/182 [==============================] - 12s 65ms/step - loss: 0.0829 - accuracy: 0.9193 - val_loss: 0.2231 - val_accuracy: 0.8490\n",
            "Epoch 22/30\n",
            "181/182 [============================>.] - ETA: 0s - loss: 0.0797 - accuracy: 0.9229\n",
            "Epoch 22: val_loss improved from 0.21383 to 0.20556, saving model to /content/drive/MyDrive/2022취업/Naver-papago/models/my_best_model.hdf5\n",
            "182/182 [==============================] - 13s 69ms/step - loss: 0.0798 - accuracy: 0.9227 - val_loss: 0.2056 - val_accuracy: 0.8558\n",
            "Epoch 23/30\n",
            "181/182 [============================>.] - ETA: 0s - loss: 0.0723 - accuracy: 0.9291\n",
            "Epoch 23: val_loss improved from 0.20556 to 0.20113, saving model to /content/drive/MyDrive/2022취업/Naver-papago/models/my_best_model.hdf5\n",
            "182/182 [==============================] - 13s 70ms/step - loss: 0.0723 - accuracy: 0.9291 - val_loss: 0.2011 - val_accuracy: 0.8648\n",
            "Epoch 24/30\n",
            "181/182 [============================>.] - ETA: 0s - loss: 0.0645 - accuracy: 0.9374\n",
            "Epoch 24: val_loss did not improve from 0.20113\n",
            "182/182 [==============================] - 12s 65ms/step - loss: 0.0644 - accuracy: 0.9375 - val_loss: 0.2296 - val_accuracy: 0.8460\n",
            "Epoch 25/30\n",
            "181/182 [============================>.] - ETA: 0s - loss: 0.0575 - accuracy: 0.9429\n",
            "Epoch 25: val_loss did not improve from 0.20113\n",
            "182/182 [==============================] - 12s 66ms/step - loss: 0.0576 - accuracy: 0.9427 - val_loss: 0.2177 - val_accuracy: 0.8589\n",
            "Epoch 26/30\n",
            "181/182 [============================>.] - ETA: 0s - loss: 0.0496 - accuracy: 0.9510\n",
            "Epoch 26: val_loss did not improve from 0.20113\n",
            "182/182 [==============================] - 12s 64ms/step - loss: 0.0496 - accuracy: 0.9508 - val_loss: 0.2117 - val_accuracy: 0.8649\n",
            "Epoch 27/30\n",
            "181/182 [============================>.] - ETA: 0s - loss: 0.0491 - accuracy: 0.9512\n",
            "Epoch 27: val_loss did not improve from 0.20113\n",
            "182/182 [==============================] - 12s 65ms/step - loss: 0.0490 - accuracy: 0.9512 - val_loss: 0.2147 - val_accuracy: 0.8646\n",
            "Epoch 28/30\n",
            "181/182 [============================>.] - ETA: 0s - loss: 0.0432 - accuracy: 0.9572\n",
            "Epoch 28: val_loss did not improve from 0.20113\n",
            "182/182 [==============================] - 12s 67ms/step - loss: 0.0432 - accuracy: 0.9571 - val_loss: 0.2023 - val_accuracy: 0.8760\n",
            "Epoch 29/30\n",
            "181/182 [============================>.] - ETA: 0s - loss: 0.0395 - accuracy: 0.9608\n",
            "Epoch 29: val_loss did not improve from 0.20113\n",
            "182/182 [==============================] - 12s 64ms/step - loss: 0.0395 - accuracy: 0.9608 - val_loss: 0.2073 - val_accuracy: 0.8716\n",
            "Epoch 30/30\n",
            "181/182 [============================>.] - ETA: 0s - loss: 0.0374 - accuracy: 0.9621\n",
            "Epoch 30: val_loss did not improve from 0.20113\n",
            "182/182 [==============================] - 12s 65ms/step - loss: 0.0374 - accuracy: 0.9621 - val_loss: 0.2099 - val_accuracy: 0.8703\n"
          ]
        }
      ]
    },
    {
      "cell_type": "markdown",
      "source": [
        "# Evaluation (training)\n",
        "\n",
        "몇 번의 tuning 결과, 0.2011의 `val_loss`를 얻었습니다. 이 때 `val_acc`는 약 0.8648입니다.\n",
        "![image.png](data:image/png;base64,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)\n",
        "\n",
        "sample 단위로 decoding을 수행했을 때, 좋은 결과를 얻었습니다. 제대로 훈련되었음을 확인했습니다.\n",
        "```python3\n",
        ">>> y_pred = decoder_inference(x_data[40])\n",
        ">>> print(y_pred, y_data[40])\n",
        "[  1   5 412  35] [1, 5, 412, 35, 2]\n",
        "```"
      ],
      "metadata": {
        "id": "kt9dRsQSCCBb"
      }
    },
    {
      "cell_type": "code",
      "source": [
        "model"
      ],
      "metadata": {
        "colab": {
          "base_uri": "https://localhost:8080/"
        },
        "id": "NCFxU5zFjvmg",
        "outputId": "c804380f-7790-46f5-bc35-fbeb26db2178"
      },
      "execution_count": 68,
      "outputs": [
        {
          "output_type": "execute_result",
          "data": {
            "text/plain": [
              "<keras.engine.functional.Functional at 0x7f306f618850>"
            ]
          },
          "metadata": {},
          "execution_count": 68
        }
      ]
    },
    {
      "cell_type": "code",
      "source": [
        "def draw_history(history):\n",
        "    fig = plt.figure(figsize=(15, 5))\n",
        "    loss_ax = fig.add_subplot(1, 2, 1)\n",
        "    acc_ax = fig.add_subplot(1, 2, 2)\n",
        "\n",
        "    loss_ax.plot(history.history['loss'], 'y', label='train loss')\n",
        "    loss_ax.plot(history.history['val_loss'], 'r', label='test loss')\n",
        "    acc_ax.plot(history.history['accuracy'], 'b', label='train acc')\n",
        "    acc_ax.plot(history.history['val_accuracy'], 'r', label='test acc')\n",
        "\n",
        "    loss_ax.set_xlabel('epoch')\n",
        "    loss_ax.set_ylabel('loss')\n",
        "    acc_ax.set_xlabel('epoch')\n",
        "    acc_ax.set_ylabel('accuray')\n",
        "\n",
        "    plt.show()"
      ],
      "metadata": {
        "id": "rHbsmCPt82aQ"
      },
      "execution_count": 69,
      "outputs": []
    },
    {
      "cell_type": "code",
      "source": [
        "draw_history(history)\n"
      ],
      "metadata": {
        "colab": {
          "base_uri": "https://localhost:8080/",
          "height": 334
        },
        "id": "i4kOyMhOAuxL",
        "outputId": "0b9e5583-4abc-4c26-cd4c-cef6fdf8af75"
      },
      "execution_count": 70,
      "outputs": [
        {
          "output_type": "display_data",
          "data": {
            "text/plain": [
              "<Figure size 1080x360 with 2 Axes>"
            ],
            "image/png": "[encoded data removed]"
          },
          "metadata": {
            "needs_background": "light"
          }
        }
      ]
    },
    {
      "cell_type": "code",
      "source": [
        "np.set_printoptions(formatter={'float_kind': lambda x: \"{0:0.3f}\".format(x)})\n"
      ],
      "metadata": {
        "id": "unhn375lAv4x"
      },
      "execution_count": 71,
      "outputs": []
    },
    {
      "cell_type": "code",
      "source": [
        "def predict(sentence):\n",
        "    sentence = tf.keras.preprocessing.sequence.pad_sequences([sentence], maxlen=TGT_MAX_LEN+1, padding='post')\n",
        "    #sentence = tf.expand_dims(sentence, axis=0)\n",
        "\n",
        "    output_sequence = tf.expand_dims([1], 0)\n",
        "\n",
        "    predictions = model.predict([sentence, output_sequence])\n",
        "    predictions = tf.nn.softmax(predictions)\n",
        "    return predictions"
      ],
      "metadata": {
        "id": "2o1eU1HbA1DL"
      },
      "execution_count": 72,
      "outputs": []
    },
    {
      "cell_type": "code",
      "source": [
        "x_data[0]"
      ],
      "metadata": {
        "colab": {
          "base_uri": "https://localhost:8080/"
        },
        "id": "NH092IAwBW4Y",
        "outputId": "eab5913e-faa3-4d21-f4de-572c652021f5"
      },
      "execution_count": 73,
      "outputs": [
        {
          "output_type": "execute_result",
          "data": {
            "text/plain": [
              "[1106, 1249, 1114, 1116, 1116, 1105, 1110, 2]"
            ]
          },
          "metadata": {},
          "execution_count": 73
        }
      ]
    },
    {
      "cell_type": "code",
      "source": [
        "y_data[0]"
      ],
      "metadata": {
        "colab": {
          "base_uri": "https://localhost:8080/"
        },
        "id": "FpcocehDDEKa",
        "outputId": "a3d7f003-b1b1-4af2-ec63-3c744a3c26f4"
      },
      "execution_count": 74,
      "outputs": [
        {
          "output_type": "execute_result",
          "data": {
            "text/plain": [
              "[1, 5, 74, 98, 2]"
            ]
          },
          "metadata": {},
          "execution_count": 74
        }
      ]
    },
    {
      "cell_type": "code",
      "source": [
        "pred = predict(x_data[0])"
      ],
      "metadata": {
        "id": "V4YNV7_ZBFld"
      },
      "execution_count": 75,
      "outputs": []
    },
    {
      "cell_type": "code",
      "source": [
        "np.argsort(pred.numpy()[0,0], axis=0)[-1]"
      ],
      "metadata": {
        "colab": {
          "base_uri": "https://localhost:8080/"
        },
        "id": "eU5OmBSaBRG_",
        "outputId": "5512b676-04d7-46d1-a597-928986c4acb0"
      },
      "execution_count": 76,
      "outputs": [
        {
          "output_type": "execute_result",
          "data": {
            "text/plain": [
              "5"
            ]
          },
          "metadata": {},
          "execution_count": 76
        }
      ]
    },
    {
      "cell_type": "code",
      "source": [
        "pred.shape"
      ],
      "metadata": {
        "colab": {
          "base_uri": "https://localhost:8080/"
        },
        "id": "Gw8CiFsmCrP-",
        "outputId": "722d9f51-f206-4bf6-ac72-78a6f25e926a"
      },
      "execution_count": 77,
      "outputs": [
        {
          "output_type": "execute_result",
          "data": {
            "text/plain": [
              "TensorShape([1, 1, 1311])"
            ]
          },
          "metadata": {},
          "execution_count": 77
        }
      ]
    },
    {
      "cell_type": "code",
      "source": [
        "def decoder_inference(sentence):\n",
        "    sentence = tf.keras.preprocessing.sequence.pad_sequences([sentence], maxlen=TGT_MAX_LEN+1, padding='post')\n",
        "    # 디코더의 현재까지의 예측한 출력 시퀀스가 지속적으로 저장되는 변수.\n",
        "    # 처음에는 예측한 내용이 없음으로 시작 토큰만 별도 저장. \n",
        "    output_sequence = tf.expand_dims([1], 0)\n",
        "\n",
        "    # 디코더의 인퍼런스 단계\n",
        "    for i in range(TGT_MAX_LEN):\n",
        "        # 디코더는 최대 MAX_LENGTH의 길이만큼 다음 단어 예측을 반복합니다.\n",
        "        predictions = model(inputs=[sentence, output_sequence], training=False)\n",
        "        predictions = predictions[:, -1:, :]\n",
        "        # 현재 예측한 단어의 정수\n",
        "        predicted_id = tf.cast(tf.argmax(predictions, axis=-1), tf.int32)\n",
        "\n",
        "        # 만약 현재 예측한 단어가 종료 토큰이라면 for문을 종료\n",
        "        if tf.equal(predicted_id, 2):\n",
        "            #temp = [[2]]\n",
        "            #temp[0].extend([0]*(TGT_MAX_LEN-(i+1)))\n",
        "            #output_sequence = tf.concat([output_sequence, temp], axis=-1)\n",
        "            break\n",
        "\n",
        "        # 예측한 단어들은 지속적으로 output_sequence에 추가됩니다.\n",
        "        # 이 output_sequence는 다시 디코더의 입력이 됩니다.\n",
        "        output_sequence = tf.concat([output_sequence, predicted_id], axis=-1)\n",
        "\n",
        "    return tf.squeeze(output_sequence, axis=0).numpy()"
      ],
      "metadata": {
        "id": "ingQcO19DAeG"
      },
      "execution_count": 78,
      "outputs": []
    },
    {
      "cell_type": "code",
      "source": [
        "y_pred = decoder_inference(x_data[40])\n",
        "print(y_pred, y_data[40])"
      ],
      "metadata": {
        "colab": {
          "base_uri": "https://localhost:8080/"
        },
        "id": "xOd4LCjFIRK6",
        "outputId": "41d3850b-af1c-4429-b579-d8b07213ec68"
      },
      "execution_count": 79,
      "outputs": [
        {
          "output_type": "stream",
          "name": "stdout",
          "text": [
            "[  1   5 412  35] [1, 5, 412, 35, 2]\n"
          ]
        }
      ]
    },
    {
      "cell_type": "markdown",
      "source": [
        "# Evaluation(test)\n",
        "Test set에서 대해 inference를 수행합니다. 데이터를 불러오고, train set에서 사용한 tokenization을 변형 없이 그대로 수행했습니다. 문자열로 변환 후 새롭게 tokenize한 결과는 다음과 같습니다.\n",
        "\n",
        "Decoding을 batch 단위로 수행하고, 원래의 데이터로 변환합니다.  "
      ],
      "metadata": {
        "id": "GLuRlZVFKDT_"
      }
    },
    {
      "cell_type": "markdown",
      "source": [
        "![image.png](data:image/png;base64,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)"
      ],
      "metadata": {
        "id": "sYjsyXjBcFDa"
      }
    },
    {
      "cell_type": "code",
      "source": [
        "#model.save_weights(PATH+'/savedmodel/transformer')"
      ],
      "metadata": {
        "id": "ipr32KmNcgtt"
      },
      "execution_count": 80,
      "outputs": []
    },
    {
      "cell_type": "code",
      "source": [
        "tf.keras.backend.clear_session()\n",
        "# TOTAL_VOCAB=1311\n",
        "print(TOTAL_VOCAB)\n",
        "loaded_model = transformer(\n",
        "    vocab_size=TOTAL_VOCAB,\n",
        "    num_layers=NUM_LAYERS,\n",
        "    units=UNITS,\n",
        "    d_model=D_MODEL,\n",
        "    num_heads=NUM_HEADS,\n",
        "    dropout=DROPOUT)\n",
        "\n",
        "loaded_model.summary()"
      ],
      "metadata": {
        "colab": {
          "base_uri": "https://localhost:8080/"
        },
        "id": "8l1dYI4ddyaH",
        "outputId": "0ebb10d5-572b-4ffe-9c84-d3aec3f35893"
      },
      "execution_count": 81,
      "outputs": [
        {
          "output_type": "stream",
          "name": "stdout",
          "text": [
            "1311\n",
            "Model: \"transformer\"\n",
            "__________________________________________________________________________________________________\n",
            " Layer (type)                   Output Shape         Param #     Connected to                     \n",
            "==================================================================================================\n",
            " inputs (InputLayer)            [(None, None)]       0           []                               \n",
            "                                                                                                  \n",
            " dec_inputs (InputLayer)        [(None, None)]       0           []                               \n",
            "                                                                                                  \n",
            " enc_padding_mask (Lambda)      (None, 1, 1, None)   0           ['inputs[0][0]']                 \n",
            "                                                                                                  \n",
            " encoder (Functional)           (None, None, 128)    564352      ['inputs[0][0]',                 \n",
            "                                                                  'enc_padding_mask[0][0]']       \n",
            "                                                                                                  \n",
            " look_ahead_mask (Lambda)       (None, 1, None, Non  0           ['dec_inputs[0][0]']             \n",
            "                                e)                                                                \n",
            "                                                                                                  \n",
            " dec_padding_mask (Lambda)      (None, 1, 1, None)   0           ['inputs[0][0]']                 \n",
            "                                                                                                  \n",
            " decoder (Functional)           (None, None, 128)    696960      ['dec_inputs[0][0]',             \n",
            "                                                                  'encoder[0][0]',                \n",
            "                                                                  'look_ahead_mask[0][0]',        \n",
            "                                                                  'dec_padding_mask[0][0]']       \n",
            "                                                                                                  \n",
            " outputs (Dense)                (None, None, 1311)   169119      ['decoder[0][0]']                \n",
            "                                                                                                  \n",
            "==================================================================================================\n",
            "Total params: 1,430,431\n",
            "Trainable params: 1,430,431\n",
            "Non-trainable params: 0\n",
            "__________________________________________________________________________________________________\n"
          ]
        }
      ]
    },
    {
      "cell_type": "code",
      "source": [
        "loaded_model.load_weights(PATH+\"/models/my_best_model.hdf5\")"
      ],
      "metadata": {
        "id": "lRyoyWDoeBKC"
      },
      "execution_count": 82,
      "outputs": []
    },
    {
      "cell_type": "code",
      "source": [
        "def decoder_inference_batch(input):\n",
        "    # 디코더의 현재까지의 예측한 출력 시퀀스가 지속적으로 저장되는 변수.\n",
        "    # 처음에는 예측한 내용이 없음으로 시작 토큰만 별도 저장.\n",
        "    output = tf.ones([input.shape[0], 1])\n",
        "    output = tf.cast(output, tf.int64)\n",
        "    eos_mask = tf.cast(tf.ones(input.shape[0]), tf.int64)\n",
        "    # 디코더의 인퍼런스 단계\n",
        "    for i in range(TGT_MAX_LEN-1):\n",
        "        # 디코더는 최대 MAX_LENGTH의 길이만큼 다음 단어 예측을 반복합니다.\n",
        "        predictions = model(inputs=[input, output], training=False)\n",
        "        predictions = predictions[:, -1:]\n",
        "        # 현재 예측한 단어의 정수\n",
        "        predicted_id = tf.argmax(predictions, axis=-1)\n",
        "\n",
        "        eos_mask *= tf.cast(tf.not_equal(predicted_id, 2), tf.int64)\n",
        "        predicted_id *= eos_mask\n",
        "        output = tf.concat([output, predicted_id], axis=-1)\n",
        "        #print(output.shape, predictions.shape, predicted_id.shape)\n",
        "    return output.numpy()"
      ],
      "metadata": {
        "id": "ep3Mc9JMfR8U"
      },
      "execution_count": 103,
      "outputs": []
    },
    {
      "cell_type": "code",
      "source": [
        "tst_src = pd.read_csv(PATH + \"/test_source.txt\", sep=\"\\t\", names=[\"test_source\"])\n",
        "tst_tgt = pd.read_csv(PATH + \"/test_target.txt\", sep=\"\\t\", names=[\"test_target\"])\n",
        "\n",
        "tst_src = tst_src['test_source'].apply(to_tkn_lst)  # token을 원소로 갖는 리스트로 변환합니다.\n",
        "tst_tgt = tst_tgt['test_target'].apply(to_tkn_lst)\n",
        "\n",
        "tst_combined = pd.merge(tst_src, tst_tgt, left_index=True, right_index=True)\n",
        "tst_combined['test_chr_src'] = tst_combined['test_source'].apply(lambda x: ''.join([custom_chr(i) for i in x]))\n",
        "tst_combined['test_chr_tgt'] = tst_combined['test_target'].apply(lambda x: ''.join([custom_chr(i) for i in x]))\n",
        "\n",
        "tst_combined['test_re_tok_src'] = tst_combined['test_chr_src'].apply(re_tokenize, args=(sp_src,TGT_VOCAB))\n",
        "tst_combined['test_re_tok_tgt'] = tst_combined['test_chr_tgt'].apply(re_tokenize, args=(sp_tgt,))"
      ],
      "metadata": {
        "id": "WOUVFMJxIdA_"
      },
      "execution_count": 97,
      "outputs": []
    },
    {
      "cell_type": "code",
      "source": [
        "tst_combined"
      ],
      "metadata": {
        "id": "4VVXfcFPNvlT",
        "colab": {
          "base_uri": "https://localhost:8080/",
          "height": 780
        },
        "outputId": "0ff8bf1d-8cc5-4857-de41-0e6b10de6d47"
      },
      "execution_count": 86,
      "outputs": [
        {
          "output_type": "execute_result",
          "data": {
            "text/plain": [
              "                                            test_source  \\\n",
              "0     [105, 68, 200, 416, 29, 200, 311, 35, 68, 140,...   \n",
              "1     [105, 68, 140, 227, 105, 157, 619, 68, 140, 22...   \n",
              "2     [200, 95, 140, 105, 304, 105, 52, 105, 200, 41...   \n",
              "3                              [416, 437, 200, 35, 437]   \n",
              "4     [157, 342, 95, 35, 437, 95, 311, 68, 35, 52, 2...   \n",
              "...                                                 ...   \n",
              "1995        [416, 105, 304, 437, 68, 156, 437, 35, 140]   \n",
              "1996                                     [402, 200, 35]   \n",
              "1997  [200, 68, 140, 311, 33, 227, 584, 584, 157, 68...   \n",
              "1998  [271, 584, 68, 311, 584, 342, 68, 437, 157, 22...   \n",
              "1999        [105, 140, 453, 35, 68, 227, 584, 140, 327]   \n",
              "\n",
              "                                            test_target  \\\n",
              "0     [607, 158, 68, 135, 503, 158, 108, 68, 347, 50...   \n",
              "1     [607, 158, 68, 82, 152, 68, 569, 68, 321, 155,...   \n",
              "2     [607, 222, 4, 285, 68, 430, 59, 517, 115, 158,...   \n",
              "3                                             [211, 85]   \n",
              "4                          [565, 415, 211, 68, 85, 632]   \n",
              "...                                                 ...   \n",
              "1995                  [550, 158, 240, 68, 531, 85, 359]   \n",
              "1996                                          [408, 85]   \n",
              "1997  [189, 68, 136, 158, 386, 68, 158, 108, 68, 237...   \n",
              "1998       [370, 68, 5, 68, 425, 15, 158, 68, 211, 450]   \n",
              "1999                                 [339, 551, 68, 11]   \n",
              "\n",
              "                                     test_chr_src                test_chr_tgt  \\\n",
              "0     걩오곈궠객곈괷갣오게곈깫궵오곈오갣곣깈객궵걟오괇궵괰깈걟궵오궒깈걩겝궒오게깈오괇궵괏굇  깟겞오겇귷겞걬오굛귵오경오깧겪오궕곱오갶꺎오궍오긓겕   \n",
              "1                     걩오게곣걩겝깫오게곣궵오깈걩궠오걩갣오궠궵곈깫걩겝궒굇            깟겞오걒겘오긹오굁겛오겞걬오곓겲   \n",
              "2                         곈걟게걩괰걩갴걩곈궠오걩겝갣궵걎걩겝곈게걩깈겝                 깟곞간괝오궮갻긅걳겞걶   \n",
              "3                                           궠궵곈갣궵                          곓걕   \n",
              "4                                  겝굖걟갣궵걟괷오갣갴곣깈깈궠                      긵궟곓오걕깸   \n",
              "...                                           ...                         ...   \n",
              "1995                                    궠걩괰궵오겜궵갣게                     긦겞곰오긓걕굧   \n",
              "1996                                          궒곈갣                          궘걕   \n",
              "1997                         곈오게괷갡곣깈깈겝오걩갣오갴깈걎걩겝궒굇                 경오겈겞궂오겞걬오곭긮   \n",
              "1998                        괏깈오괷깈굖오궵겝곤깈괷오걟궵곈괏걩겝궒걱                  굲오갅오궩갏겞오곓귂   \n",
              "1999                                    걩게귅갣오곣깈게굇                        굓긧오갋   \n",
              "\n",
              "                                        test_re_tok_src  \\\n",
              "0     [1136, 4, 1154, 1259, 1107, 4, 1197, 4, 1108, ...   \n",
              "1     [1136, 4, 1240, 4, 1126, 4, 1128, 1195, 4, 113...   \n",
              "2     [1106, 1139, 1113, 1203, 1150, 1114, 1154, 4, ...   \n",
              "3                        [1106, 1117, 1105, 1172, 1105]   \n",
              "4     [1106, 1118, 1122, 1110, 1107, 1105, 1222, 4, ...   \n",
              "...                                                 ...   \n",
              "1995            [1106, 1117, 1203, 1105, 4, 1174, 1138]   \n",
              "1996                                 [1106, 1134, 1172]   \n",
              "1997  [1106, 1108, 4, 1113, 1127, 1116, 1152, 1137, ...   \n",
              "1998  [1175, 4, 1119, 4, 1105, 1118, 1227, 1128, 112...   \n",
              "1999                  [1136, 1191, 4, 1152, 1113, 1109]   \n",
              "\n",
              "                                        test_re_tok_tgt  \n",
              "0     [5, 7, 4, 95, 114, 14, 4, 52, 4, 6, 4, 887, 13...  \n",
              "1         [5, 7, 4, 93, 4, 8, 4, 690, 4, 13, 4, 26, 86]  \n",
              "2          [30, 63, 83, 784, 4, 19, 491, 24, 1030, 705]  \n",
              "3                                           [5, 26, 11]  \n",
              "4                                 [5, 133, 103, 4, 240]  \n",
              "...                                                 ...  \n",
              "1995                               [5, 251, 49, 4, 427]  \n",
              "1996                                       [5, 403, 11]  \n",
              "1997                 [5, 6, 4, 400, 950, 4, 13, 4, 419]  \n",
              "1998             [5, 17, 4, 9, 4, 375, 469, 40, 4, 769]  \n",
              "1999                                    [5, 39, 4, 410]  \n",
              "\n",
              "[2000 rows x 6 columns]"
            ],
            "text/html": [
              "\n",
              "  <div id=\"df-de85c9dd-188f-45b9-910d-b4a7f85bc54c\">\n",
              "    <div class=\"colab-df-container\">\n",
              "      <div>\n",
              "<style scoped>\n",
              "    .dataframe tbody tr th:only-of-type {\n",
              "        vertical-align: middle;\n",
              "    }\n",
              "\n",
              "    .dataframe tbody tr th {\n",
              "        vertical-align: top;\n",
              "    }\n",
              "\n",
              "    .dataframe thead th {\n",
              "        text-align: right;\n",
              "    }\n",
              "</style>\n",
              "<table border=\"1\" class=\"dataframe\">\n",
              "  <thead>\n",
              "    <tr style=\"text-align: right;\">\n",
              "      <th></th>\n",
              "      <th>test_source</th>\n",
              "      <th>test_target</th>\n",
              "      <th>test_chr_src</th>\n",
              "      <th>test_chr_tgt</th>\n",
              "      <th>test_re_tok_src</th>\n",
              "      <th>test_re_tok_tgt</th>\n",
              "    </tr>\n",
              "  </thead>\n",
              "  <tbody>\n",
              "    <tr>\n",
              "      <th>0</th>\n",
              "      <td>[105, 68, 200, 416, 29, 200, 311, 35, 68, 140,...</td>\n",
              "      <td>[607, 158, 68, 135, 503, 158, 108, 68, 347, 50...</td>\n",
              "      <td>걩오곈궠객곈괷갣오게곈깫궵오곈오갣곣깈객궵걟오괇궵괰깈걟궵오궒깈걩겝궒오게깈오괇궵괏굇</td>\n",
              "      <td>깟겞오겇귷겞걬오굛귵오경오깧겪오궕곱오갶꺎오궍오긓겕</td>\n",
              "      <td>[1136, 4, 1154, 1259, 1107, 4, 1197, 4, 1108, ...</td>\n",
              "      <td>[5, 7, 4, 95, 114, 14, 4, 52, 4, 6, 4, 887, 13...</td>\n",
              "    </tr>\n",
              "    <tr>\n",
              "      <th>1</th>\n",
              "      <td>[105, 68, 140, 227, 105, 157, 619, 68, 140, 22...</td>\n",
              "      <td>[607, 158, 68, 82, 152, 68, 569, 68, 321, 155,...</td>\n",
              "      <td>걩오게곣걩겝깫오게곣궵오깈걩궠오걩갣오궠궵곈깫걩겝궒굇</td>\n",
              "      <td>깟겞오걒겘오긹오굁겛오겞걬오곓겲</td>\n",
              "      <td>[1136, 4, 1240, 4, 1126, 4, 1128, 1195, 4, 113...</td>\n",
              "      <td>[5, 7, 4, 93, 4, 8, 4, 690, 4, 13, 4, 26, 86]</td>\n",
              "    </tr>\n",
              "    <tr>\n",
              "      <th>2</th>\n",
              "      <td>[200, 95, 140, 105, 304, 105, 52, 105, 200, 41...</td>\n",
              "      <td>[607, 222, 4, 285, 68, 430, 59, 517, 115, 158,...</td>\n",
              "      <td>곈걟게걩괰걩갴걩곈궠오걩겝갣궵걎걩겝곈게걩깈겝</td>\n",
              "      <td>깟곞간괝오궮갻긅걳겞걶</td>\n",
              "      <td>[1106, 1139, 1113, 1203, 1150, 1114, 1154, 4, ...</td>\n",
              "      <td>[30, 63, 83, 784, 4, 19, 491, 24, 1030, 705]</td>\n",
              "    </tr>\n",
              "    <tr>\n",
              "      <th>3</th>\n",
              "      <td>[416, 437, 200, 35, 437]</td>\n",
              "      <td>[211, 85]</td>\n",
              "      <td>궠궵곈갣궵</td>\n",
              "      <td>곓걕</td>\n",
              "      <td>[1106, 1117, 1105, 1172, 1105]</td>\n",
              "      <td>[5, 26, 11]</td>\n",
              "    </tr>\n",
              "    <tr>\n",
              "      <th>4</th>\n",
              "      <td>[157, 342, 95, 35, 437, 95, 311, 68, 35, 52, 2...</td>\n",
              "      <td>[565, 415, 211, 68, 85, 632]</td>\n",
              "      <td>겝굖걟갣궵걟괷오갣갴곣깈깈궠</td>\n",
              "      <td>긵궟곓오걕깸</td>\n",
              "      <td>[1106, 1118, 1122, 1110, 1107, 1105, 1222, 4, ...</td>\n",
              "      <td>[5, 133, 103, 4, 240]</td>\n",
              "    </tr>\n",
              "    <tr>\n",
              "      <th>...</th>\n",
              "      <td>...</td>\n",
              "      <td>...</td>\n",
              "      <td>...</td>\n",
              "      <td>...</td>\n",
              "      <td>...</td>\n",
              "      <td>...</td>\n",
              "    </tr>\n",
              "    <tr>\n",
              "      <th>1995</th>\n",
              "      <td>[416, 105, 304, 437, 68, 156, 437, 35, 140]</td>\n",
              "      <td>[550, 158, 240, 68, 531, 85, 359]</td>\n",
              "      <td>궠걩괰궵오겜궵갣게</td>\n",
              "      <td>긦겞곰오긓걕굧</td>\n",
              "      <td>[1106, 1117, 1203, 1105, 4, 1174, 1138]</td>\n",
              "      <td>[5, 251, 49, 4, 427]</td>\n",
              "    </tr>\n",
              "    <tr>\n",
              "      <th>1996</th>\n",
              "      <td>[402, 200, 35]</td>\n",
              "      <td>[408, 85]</td>\n",
              "      <td>궒곈갣</td>\n",
              "      <td>궘걕</td>\n",
              "      <td>[1106, 1134, 1172]</td>\n",
              "      <td>[5, 403, 11]</td>\n",
              "    </tr>\n",
              "    <tr>\n",
              "      <th>1997</th>\n",
              "      <td>[200, 68, 140, 311, 33, 227, 584, 584, 157, 68...</td>\n",
              "      <td>[189, 68, 136, 158, 386, 68, 158, 108, 68, 237...</td>\n",
              "      <td>곈오게괷갡곣깈깈겝오걩갣오갴깈걎걩겝궒굇</td>\n",
              "      <td>경오겈겞궂오겞걬오곭긮</td>\n",
              "      <td>[1106, 1108, 4, 1113, 1127, 1116, 1152, 1137, ...</td>\n",
              "      <td>[5, 6, 4, 400, 950, 4, 13, 4, 419]</td>\n",
              "    </tr>\n",
              "    <tr>\n",
              "      <th>1998</th>\n",
              "      <td>[271, 584, 68, 311, 584, 342, 68, 437, 157, 22...</td>\n",
              "      <td>[370, 68, 5, 68, 425, 15, 158, 68, 211, 450]</td>\n",
              "      <td>괏깈오괷깈굖오궵겝곤깈괷오걟궵곈괏걩겝궒걱</td>\n",
              "      <td>굲오갅오궩갏겞오곓귂</td>\n",
              "      <td>[1175, 4, 1119, 4, 1105, 1118, 1227, 1128, 112...</td>\n",
              "      <td>[5, 17, 4, 9, 4, 375, 469, 40, 4, 769]</td>\n",
              "    </tr>\n",
              "    <tr>\n",
              "      <th>1999</th>\n",
              "      <td>[105, 140, 453, 35, 68, 227, 584, 140, 327]</td>\n",
              "      <td>[339, 551, 68, 11]</td>\n",
              "      <td>걩게귅갣오곣깈게굇</td>\n",
              "      <td>굓긧오갋</td>\n",
              "      <td>[1136, 1191, 4, 1152, 1113, 1109]</td>\n",
              "      <td>[5, 39, 4, 410]</td>\n",
              "    </tr>\n",
              "  </tbody>\n",
              "</table>\n",
              "<p>2000 rows × 6 columns</p>\n",
              "</div>\n",
              "      <button class=\"colab-df-convert\" onclick=\"convertToInteractive('df-de85c9dd-188f-45b9-910d-b4a7f85bc54c')\"\n",
              "              title=\"Convert this dataframe to an interactive table.\"\n",
              "              style=\"display:none;\">\n",
              "        \n",
              "  <svg xmlns=\"http://www.w3.org/2000/svg\" height=\"24px\"viewBox=\"0 0 24 24\"\n",
              "       width=\"24px\">\n",
              "    <path d=\"M0 0h24v24H0V0z\" fill=\"none\"/>\n",
              "    <path d=\"M18.56 5.44l.94 2.06.94-2.06 2.06-.94-2.06-.94-.94-2.06-.94 2.06-2.06.94zm-11 1L8.5 8.5l.94-2.06 2.06-.94-2.06-.94L8.5 2.5l-.94 2.06-2.06.94zm10 10l.94 2.06.94-2.06 2.06-.94-2.06-.94-.94-2.06-.94 2.06-2.06.94z\"/><path d=\"M17.41 7.96l-1.37-1.37c-.4-.4-.92-.59-1.43-.59-.52 0-1.04.2-1.43.59L10.3 9.45l-7.72 7.72c-.78.78-.78 2.05 0 2.83L4 21.41c.39.39.9.59 1.41.59.51 0 1.02-.2 1.41-.59l7.78-7.78 2.81-2.81c.8-.78.8-2.07 0-2.86zM5.41 20L4 18.59l7.72-7.72 1.47 1.35L5.41 20z\"/>\n",
              "  </svg>\n",
              "      </button>\n",
              "      \n",
              "  <style>\n",
              "    .colab-df-container {\n",
              "      display:flex;\n",
              "      flex-wrap:wrap;\n",
              "      gap: 12px;\n",
              "    }\n",
              "\n",
              "    .colab-df-convert {\n",
              "      background-color: #E8F0FE;\n",
              "      border: none;\n",
              "      border-radius: 50%;\n",
              "      cursor: pointer;\n",
              "      display: none;\n",
              "      fill: #1967D2;\n",
              "      height: 32px;\n",
              "      padding: 0 0 0 0;\n",
              "      width: 32px;\n",
              "    }\n",
              "\n",
              "    .colab-df-convert:hover {\n",
              "      background-color: #E2EBFA;\n",
              "      box-shadow: 0px 1px 2px rgba(60, 64, 67, 0.3), 0px 1px 3px 1px rgba(60, 64, 67, 0.15);\n",
              "      fill: #174EA6;\n",
              "    }\n",
              "\n",
              "    [theme=dark] .colab-df-convert {\n",
              "      background-color: #3B4455;\n",
              "      fill: #D2E3FC;\n",
              "    }\n",
              "\n",
              "    [theme=dark] .colab-df-convert:hover {\n",
              "      background-color: #434B5C;\n",
              "      box-shadow: 0px 1px 3px 1px rgba(0, 0, 0, 0.15);\n",
              "      filter: drop-shadow(0px 1px 2px rgba(0, 0, 0, 0.3));\n",
              "      fill: #FFFFFF;\n",
              "    }\n",
              "  </style>\n",
              "\n",
              "      <script>\n",
              "        const buttonEl =\n",
              "          document.querySelector('#df-de85c9dd-188f-45b9-910d-b4a7f85bc54c button.colab-df-convert');\n",
              "        buttonEl.style.display =\n",
              "          google.colab.kernel.accessAllowed ? 'block' : 'none';\n",
              "\n",
              "        async function convertToInteractive(key) {\n",
              "          const element = document.querySelector('#df-de85c9dd-188f-45b9-910d-b4a7f85bc54c');\n",
              "          const dataTable =\n",
              "            await google.colab.kernel.invokeFunction('convertToInteractive',\n",
              "                                                     [key], {});\n",
              "          if (!dataTable) return;\n",
              "\n",
              "          const docLinkHtml = 'Like what you see? Visit the ' +\n",
              "            '<a target=\"_blank\" href=https://colab.research.google.com/notebooks/data_table.ipynb>data table notebook</a>'\n",
              "            + ' to learn more about interactive tables.';\n",
              "          element.innerHTML = '';\n",
              "          dataTable['output_type'] = 'display_data';\n",
              "          await google.colab.output.renderOutput(dataTable, element);\n",
              "          const docLink = document.createElement('div');\n",
              "          docLink.innerHTML = docLinkHtml;\n",
              "          element.appendChild(docLink);\n",
              "        }\n",
              "      </script>\n",
              "    </div>\n",
              "  </div>\n",
              "  "
            ]
          },
          "metadata": {},
          "execution_count": 86
        }
      ]
    },
    {
      "cell_type": "code",
      "source": [
        "x_data_tst = [s+[2] for s in tst_combined.test_re_tok_src] # add EOS\n",
        "y_data_tst = [[1]+s+[2] for s in tst_combined.test_re_tok_tgt]  # add BOS, EOS\n",
        "assert len(x_data_tst) == len(y_data_tst)\n",
        "print(len(x_data_tst))"
      ],
      "metadata": {
        "colab": {
          "base_uri": "https://localhost:8080/"
        },
        "id": "zeKpAIZqN1Tn",
        "outputId": "e1eb116b-d889-4b11-b4aa-7ffefe1aa2b0"
      },
      "execution_count": 87,
      "outputs": [
        {
          "output_type": "stream",
          "name": "stdout",
          "text": [
            "2000\n"
          ]
        }
      ]
    },
    {
      "cell_type": "code",
      "source": [
        "test_inputs = tf.keras.preprocessing.sequence.pad_sequences(\n",
        "    x_data_tst, \n",
        "    maxlen=SRC_MAX_LEN+1, \n",
        "    padding='post', \n",
        "    value=0)\n",
        "\n",
        "print(test_inputs.shape)\n",
        "test_inputs"
      ],
      "metadata": {
        "colab": {
          "base_uri": "https://localhost:8080/"
        },
        "id": "8FETxK56h-Mo",
        "outputId": "2369e9d7-47a8-408b-eb3c-55c6ab068c3c"
      },
      "execution_count": 88,
      "outputs": [
        {
          "output_type": "stream",
          "name": "stdout",
          "text": [
            "(2000, 41)\n"
          ]
        },
        {
          "output_type": "execute_result",
          "data": {
            "text/plain": [
              "array([[1136,    4, 1154, ...,    0,    0,    0],\n",
              "       [1136,    4, 1240, ...,    0,    0,    0],\n",
              "       [1106, 1139, 1113, ...,    0,    0,    0],\n",
              "       ...,\n",
              "       [1106, 1108,    4, ...,    0,    0,    0],\n",
              "       [1175,    4, 1119, ...,    0,    0,    0],\n",
              "       [1136, 1191,    4, ...,    0,    0,    0]], dtype=int32)"
            ]
          },
          "metadata": {},
          "execution_count": 88
        }
      ]
    },
    {
      "cell_type": "code",
      "source": [
        "tst_dataset = tf.data.Dataset.from_tensor_slices(test_inputs)\n",
        "tst_dataset = tst_dataset.cache()\n",
        "tst_dataset = tst_dataset.batch(256)\n",
        "tst_dataset = tst_dataset.prefetch(tf.data.experimental.AUTOTUNE)"
      ],
      "metadata": {
        "id": "89n8pwb8g3CI"
      },
      "execution_count": 101,
      "outputs": []
    },
    {
      "cell_type": "code",
      "source": [
        "len(tst_dataset)"
      ],
      "metadata": {
        "colab": {
          "base_uri": "https://localhost:8080/"
        },
        "id": "qz9-KtxZJjXC",
        "outputId": "fb7ac973-4329-48c5-e178-ab4610b7ea26"
      },
      "execution_count": 102,
      "outputs": [
        {
          "output_type": "execute_result",
          "data": {
            "text/plain": [
              "8"
            ]
          },
          "metadata": {},
          "execution_count": 102
        }
      ]
    },
    {
      "cell_type": "code",
      "source": [
        "def decode_tst_set(tst_dataset):\n",
        "    y_preds = []\n",
        "\n",
        "    with tf.device('/GPU:0'):\n",
        "        for idx, p in enumerate(tst_dataset.take(len(tst_dataset))):\n",
        "            y_preds.append(decoder_inference_batch(p))\n",
        "\n",
        "    for i in range(8):\n",
        "        if not i:\n",
        "            preds = y_preds[i]\n",
        "        else:\n",
        "            preds = np.concatenate((preds, y_preds[i]),axis=0)\n",
        "    \n",
        "    y_pred_processed = [x[2:] for x in preds]\n",
        "    y_pred_processed = [[s for s in x if s!=2]  for x in y_pred_processed]\n",
        "    return y_pred_processed"
      ],
      "metadata": {
        "id": "60QSA1Tos-pl"
      },
      "execution_count": null,
      "outputs": []
    },
    {
      "cell_type": "code",
      "source": [
        "y_pred_processed = decode_tst_set(tst_dataset)"
      ],
      "metadata": {
        "id": "Nafj_d6OvH9Z"
      },
      "execution_count": null,
      "outputs": []
    },
    {
      "cell_type": "markdown",
      "source": [
        "# Inference 결과\n",
        "Sentencepiece로 재 토큰화한 sequence의 inference 결과는 다음과 같습니다.\n",
        "![image.png](data:image/png;base64,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)"
      ],
      "metadata": {
        "id": "e65BIUprs0kE"
      }
    },
    {
      "cell_type": "code",
      "source": [
        "tst_res = pd.DataFrame()\n",
        "label_seq = [s[1:] for s in tst_combined.test_re_tok_tgt]\n",
        "\n",
        "tst_res['label_seq'] = label_seq\n",
        "tst_res['input_seq'] = x_data_tst\n",
        "tst_res['pred_seq_processed'] = y_pred_processed"
      ],
      "metadata": {
        "id": "gIGMaAQwRtaa"
      },
      "execution_count": 138,
      "outputs": []
    },
    {
      "cell_type": "code",
      "source": [
        "tst_res"
      ],
      "metadata": {
        "colab": {
          "base_uri": "https://localhost:8080/",
          "height": 424
        },
        "id": "Aq2IX6WiTH0N",
        "outputId": "ffb518e1-6802-4080-b611-3948c34b9adc"
      },
      "execution_count": 139,
      "outputs": [
        {
          "output_type": "execute_result",
          "data": {
            "text/plain": [
              "                                              label_seq  \\\n",
              "0     [7, 4, 95, 114, 14, 4, 52, 4, 6, 4, 887, 130, ...   \n",
              "1            [7, 4, 93, 4, 8, 4, 690, 4, 13, 4, 26, 86]   \n",
              "2              [63, 83, 784, 4, 19, 491, 24, 1030, 705]   \n",
              "3                                              [26, 11]   \n",
              "4                                    [133, 103, 4, 240]   \n",
              "...                                                 ...   \n",
              "1995                                  [251, 49, 4, 427]   \n",
              "1996                                          [403, 11]   \n",
              "1997                    [6, 4, 400, 950, 4, 13, 4, 419]   \n",
              "1998                [17, 4, 9, 4, 375, 469, 40, 4, 769]   \n",
              "1999                                       [39, 4, 410]   \n",
              "\n",
              "                                              input_seq  \\\n",
              "0     [1136, 4, 1154, 1259, 1107, 4, 1197, 4, 1108, ...   \n",
              "1     [1136, 4, 1240, 4, 1126, 4, 1128, 1195, 4, 113...   \n",
              "2     [1106, 1139, 1113, 1203, 1150, 1114, 1154, 4, ...   \n",
              "3                     [1106, 1117, 1105, 1172, 1105, 2]   \n",
              "4     [1106, 1118, 1122, 1110, 1107, 1105, 1222, 4, ...   \n",
              "...                                                 ...   \n",
              "1995         [1106, 1117, 1203, 1105, 4, 1174, 1138, 2]   \n",
              "1996                              [1106, 1134, 1172, 2]   \n",
              "1997  [1106, 1108, 4, 1113, 1127, 1116, 1152, 1137, ...   \n",
              "1998  [1175, 4, 1119, 4, 1105, 1118, 1227, 1128, 112...   \n",
              "1999               [1136, 1191, 4, 1152, 1113, 1109, 2]   \n",
              "\n",
              "                                     pred_seq_processed  \n",
              "0     [7, 4, 95, 114, 14, 4, 52, 4, 6, 4, 270, 11, 4...  \n",
              "1               [7, 4, 93, 4, 8, 4, 690, 4, 13, 4, 798]  \n",
              "2                        [671, 4, 19, 11, 11, 291, 152]  \n",
              "3                                              [26, 11]  \n",
              "4                                    [133, 103, 4, 240]  \n",
              "...                                                 ...  \n",
              "1995                                  [251, 49, 4, 427]  \n",
              "1996                                              [423]  \n",
              "1997                    [6, 4, 400, 950, 4, 13, 4, 419]  \n",
              "1998                [17, 4, 9, 4, 375, 469, 40, 4, 437]  \n",
              "1999                                [39, 4, 410, 4, 39]  \n",
              "\n",
              "[2000 rows x 3 columns]"
            ],
            "text/html": [
              "\n",
              "  <div id=\"df-690a467a-71fc-4255-82d7-d11b393c6485\">\n",
              "    <div class=\"colab-df-container\">\n",
              "      <div>\n",
              "<style scoped>\n",
              "    .dataframe tbody tr th:only-of-type {\n",
              "        vertical-align: middle;\n",
              "    }\n",
              "\n",
              "    .dataframe tbody tr th {\n",
              "        vertical-align: top;\n",
              "    }\n",
              "\n",
              "    .dataframe thead th {\n",
              "        text-align: right;\n",
              "    }\n",
              "</style>\n",
              "<table border=\"1\" class=\"dataframe\">\n",
              "  <thead>\n",
              "    <tr style=\"text-align: right;\">\n",
              "      <th></th>\n",
              "      <th>label_seq</th>\n",
              "      <th>input_seq</th>\n",
              "      <th>pred_seq_processed</th>\n",
              "    </tr>\n",
              "  </thead>\n",
              "  <tbody>\n",
              "    <tr>\n",
              "      <th>0</th>\n",
              "      <td>[7, 4, 95, 114, 14, 4, 52, 4, 6, 4, 887, 130, ...</td>\n",
              "      <td>[1136, 4, 1154, 1259, 1107, 4, 1197, 4, 1108, ...</td>\n",
              "      <td>[7, 4, 95, 114, 14, 4, 52, 4, 6, 4, 270, 11, 4...</td>\n",
              "    </tr>\n",
              "    <tr>\n",
              "      <th>1</th>\n",
              "      <td>[7, 4, 93, 4, 8, 4, 690, 4, 13, 4, 26, 86]</td>\n",
              "      <td>[1136, 4, 1240, 4, 1126, 4, 1128, 1195, 4, 113...</td>\n",
              "      <td>[7, 4, 93, 4, 8, 4, 690, 4, 13, 4, 798]</td>\n",
              "    </tr>\n",
              "    <tr>\n",
              "      <th>2</th>\n",
              "      <td>[63, 83, 784, 4, 19, 491, 24, 1030, 705]</td>\n",
              "      <td>[1106, 1139, 1113, 1203, 1150, 1114, 1154, 4, ...</td>\n",
              "      <td>[671, 4, 19, 11, 11, 291, 152]</td>\n",
              "    </tr>\n",
              "    <tr>\n",
              "      <th>3</th>\n",
              "      <td>[26, 11]</td>\n",
              "      <td>[1106, 1117, 1105, 1172, 1105, 2]</td>\n",
              "      <td>[26, 11]</td>\n",
              "    </tr>\n",
              "    <tr>\n",
              "      <th>4</th>\n",
              "      <td>[133, 103, 4, 240]</td>\n",
              "      <td>[1106, 1118, 1122, 1110, 1107, 1105, 1222, 4, ...</td>\n",
              "      <td>[133, 103, 4, 240]</td>\n",
              "    </tr>\n",
              "    <tr>\n",
              "      <th>...</th>\n",
              "      <td>...</td>\n",
              "      <td>...</td>\n",
              "      <td>...</td>\n",
              "    </tr>\n",
              "    <tr>\n",
              "      <th>1995</th>\n",
              "      <td>[251, 49, 4, 427]</td>\n",
              "      <td>[1106, 1117, 1203, 1105, 4, 1174, 1138, 2]</td>\n",
              "      <td>[251, 49, 4, 427]</td>\n",
              "    </tr>\n",
              "    <tr>\n",
              "      <th>1996</th>\n",
              "      <td>[403, 11]</td>\n",
              "      <td>[1106, 1134, 1172, 2]</td>\n",
              "      <td>[423]</td>\n",
              "    </tr>\n",
              "    <tr>\n",
              "      <th>1997</th>\n",
              "      <td>[6, 4, 400, 950, 4, 13, 4, 419]</td>\n",
              "      <td>[1106, 1108, 4, 1113, 1127, 1116, 1152, 1137, ...</td>\n",
              "      <td>[6, 4, 400, 950, 4, 13, 4, 419]</td>\n",
              "    </tr>\n",
              "    <tr>\n",
              "      <th>1998</th>\n",
              "      <td>[17, 4, 9, 4, 375, 469, 40, 4, 769]</td>\n",
              "      <td>[1175, 4, 1119, 4, 1105, 1118, 1227, 1128, 112...</td>\n",
              "      <td>[17, 4, 9, 4, 375, 469, 40, 4, 437]</td>\n",
              "    </tr>\n",
              "    <tr>\n",
              "      <th>1999</th>\n",
              "      <td>[39, 4, 410]</td>\n",
              "      <td>[1136, 1191, 4, 1152, 1113, 1109, 2]</td>\n",
              "      <td>[39, 4, 410, 4, 39]</td>\n",
              "    </tr>\n",
              "  </tbody>\n",
              "</table>\n",
              "<p>2000 rows × 3 columns</p>\n",
              "</div>\n",
              "      <button class=\"colab-df-convert\" onclick=\"convertToInteractive('df-690a467a-71fc-4255-82d7-d11b393c6485')\"\n",
              "              title=\"Convert this dataframe to an interactive table.\"\n",
              "              style=\"display:none;\">\n",
              "        \n",
              "  <svg xmlns=\"http://www.w3.org/2000/svg\" height=\"24px\"viewBox=\"0 0 24 24\"\n",
              "       width=\"24px\">\n",
              "    <path d=\"M0 0h24v24H0V0z\" fill=\"none\"/>\n",
              "    <path d=\"M18.56 5.44l.94 2.06.94-2.06 2.06-.94-2.06-.94-.94-2.06-.94 2.06-2.06.94zm-11 1L8.5 8.5l.94-2.06 2.06-.94-2.06-.94L8.5 2.5l-.94 2.06-2.06.94zm10 10l.94 2.06.94-2.06 2.06-.94-2.06-.94-.94-2.06-.94 2.06-2.06.94z\"/><path d=\"M17.41 7.96l-1.37-1.37c-.4-.4-.92-.59-1.43-.59-.52 0-1.04.2-1.43.59L10.3 9.45l-7.72 7.72c-.78.78-.78 2.05 0 2.83L4 21.41c.39.39.9.59 1.41.59.51 0 1.02-.2 1.41-.59l7.78-7.78 2.81-2.81c.8-.78.8-2.07 0-2.86zM5.41 20L4 18.59l7.72-7.72 1.47 1.35L5.41 20z\"/>\n",
              "  </svg>\n",
              "      </button>\n",
              "      \n",
              "  <style>\n",
              "    .colab-df-container {\n",
              "      display:flex;\n",
              "      flex-wrap:wrap;\n",
              "      gap: 12px;\n",
              "    }\n",
              "\n",
              "    .colab-df-convert {\n",
              "      background-color: #E8F0FE;\n",
              "      border: none;\n",
              "      border-radius: 50%;\n",
              "      cursor: pointer;\n",
              "      display: none;\n",
              "      fill: #1967D2;\n",
              "      height: 32px;\n",
              "      padding: 0 0 0 0;\n",
              "      width: 32px;\n",
              "    }\n",
              "\n",
              "    .colab-df-convert:hover {\n",
              "      background-color: #E2EBFA;\n",
              "      box-shadow: 0px 1px 2px rgba(60, 64, 67, 0.3), 0px 1px 3px 1px rgba(60, 64, 67, 0.15);\n",
              "      fill: #174EA6;\n",
              "    }\n",
              "\n",
              "    [theme=dark] .colab-df-convert {\n",
              "      background-color: #3B4455;\n",
              "      fill: #D2E3FC;\n",
              "    }\n",
              "\n",
              "    [theme=dark] .colab-df-convert:hover {\n",
              "      background-color: #434B5C;\n",
              "      box-shadow: 0px 1px 3px 1px rgba(0, 0, 0, 0.15);\n",
              "      filter: drop-shadow(0px 1px 2px rgba(0, 0, 0, 0.3));\n",
              "      fill: #FFFFFF;\n",
              "    }\n",
              "  </style>\n",
              "\n",
              "      <script>\n",
              "        const buttonEl =\n",
              "          document.querySelector('#df-690a467a-71fc-4255-82d7-d11b393c6485 button.colab-df-convert');\n",
              "        buttonEl.style.display =\n",
              "          google.colab.kernel.accessAllowed ? 'block' : 'none';\n",
              "\n",
              "        async function convertToInteractive(key) {\n",
              "          const element = document.querySelector('#df-690a467a-71fc-4255-82d7-d11b393c6485');\n",
              "          const dataTable =\n",
              "            await google.colab.kernel.invokeFunction('convertToInteractive',\n",
              "                                                     [key], {});\n",
              "          if (!dataTable) return;\n",
              "\n",
              "          const docLinkHtml = 'Like what you see? Visit the ' +\n",
              "            '<a target=\"_blank\" href=https://colab.research.google.com/notebooks/data_table.ipynb>data table notebook</a>'\n",
              "            + ' to learn more about interactive tables.';\n",
              "          element.innerHTML = '';\n",
              "          dataTable['output_type'] = 'display_data';\n",
              "          await google.colab.output.renderOutput(dataTable, element);\n",
              "          const docLink = document.createElement('div');\n",
              "          docLink.innerHTML = docLinkHtml;\n",
              "          element.appendChild(docLink);\n",
              "        }\n",
              "      </script>\n",
              "    </div>\n",
              "  </div>\n",
              "  "
            ]
          },
          "metadata": {},
          "execution_count": 139
        }
      ]
    },
    {
      "cell_type": "markdown",
      "source": [
        "# Metric\n",
        "metric으로 `gold_accuracy`와 `rouge-2`, `rouge-l`을 사용했습니다. \n",
        "\n",
        "`gold_accuracy`는 label과 pred가 완전히 일치할 확률입니다.\n",
        "\n",
        "'rouge'는 recall 기반의 metric으로, **label**에 있는 token이 pred에 있는 정도를 측정합니다. `rouge-2`의 경우, label에 존재하는 bigram이 pred에도 존재할 비율이고, `rouge-l`은 최장 공통 subsequence와 label의 길이의 비율입니다.\n",
        "\n",
        "최종 결과는 다음과 같습니다.\n",
        "\n",
        "| model | Gold_acc | Rouge-2 | Rouge-l |\n",
        "|---|---|---|---|\n",
        "| transformer + SentencePiece | 0.315 | 0.748 | 0.818 |"
      ],
      "metadata": {
        "id": "c2IDyAXBPagx"
      }
    },
    {
      "cell_type": "code",
      "source": [
        "tst_res['org_pred'] = [revert_tokenize(x, sp_tgt) for x in y_pred_processed]"
      ],
      "metadata": {
        "id": "XeqT0i3JB9T8"
      },
      "execution_count": 178,
      "outputs": []
    },
    {
      "cell_type": "code",
      "source": [
        "final_res = pd.DataFrame()\n",
        "final_res['label'] = tst_combined['test_target']\n",
        "final_res['pred'] = tst_res['org_pred']"
      ],
      "metadata": {
        "id": "v-QFcW3tCa9a"
      },
      "execution_count": 179,
      "outputs": []
    },
    {
      "cell_type": "markdown",
      "source": [
        "## Gold accuracy"
      ],
      "metadata": {
        "id": "eVtj_wAItrsA"
      }
    },
    {
      "cell_type": "code",
      "source": [
        "def gold_accuracy(y_true, y_pred):\n",
        "    count = 0\n",
        "    corr = 0\n",
        "    for idx, tr in enumerate(y_true):\n",
        "        if len(y_pred[idx]) == len(tr):\n",
        "            if all(x1 == x2 for (x1, x2) in zip(tr, y_pred[idx])):\n",
        "                corr += 1\n",
        "        count += 1\n",
        "    return corr/count"
      ],
      "metadata": {
        "id": "c8hROFna4tcM"
      },
      "execution_count": 151,
      "outputs": []
    },
    {
      "cell_type": "code",
      "source": [
        "gold_accuracy(final_res['label'], final_res['pred'])"
      ],
      "metadata": {
        "colab": {
          "base_uri": "https://localhost:8080/"
        },
        "id": "XaIwsuF8FaOT",
        "outputId": "382b8b10-aa4d-4903-c9f3-2829850b166a"
      },
      "execution_count": 180,
      "outputs": [
        {
          "output_type": "execute_result",
          "data": {
            "text/plain": [
              "0.315"
            ]
          },
          "metadata": {},
          "execution_count": 180
        }
      ]
    },
    {
      "cell_type": "code",
      "source": [
        "final_res"
      ],
      "metadata": {
        "colab": {
          "base_uri": "https://localhost:8080/",
          "height": 424
        },
        "id": "Cb7xmmUcyypq",
        "outputId": "c6b2cf20-3851-45e6-f5fc-99a62c8367f4"
      },
      "execution_count": 181,
      "outputs": [
        {
          "output_type": "execute_result",
          "data": {
            "text/plain": [
              "                                                  label  \\\n",
              "0     [607, 158, 68, 135, 503, 158, 108, 68, 347, 50...   \n",
              "1     [607, 158, 68, 82, 152, 68, 569, 68, 321, 155,...   \n",
              "2     [607, 222, 4, 285, 68, 430, 59, 517, 115, 158,...   \n",
              "3                                             [211, 85]   \n",
              "4                          [565, 415, 211, 68, 85, 632]   \n",
              "...                                                 ...   \n",
              "1995                  [550, 158, 240, 68, 531, 85, 359]   \n",
              "1996                                          [408, 85]   \n",
              "1997  [189, 68, 136, 158, 386, 68, 158, 108, 68, 237...   \n",
              "1998       [370, 68, 5, 68, 425, 15, 158, 68, 211, 450]   \n",
              "1999                                 [339, 551, 68, 11]   \n",
              "\n",
              "                                                   pred  \n",
              "0     [607, 158, 68, 135, 503, 158, 108, 68, 347, 50...  \n",
              "1     [607, 158, 68, 82, 152, 68, 569, 68, 321, 155,...  \n",
              "2     [189, 550, 158, 25, 68, 430, 85, 85, 389, 158,...  \n",
              "3                                             [211, 85]  \n",
              "4                          [565, 415, 211, 68, 85, 632]  \n",
              "...                                                 ...  \n",
              "1995                  [550, 158, 240, 68, 531, 85, 359]  \n",
              "1996                                          [164, 85]  \n",
              "1997  [189, 68, 136, 158, 386, 68, 158, 108, 68, 237...  \n",
              "1998       [370, 68, 5, 68, 425, 15, 158, 68, 211, 149]  \n",
              "1999                   [339, 551, 68, 11, 68, 339, 551]  \n",
              "\n",
              "[2000 rows x 2 columns]"
            ],
            "text/html": [
              "\n",
              "  <div id=\"df-ca07625c-6fb5-45a1-a03c-10704a904d0b\">\n",
              "    <div class=\"colab-df-container\">\n",
              "      <div>\n",
              "<style scoped>\n",
              "    .dataframe tbody tr th:only-of-type {\n",
              "        vertical-align: middle;\n",
              "    }\n",
              "\n",
              "    .dataframe tbody tr th {\n",
              "        vertical-align: top;\n",
              "    }\n",
              "\n",
              "    .dataframe thead th {\n",
              "        text-align: right;\n",
              "    }\n",
              "</style>\n",
              "<table border=\"1\" class=\"dataframe\">\n",
              "  <thead>\n",
              "    <tr style=\"text-align: right;\">\n",
              "      <th></th>\n",
              "      <th>label</th>\n",
              "      <th>pred</th>\n",
              "    </tr>\n",
              "  </thead>\n",
              "  <tbody>\n",
              "    <tr>\n",
              "      <th>0</th>\n",
              "      <td>[607, 158, 68, 135, 503, 158, 108, 68, 347, 50...</td>\n",
              "      <td>[607, 158, 68, 135, 503, 158, 108, 68, 347, 50...</td>\n",
              "    </tr>\n",
              "    <tr>\n",
              "      <th>1</th>\n",
              "      <td>[607, 158, 68, 82, 152, 68, 569, 68, 321, 155,...</td>\n",
              "      <td>[607, 158, 68, 82, 152, 68, 569, 68, 321, 155,...</td>\n",
              "    </tr>\n",
              "    <tr>\n",
              "      <th>2</th>\n",
              "      <td>[607, 222, 4, 285, 68, 430, 59, 517, 115, 158,...</td>\n",
              "      <td>[189, 550, 158, 25, 68, 430, 85, 85, 389, 158,...</td>\n",
              "    </tr>\n",
              "    <tr>\n",
              "      <th>3</th>\n",
              "      <td>[211, 85]</td>\n",
              "      <td>[211, 85]</td>\n",
              "    </tr>\n",
              "    <tr>\n",
              "      <th>4</th>\n",
              "      <td>[565, 415, 211, 68, 85, 632]</td>\n",
              "      <td>[565, 415, 211, 68, 85, 632]</td>\n",
              "    </tr>\n",
              "    <tr>\n",
              "      <th>...</th>\n",
              "      <td>...</td>\n",
              "      <td>...</td>\n",
              "    </tr>\n",
              "    <tr>\n",
              "      <th>1995</th>\n",
              "      <td>[550, 158, 240, 68, 531, 85, 359]</td>\n",
              "      <td>[550, 158, 240, 68, 531, 85, 359]</td>\n",
              "    </tr>\n",
              "    <tr>\n",
              "      <th>1996</th>\n",
              "      <td>[408, 85]</td>\n",
              "      <td>[164, 85]</td>\n",
              "    </tr>\n",
              "    <tr>\n",
              "      <th>1997</th>\n",
              "      <td>[189, 68, 136, 158, 386, 68, 158, 108, 68, 237...</td>\n",
              "      <td>[189, 68, 136, 158, 386, 68, 158, 108, 68, 237...</td>\n",
              "    </tr>\n",
              "    <tr>\n",
              "      <th>1998</th>\n",
              "      <td>[370, 68, 5, 68, 425, 15, 158, 68, 211, 450]</td>\n",
              "      <td>[370, 68, 5, 68, 425, 15, 158, 68, 211, 149]</td>\n",
              "    </tr>\n",
              "    <tr>\n",
              "      <th>1999</th>\n",
              "      <td>[339, 551, 68, 11]</td>\n",
              "      <td>[339, 551, 68, 11, 68, 339, 551]</td>\n",
              "    </tr>\n",
              "  </tbody>\n",
              "</table>\n",
              "<p>2000 rows × 2 columns</p>\n",
              "</div>\n",
              "      <button class=\"colab-df-convert\" onclick=\"convertToInteractive('df-ca07625c-6fb5-45a1-a03c-10704a904d0b')\"\n",
              "              title=\"Convert this dataframe to an interactive table.\"\n",
              "              style=\"display:none;\">\n",
              "        \n",
              "  <svg xmlns=\"http://www.w3.org/2000/svg\" height=\"24px\"viewBox=\"0 0 24 24\"\n",
              "       width=\"24px\">\n",
              "    <path d=\"M0 0h24v24H0V0z\" fill=\"none\"/>\n",
              "    <path d=\"M18.56 5.44l.94 2.06.94-2.06 2.06-.94-2.06-.94-.94-2.06-.94 2.06-2.06.94zm-11 1L8.5 8.5l.94-2.06 2.06-.94-2.06-.94L8.5 2.5l-.94 2.06-2.06.94zm10 10l.94 2.06.94-2.06 2.06-.94-2.06-.94-.94-2.06-.94 2.06-2.06.94z\"/><path d=\"M17.41 7.96l-1.37-1.37c-.4-.4-.92-.59-1.43-.59-.52 0-1.04.2-1.43.59L10.3 9.45l-7.72 7.72c-.78.78-.78 2.05 0 2.83L4 21.41c.39.39.9.59 1.41.59.51 0 1.02-.2 1.41-.59l7.78-7.78 2.81-2.81c.8-.78.8-2.07 0-2.86zM5.41 20L4 18.59l7.72-7.72 1.47 1.35L5.41 20z\"/>\n",
              "  </svg>\n",
              "      </button>\n",
              "      \n",
              "  <style>\n",
              "    .colab-df-container {\n",
              "      display:flex;\n",
              "      flex-wrap:wrap;\n",
              "      gap: 12px;\n",
              "    }\n",
              "\n",
              "    .colab-df-convert {\n",
              "      background-color: #E8F0FE;\n",
              "      border: none;\n",
              "      border-radius: 50%;\n",
              "      cursor: pointer;\n",
              "      display: none;\n",
              "      fill: #1967D2;\n",
              "      height: 32px;\n",
              "      padding: 0 0 0 0;\n",
              "      width: 32px;\n",
              "    }\n",
              "\n",
              "    .colab-df-convert:hover {\n",
              "      background-color: #E2EBFA;\n",
              "      box-shadow: 0px 1px 2px rgba(60, 64, 67, 0.3), 0px 1px 3px 1px rgba(60, 64, 67, 0.15);\n",
              "      fill: #174EA6;\n",
              "    }\n",
              "\n",
              "    [theme=dark] .colab-df-convert {\n",
              "      background-color: #3B4455;\n",
              "      fill: #D2E3FC;\n",
              "    }\n",
              "\n",
              "    [theme=dark] .colab-df-convert:hover {\n",
              "      background-color: #434B5C;\n",
              "      box-shadow: 0px 1px 3px 1px rgba(0, 0, 0, 0.15);\n",
              "      filter: drop-shadow(0px 1px 2px rgba(0, 0, 0, 0.3));\n",
              "      fill: #FFFFFF;\n",
              "    }\n",
              "  </style>\n",
              "\n",
              "      <script>\n",
              "        const buttonEl =\n",
              "          document.querySelector('#df-ca07625c-6fb5-45a1-a03c-10704a904d0b button.colab-df-convert');\n",
              "        buttonEl.style.display =\n",
              "          google.colab.kernel.accessAllowed ? 'block' : 'none';\n",
              "\n",
              "        async function convertToInteractive(key) {\n",
              "          const element = document.querySelector('#df-ca07625c-6fb5-45a1-a03c-10704a904d0b');\n",
              "          const dataTable =\n",
              "            await google.colab.kernel.invokeFunction('convertToInteractive',\n",
              "                                                     [key], {});\n",
              "          if (!dataTable) return;\n",
              "\n",
              "          const docLinkHtml = 'Like what you see? Visit the ' +\n",
              "            '<a target=\"_blank\" href=https://colab.research.google.com/notebooks/data_table.ipynb>data table notebook</a>'\n",
              "            + ' to learn more about interactive tables.';\n",
              "          element.innerHTML = '';\n",
              "          dataTable['output_type'] = 'display_data';\n",
              "          await google.colab.output.renderOutput(dataTable, element);\n",
              "          const docLink = document.createElement('div');\n",
              "          docLink.innerHTML = docLinkHtml;\n",
              "          element.appendChild(docLink);\n",
              "        }\n",
              "      </script>\n",
              "    </div>\n",
              "  </div>\n",
              "  "
            ]
          },
          "metadata": {},
          "execution_count": 181
        }
      ]
    },
    {
      "cell_type": "code",
      "source": [
        "final_res.to_csv(PATH+'/spm_transformer315.txt', index=False, sep='\\t')"
      ],
      "metadata": {
        "id": "RggJfvTsFqLI"
      },
      "execution_count": 182,
      "outputs": []
    },
    {
      "cell_type": "markdown",
      "source": [
        "## Rouge"
      ],
      "metadata": {
        "id": "az1D9Wz-znV_"
      }
    },
    {
      "cell_type": "code",
      "source": [
        "pip install rouge"
      ],
      "metadata": {
        "colab": {
          "base_uri": "https://localhost:8080/"
        },
        "id": "nE9oRAuq6en5",
        "outputId": "ac7ff5ae-0b3e-4f38-fb63-d4281ce62dd1"
      },
      "execution_count": 186,
      "outputs": [
        {
          "output_type": "stream",
          "name": "stdout",
          "text": [
            "Collecting rouge\n",
            "  Downloading rouge-1.0.1-py3-none-any.whl (13 kB)\n",
            "Requirement already satisfied: six in /usr/local/lib/python3.7/dist-packages (from rouge) (1.15.0)\n",
            "Installing collected packages: rouge\n",
            "Successfully installed rouge-1.0.1\n"
          ]
        }
      ]
    },
    {
      "cell_type": "code",
      "source": [
        "from rouge import Rouge\n",
        "\n",
        "model_out = [\"he began by starting a five person war cabinet and included chamberlain as lord president of the council\",\n",
        "             \"the siege lasted from 250 to 241 bc, the romans laid siege to lilybaeum\",\n",
        "             \"the original ocean water was found in aquaculture\"]\n",
        "\n",
        "reference = [\"he began his premiership by forming a five-man war cabinet which included chamberlain as lord president of the council\",\n",
        "             \"the siege of lilybaeum lasted from 250 to 241 bc, as the roman army laid siege to the carthaginian-held sicilian city of lilybaeum\",\n",
        "             \"the original mission was for research into the uses of deep ocean water in ocean thermal energy conversion (otec) renewable energy production and in aquaculture\"]\n",
        "rouge = Rouge()\n",
        "rouge.get_scores(model_out, reference, avg=True)"
      ],
      "metadata": {
        "colab": {
          "base_uri": "https://localhost:8080/"
        },
        "id": "V8tsQpK45mPX",
        "outputId": "646a44f5-923e-4165-9f63-aacf0dc8fba9"
      },
      "execution_count": 188,
      "outputs": [
        {
          "output_type": "execute_result",
          "data": {
            "text/plain": [
              "{'rouge-1': {'f': 0.6512670259900423,\n",
              "  'p': 0.8539562289562289,\n",
              "  'r': 0.5528035775713794},\n",
              " 'rouge-2': {'f': 0.3928074411537155,\n",
              "  'p': 0.5244559362206421,\n",
              "  'r': 0.3353174603174603},\n",
              " 'rouge-l': {'f': 0.6282785202429159,\n",
              "  'p': 0.8122895622895623,\n",
              "  'r': 0.5369305616983636}}"
            ]
          },
          "metadata": {},
          "execution_count": 188
        }
      ]
    },
    {
      "cell_type": "markdown",
      "source": [
        "글자로 변형하여 rouge score를 계산합니다."
      ],
      "metadata": {
        "id": "5VLpOxwL7CIu"
      }
    },
    {
      "cell_type": "code",
      "source": [
        "def calc_rouge(pred, refer):\n",
        "    if not pred:\n",
        "        return [0, 0]\n",
        "    pred = ' '.join([chr(x+0xAC00) for x in pred])\n",
        "    refer = ' '.join([chr(x+0xAC00) for x in refer])\n",
        "    scores = rouge.get_scores([pred], [refer], avg=True)\n",
        "    rouge_2_score = scores['rouge-2']['r']\n",
        "    rouge_l_score = scores['rouge-l']['r']\n",
        "    return [rouge_2_score, rouge_l_score]"
      ],
      "metadata": {
        "id": "xehkbkKL7KWd"
      },
      "execution_count": 200,
      "outputs": []
    },
    {
      "cell_type": "code",
      "source": [
        "rouge_scores = final_res.apply(lambda x: calc_rouge(x['pred'], x['label']), axis=1)"
      ],
      "metadata": {
        "id": "RC7JVFbp8_Mj"
      },
      "execution_count": 201,
      "outputs": []
    },
    {
      "cell_type": "code",
      "source": [
        "final_res['rouge_2'] = [x[0] for x in rouge_scores]\n",
        "final_res['rouge_l'] = [x[1] for x in rouge_scores]\n",
        "final_res"
      ],
      "metadata": {
        "colab": {
          "base_uri": "https://localhost:8080/",
          "height": 668
        },
        "id": "lGOah9-W8_D7",
        "outputId": "7ebc79c2-566d-4bec-d2f1-d19b80f567ff"
      },
      "execution_count": 204,
      "outputs": [
        {
          "output_type": "execute_result",
          "data": {
            "text/plain": [
              "                                                  label  \\\n",
              "0     [607, 158, 68, 135, 503, 158, 108, 68, 347, 50...   \n",
              "1     [607, 158, 68, 82, 152, 68, 569, 68, 321, 155,...   \n",
              "2     [607, 222, 4, 285, 68, 430, 59, 517, 115, 158,...   \n",
              "3                                             [211, 85]   \n",
              "4                          [565, 415, 211, 68, 85, 632]   \n",
              "...                                                 ...   \n",
              "1995                  [550, 158, 240, 68, 531, 85, 359]   \n",
              "1996                                          [408, 85]   \n",
              "1997  [189, 68, 136, 158, 386, 68, 158, 108, 68, 237...   \n",
              "1998       [370, 68, 5, 68, 425, 15, 158, 68, 211, 450]   \n",
              "1999                                 [339, 551, 68, 11]   \n",
              "\n",
              "                                                   pred   rouge_2   rouge_l  \n",
              "0     [607, 158, 68, 135, 503, 158, 108, 68, 347, 50...  0.880000  0.888889  \n",
              "1     [607, 158, 68, 82, 152, 68, 569, 68, 321, 155,...  0.866667  0.818182  \n",
              "2     [189, 550, 158, 25, 68, 430, 85, 85, 389, 158,...  0.200000  0.363636  \n",
              "3                                             [211, 85]  1.000000  1.000000  \n",
              "4                          [565, 415, 211, 68, 85, 632]  1.000000  1.000000  \n",
              "...                                                 ...       ...       ...  \n",
              "1995                  [550, 158, 240, 68, 531, 85, 359]  1.000000  1.000000  \n",
              "1996                                          [164, 85]  0.000000  0.500000  \n",
              "1997  [189, 68, 136, 158, 386, 68, 158, 108, 68, 237...  1.000000  1.000000  \n",
              "1998       [370, 68, 5, 68, 425, 15, 158, 68, 211, 149]  0.888889  0.875000  \n",
              "1999                   [339, 551, 68, 11, 68, 339, 551]  1.000000  1.000000  \n",
              "\n",
              "[2000 rows x 4 columns]"
            ],
            "text/html": [
              "\n",
              "  <div id=\"df-331f0e50-caa1-486a-a7c0-9213bbefa07e\">\n",
              "    <div class=\"colab-df-container\">\n",
              "      <div>\n",
              "<style scoped>\n",
              "    .dataframe tbody tr th:only-of-type {\n",
              "        vertical-align: middle;\n",
              "    }\n",
              "\n",
              "    .dataframe tbody tr th {\n",
              "        vertical-align: top;\n",
              "    }\n",
              "\n",
              "    .dataframe thead th {\n",
              "        text-align: right;\n",
              "    }\n",
              "</style>\n",
              "<table border=\"1\" class=\"dataframe\">\n",
              "  <thead>\n",
              "    <tr style=\"text-align: right;\">\n",
              "      <th></th>\n",
              "      <th>label</th>\n",
              "      <th>pred</th>\n",
              "      <th>rouge_2</th>\n",
              "      <th>rouge_l</th>\n",
              "    </tr>\n",
              "  </thead>\n",
              "  <tbody>\n",
              "    <tr>\n",
              "      <th>0</th>\n",
              "      <td>[607, 158, 68, 135, 503, 158, 108, 68, 347, 50...</td>\n",
              "      <td>[607, 158, 68, 135, 503, 158, 108, 68, 347, 50...</td>\n",
              "      <td>0.880000</td>\n",
              "      <td>0.888889</td>\n",
              "    </tr>\n",
              "    <tr>\n",
              "      <th>1</th>\n",
              "      <td>[607, 158, 68, 82, 152, 68, 569, 68, 321, 155,...</td>\n",
              "      <td>[607, 158, 68, 82, 152, 68, 569, 68, 321, 155,...</td>\n",
              "      <td>0.866667</td>\n",
              "      <td>0.818182</td>\n",
              "    </tr>\n",
              "    <tr>\n",
              "      <th>2</th>\n",
              "      <td>[607, 222, 4, 285, 68, 430, 59, 517, 115, 158,...</td>\n",
              "      <td>[189, 550, 158, 25, 68, 430, 85, 85, 389, 158,...</td>\n",
              "      <td>0.200000</td>\n",
              "      <td>0.363636</td>\n",
              "    </tr>\n",
              "    <tr>\n",
              "      <th>3</th>\n",
              "      <td>[211, 85]</td>\n",
              "      <td>[211, 85]</td>\n",
              "      <td>1.000000</td>\n",
              "      <td>1.000000</td>\n",
              "    </tr>\n",
              "    <tr>\n",
              "      <th>4</th>\n",
              "      <td>[565, 415, 211, 68, 85, 632]</td>\n",
              "      <td>[565, 415, 211, 68, 85, 632]</td>\n",
              "      <td>1.000000</td>\n",
              "      <td>1.000000</td>\n",
              "    </tr>\n",
              "    <tr>\n",
              "      <th>...</th>\n",
              "      <td>...</td>\n",
              "      <td>...</td>\n",
              "      <td>...</td>\n",
              "      <td>...</td>\n",
              "    </tr>\n",
              "    <tr>\n",
              "      <th>1995</th>\n",
              "      <td>[550, 158, 240, 68, 531, 85, 359]</td>\n",
              "      <td>[550, 158, 240, 68, 531, 85, 359]</td>\n",
              "      <td>1.000000</td>\n",
              "      <td>1.000000</td>\n",
              "    </tr>\n",
              "    <tr>\n",
              "      <th>1996</th>\n",
              "      <td>[408, 85]</td>\n",
              "      <td>[164, 85]</td>\n",
              "      <td>0.000000</td>\n",
              "      <td>0.500000</td>\n",
              "    </tr>\n",
              "    <tr>\n",
              "      <th>1997</th>\n",
              "      <td>[189, 68, 136, 158, 386, 68, 158, 108, 68, 237...</td>\n",
              "      <td>[189, 68, 136, 158, 386, 68, 158, 108, 68, 237...</td>\n",
              "      <td>1.000000</td>\n",
              "      <td>1.000000</td>\n",
              "    </tr>\n",
              "    <tr>\n",
              "      <th>1998</th>\n",
              "      <td>[370, 68, 5, 68, 425, 15, 158, 68, 211, 450]</td>\n",
              "      <td>[370, 68, 5, 68, 425, 15, 158, 68, 211, 149]</td>\n",
              "      <td>0.888889</td>\n",
              "      <td>0.875000</td>\n",
              "    </tr>\n",
              "    <tr>\n",
              "      <th>1999</th>\n",
              "      <td>[339, 551, 68, 11]</td>\n",
              "      <td>[339, 551, 68, 11, 68, 339, 551]</td>\n",
              "      <td>1.000000</td>\n",
              "      <td>1.000000</td>\n",
              "    </tr>\n",
              "  </tbody>\n",
              "</table>\n",
              "<p>2000 rows × 4 columns</p>\n",
              "</div>\n",
              "      <button class=\"colab-df-convert\" onclick=\"convertToInteractive('df-331f0e50-caa1-486a-a7c0-9213bbefa07e')\"\n",
              "              title=\"Convert this dataframe to an interactive table.\"\n",
              "              style=\"display:none;\">\n",
              "        \n",
              "  <svg xmlns=\"http://www.w3.org/2000/svg\" height=\"24px\"viewBox=\"0 0 24 24\"\n",
              "       width=\"24px\">\n",
              "    <path d=\"M0 0h24v24H0V0z\" fill=\"none\"/>\n",
              "    <path d=\"M18.56 5.44l.94 2.06.94-2.06 2.06-.94-2.06-.94-.94-2.06-.94 2.06-2.06.94zm-11 1L8.5 8.5l.94-2.06 2.06-.94-2.06-.94L8.5 2.5l-.94 2.06-2.06.94zm10 10l.94 2.06.94-2.06 2.06-.94-2.06-.94-.94-2.06-.94 2.06-2.06.94z\"/><path d=\"M17.41 7.96l-1.37-1.37c-.4-.4-.92-.59-1.43-.59-.52 0-1.04.2-1.43.59L10.3 9.45l-7.72 7.72c-.78.78-.78 2.05 0 2.83L4 21.41c.39.39.9.59 1.41.59.51 0 1.02-.2 1.41-.59l7.78-7.78 2.81-2.81c.8-.78.8-2.07 0-2.86zM5.41 20L4 18.59l7.72-7.72 1.47 1.35L5.41 20z\"/>\n",
              "  </svg>\n",
              "      </button>\n",
              "      \n",
              "  <style>\n",
              "    .colab-df-container {\n",
              "      display:flex;\n",
              "      flex-wrap:wrap;\n",
              "      gap: 12px;\n",
              "    }\n",
              "\n",
              "    .colab-df-convert {\n",
              "      background-color: #E8F0FE;\n",
              "      border: none;\n",
              "      border-radius: 50%;\n",
              "      cursor: pointer;\n",
              "      display: none;\n",
              "      fill: #1967D2;\n",
              "      height: 32px;\n",
              "      padding: 0 0 0 0;\n",
              "      width: 32px;\n",
              "    }\n",
              "\n",
              "    .colab-df-convert:hover {\n",
              "      background-color: #E2EBFA;\n",
              "      box-shadow: 0px 1px 2px rgba(60, 64, 67, 0.3), 0px 1px 3px 1px rgba(60, 64, 67, 0.15);\n",
              "      fill: #174EA6;\n",
              "    }\n",
              "\n",
              "    [theme=dark] .colab-df-convert {\n",
              "      background-color: #3B4455;\n",
              "      fill: #D2E3FC;\n",
              "    }\n",
              "\n",
              "    [theme=dark] .colab-df-convert:hover {\n",
              "      background-color: #434B5C;\n",
              "      box-shadow: 0px 1px 3px 1px rgba(0, 0, 0, 0.15);\n",
              "      filter: drop-shadow(0px 1px 2px rgba(0, 0, 0, 0.3));\n",
              "      fill: #FFFFFF;\n",
              "    }\n",
              "  </style>\n",
              "\n",
              "      <script>\n",
              "        const buttonEl =\n",
              "          document.querySelector('#df-331f0e50-caa1-486a-a7c0-9213bbefa07e button.colab-df-convert');\n",
              "        buttonEl.style.display =\n",
              "          google.colab.kernel.accessAllowed ? 'block' : 'none';\n",
              "\n",
              "        async function convertToInteractive(key) {\n",
              "          const element = document.querySelector('#df-331f0e50-caa1-486a-a7c0-9213bbefa07e');\n",
              "          const dataTable =\n",
              "            await google.colab.kernel.invokeFunction('convertToInteractive',\n",
              "                                                     [key], {});\n",
              "          if (!dataTable) return;\n",
              "\n",
              "          const docLinkHtml = 'Like what you see? Visit the ' +\n",
              "            '<a target=\"_blank\" href=https://colab.research.google.com/notebooks/data_table.ipynb>data table notebook</a>'\n",
              "            + ' to learn more about interactive tables.';\n",
              "          element.innerHTML = '';\n",
              "          dataTable['output_type'] = 'display_data';\n",
              "          await google.colab.output.renderOutput(dataTable, element);\n",
              "          const docLink = document.createElement('div');\n",
              "          docLink.innerHTML = docLinkHtml;\n",
              "          element.appendChild(docLink);\n",
              "        }\n",
              "      </script>\n",
              "    </div>\n",
              "  </div>\n",
              "  "
            ]
          },
          "metadata": {},
          "execution_count": 204
        }
      ]
    },
    {
      "cell_type": "code",
      "source": [
        "print('Rouge-2 score: ', final_res['rouge_2'].mean())\n",
        "print('Rouge-l score: ', final_res['rouge_l'].mean())"
      ],
      "metadata": {
        "colab": {
          "base_uri": "https://localhost:8080/"
        },
        "id": "tj_ZGpYG_Siw",
        "outputId": "a61e25eb-ef29-4a82-c795-3cd761da2cf2"
      },
      "execution_count": 205,
      "outputs": [
        {
          "output_type": "stream",
          "name": "stdout",
          "text": [
            "Rouge-2 score:  0.7482858663649259\n",
            "Rouge-l score:  0.8180523861598165\n"
          ]
        }
      ]
    }
  ]
}